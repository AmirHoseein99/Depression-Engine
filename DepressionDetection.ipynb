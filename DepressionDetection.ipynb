{
  "cells": [
    {
      "cell_type": "markdown",
      "metadata": {
        "id": "view-in-github",
        "colab_type": "text"
      },
      "source": [
        "<a href=\"https://colab.research.google.com/github/AmirHoseein99/Depression-Engine/blob/master/DepressionDetection.ipynb\" target=\"_parent\"><img src=\"https://colab.research.google.com/assets/colab-badge.svg\" alt=\"Open In Colab\"/></a>"
      ]
    },
    {
      "cell_type": "code",
      "execution_count": null,
      "metadata": {
        "id": "tAb77yZ9fzMG"
      },
      "outputs": [],
      "source": [
        "import os\n",
        "import glob\n",
        "import pickle\n",
        "import logging \n",
        "import sklearn\n",
        "import librosa\n",
        "import itertools\n",
        "import numpy as np\n",
        "import pandas as pd\n",
        "from PIL import Image\n",
        "import librosa.display\n",
        "import tensorflow as tf\n",
        "from tensorflow import keras\n",
        "from scipy.io.wavfile import write\n",
        "from matplotlib import pyplot as plt\n",
        "from keras.utils.vis_utils import plot_model\n",
        "from tensorflow.keras.preprocessing.image import ImageDataGenerator\n",
        "SAMPLR_RATE = 16000\n",
        "! install h5py\n",
        "import h5py"
      ]
    },
    {
      "cell_type": "code",
      "source": [
        "from google.colab import drive\n",
        "drive.mount('/content/drive')"
      ],
      "metadata": {
        "id": "0vX8BNOcf5w8"
      },
      "execution_count": null,
      "outputs": []
    },
    {
      "cell_type": "code",
      "execution_count": null,
      "metadata": {
        "id": "pafL7Li0jyXW"
      },
      "outputs": [],
      "source": [
        "def read_transcript(path):\n",
        "  all_transcripts = {}\n",
        "  all_files = glob.glob(path + \"/*.csv\")\n",
        "  for filename in all_files:\n",
        "    id = int(filename.split(\"/\")[-1].split(\"_\")[0])\n",
        "    transcript = pd.read_csv(filename, sep='\\t')\n",
        "    participants_lines = transcript[transcript.speaker == \"Participant\"][[\"start_time\", \"stop_time\"]]\n",
        "    all_transcripts[id] = participants_lines\n",
        "  return all_transcripts"
      ]
    },
    {
      "cell_type": "code",
      "execution_count": null,
      "metadata": {
        "id": "g2zqAZ2fO2oF"
      },
      "outputs": [],
      "source": [
        "def exctract_participant_lines(path):\n",
        "  all_participants_audios = {}\n",
        "  all_files = glob.glob(path + \"/*.wav\")\n",
        "  for filename in all_files:\n",
        "    a_participant_audio = []\n",
        "    id = int(filename.split(\"/\")[-1].split(\"_\")[0])\n",
        "    audio, _ = librosa.load(filename, sr = SAMPLR_RATE)\n",
        "    transcript = test_transcripts[id]\n",
        "    for i in range(len(transcript)):\n",
        "      audio_start_time = round(transcript.iloc[i].start_time * SAMPLR_RATE)\n",
        "      audio_stop_time = round(transcript.iloc[i].stop_time * SAMPLR_RATE)\n",
        "      a_participant_audio.append(audio[audio_start_time:audio_stop_time])\n",
        "    \n",
        "    a_participant_audio = np.array(a_participant_audio, dtype=object)\n",
        "    all_participants_audios[id] = a_participant_audio\n",
        "  return all_participants_audios"
      ]
    },
    {
      "cell_type": "code",
      "execution_count": null,
      "metadata": {
        "id": "_hdNJSWkeFzc"
      },
      "outputs": [],
      "source": [
        "not_dep_participants_mels = {}\n",
        "widowns_size = 2 * SAMPLR_RATE \n",
        "step_size = 2 * SAMPLR_RATE \n",
        "def split_audios(audio_dict):\n",
        "\n",
        "  for key in audio_dict.keys():\n",
        "    mels = []\n",
        "    filename = key\n",
        "    print(f\"{filename} : Started\")\n",
        "    audio = audio_dict[key]\n",
        "    audios_part = slidingWindow(audio, widowns_size, step_size)\n",
        "    print(f\"{filename} : Splited\")\n",
        "\n",
        "    for i in range(len(audios_part)):\n",
        "      mel_spectogram = librosa.feature.melspectrogram(y=audios_part[i], sr=SAMPLR_RATE,\n",
        "                                      n_fft=400, hop_length=160, win_length=400, window='hamming', n_mels = 32).T\n",
        "      mels.append(mel_spectogram)\n",
        "    mels = np.array(mels) \n",
        "\n",
        "    not_dep_participants_mels[key] = mels\n",
        "\n",
        "    print(f\"{filename} : Done\")\n",
        "  print(f\"All_Audios : Done\")"
      ]
    },
    {
      "cell_type": "code",
      "execution_count": null,
      "metadata": {
        "id": "IpA14eoFeniW"
      },
      "outputs": [],
      "source": [
        "from scipy import stats\n",
        "\n",
        "def slidingWindow(X,window_size=32, step=10):\n",
        "    windowed_mels = []\n",
        "    for i in range(0, len(X) - window_size, step):\n",
        "        x = X[i:(i + window_size)]\n",
        "        windowed_mels.append(x)\n",
        "    return np.array(windowed_mels)"
      ]
    },
    {
      "cell_type": "code",
      "execution_count": null,
      "metadata": {
        "id": "SPb3dxBN5RZ8"
      },
      "outputs": [],
      "source": [
        "from sklearn.preprocessing import StandardScaler\n",
        "scaler = StandardScaler()\n",
        "\n",
        "def feature_exctraction(path):\n",
        "    mels = []\n",
        "    all_files = glob.glob(path + \"/*.wav\")\n",
        "    dir_id  = int(path.split(\"/\")[-1])\n",
        "    for ten_sec_file in all_files:\n",
        "      id = int(ten_sec_file.split(\"/\")[-1].split('.')[0])\n",
        "      \n",
        "      ten_sec_audio, _ = librosa.load(ten_sec_file, sr=SAMPLR_RATE)\n",
        "      mel_spectogram = librosa.feature.melspectrogram(y=ten_sec_audio, sr=SAMPLR_RATE,\n",
        "                                      n_fft=480, hop_length=160, win_length=480, window='hamming').T\n",
        "      mel_spectogram = scaler.fit_transform(mel_spectogram)\n",
        "      mels.append(mel_spectogram)\n",
        "    mels = np.array(mels)\n",
        "    print(dir_id, mels.shape)\n",
        "    return mels, dir_id\n"
      ]
    },
    {
      "cell_type": "code",
      "execution_count": null,
      "metadata": {
        "id": "IHfeCMUm5RK0"
      },
      "outputs": [],
      "source": [
        "def get_mels (path):\n",
        "    all_mel_spectograms = {}\n",
        "    all_pathes = []\n",
        "    for x in os.walk(path):\n",
        "      all_pathes.append(x[0])\n",
        "    all_pathes = all_pathes[1:]\n",
        "    for ten_sec_audio_path in all_pathes:\n",
        "      mels, id = feature_exctraction(ten_sec_audio_path)\n",
        "      all_mel_spectograms[id] = mels\n",
        "    return all_mel_spectograms"
      ]
    },
    {
      "cell_type": "code",
      "execution_count": null,
      "metadata": {
        "id": "mvnzIdRghf4o"
      },
      "outputs": [],
      "source": [
        "from sklearn.utils import shuffle \n",
        "X_train, y_train = shuffle(X_train, y_train)"
      ]
    },
    {
      "cell_type": "code",
      "source": [
        "model = keras.models.Sequential([\n",
        "  keras.layers.Input((401, 32)),\n",
        "  keras.layers.Reshape((401, 32, 1)),\n",
        "  keras.layers.Conv1D(1, (1, 3), activation=\"relu\", padding=\"same\"),\n",
        "  keras.layers.MaxPooling2D(2),\n",
        "  keras.layers.Conv1D(1, (3, 1), activation=\"relu\", padding=\"same\"),\n",
        "  keras.layers.MaxPooling2D(2),\n",
        "  keras.layers.Conv1D(1, (1, 3), activation=\"relu\", padding=\"same\"),\n",
        "  keras.layers.MaxPooling2D(2),\n",
        "  keras.layers.Flatten(),\n",
        "  keras.layers.Dense(1, activation=\"sigmoid\")\n",
        "])"
      ],
      "metadata": {
        "id": "FaWrHY_hGAzs"
      },
      "execution_count": null,
      "outputs": []
    },
    {
      "cell_type": "code",
      "source": [
        "models = [model_1, model_2, model_3, model_4]\n",
        "model_input = tf.keras.Input(shape= (201, 32, 1))\n",
        "model_outputs = [model(model_input) for model in models]\n",
        "ensemble_output = tf.keras.layers.Average()(model_outputs)\n",
        "ensemble_model = tf.keras.Model(inputs=model_input, outputs=ensemble_output)"
      ],
      "metadata": {
        "id": "YTD8Gp6BsmVf"
      },
      "execution_count": null,
      "outputs": []
    },
    {
      "cell_type": "code",
      "source": [
        "plot_model(ensemble_model, to_file='model_plot.png', show_shapes=True, show_layer_names=True)"
      ],
      "metadata": {
        "colab": {
          "base_uri": "https://localhost:8080/",
          "height": 216
        },
        "id": "FsHTXI5Gs8sX",
        "outputId": "b375d8ef-49af-489b-e409-86491147eb6c"
      },
      "execution_count": null,
      "outputs": [
        {
          "output_type": "execute_result",
          "data": {
            "image/png": "[encoded data removed]",
            "text/plain": [
              "<IPython.core.display.Image object>"
            ]
          },
          "metadata": {},
          "execution_count": 26
        }
      ]
    },
    {
      "cell_type": "code",
      "source": [
        "ensemble_model.compile(\n",
        "    optimizer = keras.optimizers.SGD(momentum=0.9, learning_rate=0.001, nesterov=True\n",
        "                                     ),\n",
        "    loss = 'binary_crossentropy',\n",
        "    metrics = [\n",
        "            keras.metrics.BinaryAccuracy(name='accuracy'),\n",
        "            keras.metrics.AUC(name='auc'),\n",
        "           ],\n",
        ")\n"
      ],
      "metadata": {
        "id": "Gn9Y-Sz6s_pR"
      },
      "execution_count": null,
      "outputs": []
    },
    {
      "cell_type": "code",
      "source": [
        "callbacks = [\n",
        "      keras.callbacks.EarlyStopping(patience=30, restore_best_weights=True),\n",
        "      keras.callbacks.ReduceLROnPlateau(monitor=\"val_loss\", factor=0.5, patience=5, min_lr=0.0001)\n",
        "]"
      ],
      "metadata": {
        "id": "74361iviqIQ0"
      },
      "execution_count": null,
      "outputs": []
    },
    {
      "cell_type": "code",
      "source": [
        "history = ensemble_model.fit(X_train, y_train, epochs=100, callbacks=callbacks, verbose=1,\n",
        "                    validation_data = (X_valid, y_valid), batch_size=32)"
      ],
      "metadata": {
        "id": "KHT9-b3Es_nj"
      },
      "execution_count": null,
      "outputs": []
    },
    {
      "cell_type": "code",
      "execution_count": null,
      "metadata": {
        "id": "w0o1VoVdwpm8"
      },
      "outputs": [],
      "source": [
        "\n",
        "pd.DataFrame(history.history).plot(figsize=(15, 5))\n",
        "plt.grid(True)\n",
        "plt.gca().set_ylim(0, 1) # set the vertical range to [0-1]\n",
        "plt.show()"
      ]
    },
    {
      "cell_type": "code",
      "execution_count": null,
      "metadata": {
        "id": "zX2dHkob7VqY"
      },
      "outputs": [],
      "source": [
        "[print(i.shape, i.dtype) for i in model.inputs]\n",
        "[print(o.shape, o.dtype) for o in model.outputs]\n",
        "[print(l.name, l.input_shape, l.dtype) for l in model.layers]"
      ]
    }
  ],
  "metadata": {
    "colab": {
      "collapsed_sections": [],
      "machine_shape": "hm",
      "name": "DepressionDetection.ipynb",
      "provenance": [],
      "include_colab_link": true
    },
    "kernelspec": {
      "display_name": "Python 3",
      "name": "python3"
    },
    "accelerator": "GPU"
  },
  "nbformat": 4,
  "nbformat_minor": 0
}