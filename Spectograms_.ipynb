{
  "nbformat": 4,
  "nbformat_minor": 0,
  "metadata": {
    "colab": {
      "name": "Spectograms .ipynb",
      "provenance": [],
      "collapsed_sections": [],
      "machine_shape": "hm",
      "include_colab_link": true
    },
    "kernelspec": {
      "display_name": "Python 3",
      "name": "python3"
    },
    "accelerator": "TPU"
  },
  "cells": [
    {
      "cell_type": "markdown",
      "metadata": {
        "id": "view-in-github",
        "colab_type": "text"
      },
      "source": [
        "<a href=\"https://colab.research.google.com/github/AmirHoseein99/Depression-Engine/blob/master/Spectograms_.ipynb\" target=\"_parent\"><img src=\"https://colab.research.google.com/assets/colab-badge.svg\" alt=\"Open In Colab\"/></a>"
      ]
    },
    {
      "cell_type": "code",
      "metadata": {
        "id": "mi5NAX31qMMW"
      },
      "source": [
        "import os\n",
        "import glob\n",
        "import pickle\n",
        "import librosa\n",
        "import sklearn\n",
        "import logging\n",
        "import itertools\n",
        "import numpy as np\n",
        "import pandas as pd\n",
        "import librosa.display\n",
        "import tensorflow as tf\n",
        "from keras import layers  \n",
        "from tensorflow import keras\n",
        "from matplotlib import pyplot as plt\n",
        "from keras.utils.vis_utils import plot_model\n",
        "from tensorflow.keras.preprocessing.image import ImageDataGenerator"
      ],
      "execution_count": null,
      "outputs": []
    },
    {
      "cell_type": "code",
      "metadata": {
        "id": "IJeSfH8zLyo4"
      },
      "source": [
        "! pip install git+https://github.com/artemmavrin/focal-loss.git"
      ],
      "execution_count": null,
      "outputs": []
    },
    {
      "cell_type": "code",
      "metadata": {
        "id": "RppJl1fWqNd_",
        "colab": {
          "base_uri": "https://localhost:8080/"
        },
        "outputId": "3aa2ef1c-6de2-4ec6-899d-582889d5fc63"
      },
      "source": [
        "from google.colab import drive\n",
        "drive.mount('/content/drive')"
      ],
      "execution_count": null,
      "outputs": [
        {
          "output_type": "stream",
          "name": "stdout",
          "text": [
            "Mounted at /content/drive\n"
          ]
        }
      ]
    },
    {
      "cell_type": "code",
      "metadata": {
        "id": "fnpRDYCpdLek"
      },
      "source": [
        "X_test_path = r'/content/drive/MyDrive/test_features/MFCCs/all_X_test'\n",
        "y_test_path = r\"/content/drive/MyDrive/test_labels/y_test.pkl\"\n",
        "X_test_dict = pd.read_pickle(X_test_path)\n",
        "y_test_dict = pd.read_pickle(y_test_path)\n",
        "X_test = []\n",
        "y_test = []\n",
        "for key in X_test_dict.keys():\n",
        "  X_test.append(X_test_dict[key])\n",
        "  y_test.append(y_test_dict[key])\n",
        "X_test = [item for sublist in X_test for item in sublist]\n",
        "y_test = [item for sublist in y_test for item in sublist]\n",
        "X_test = np.array(X_test)\n",
        "y_test= np.array(y_test)\n",
        "# X_test_dict = []\n",
        "# y_test_dict = []"
      ],
      "execution_count": null,
      "outputs": []
    },
    {
      "cell_type": "code",
      "metadata": {
        "id": "nspdRkeiqdi8"
      },
      "source": [
        "X_train_path = r'/content/drive/MyDrive/train_features/MFCCs/X_train.pkl'\n",
        "y_train_path = r'/content/drive/MyDrive/train_labels/y_train_dict.pkl'\n",
        "X_valid_path = r\"/content/drive/MyDrive/valid_features/MFCCs/X_valid\"\n",
        "y_valid_path = r\"/content/drive/MyDrive/valid_labels/y_valid.pkl\""
      ],
      "execution_count": null,
      "outputs": []
    },
    {
      "cell_type": "code",
      "metadata": {
        "id": "NrXxkczrZHUL"
      },
      "source": [
        "X_train_dict       = pd.read_pickle(X_train_path)\n",
        "X_train_delta_dict = pd.read_pickle(\"/content/drive/MyDrive/train_features/MFCCs/X_train_delta.pkl\")\n",
        "y_train_dict       = pd.read_pickle(y_train_path)\n",
        "X_valid_dict       = pd.read_pickle(X_valid_path)\n",
        "X_valid_delta_dict = pd.read_pickle(\"/content/drive/MyDrive/valid_features/MFCCs/X_valid_delta\")\n",
        "y_valid_dict       = pd.read_pickle(y_valid_path)"
      ],
      "execution_count": null,
      "outputs": []
    },
    {
      "cell_type": "code",
      "metadata": {
        "id": "mX4H7m0a9pML"
      },
      "source": [
        "X_train_dict = []\n",
        "X_train_delta_dict = []\n",
        "y_train_dict = []\n",
        "y_valid_dict = []\n",
        "X_valid_dict = []\n",
        "X_valid_delta_dict = []\n",
        "delta_X_train = []\n",
        "delta_X_valid = []"
      ],
      "execution_count": null,
      "outputs": []
    },
    {
      "cell_type": "code",
      "metadata": {
        "id": "MPANuUQBYfcK"
      },
      "source": [
        "X_train = []\n",
        "delta_X_train = []\n",
        "y_train = []\n",
        "for key in X_train_dict.keys():\n",
        "  X_train.append(X_train_dict[key])\n",
        "  delta_X_train.append(X_train_delta_dict[key])\n",
        "  y_train.append(y_train_dict[key])\n",
        "X_train = [item for sublist in X_train for item in sublist]\n",
        "delta_X_train = [item for sublist in delta_X_train for item in sublist]\n",
        "y_train = [item for sublist in y_train for item in sublist]\n",
        "X_train = np.array(X_train)\n",
        "delta_X_train = np.array(delta_X_train)\n",
        "y_train = np.array(y_train)"
      ],
      "execution_count": null,
      "outputs": []
    },
    {
      "cell_type": "code",
      "metadata": {
        "id": "qymxLGy7YjUR"
      },
      "source": [
        "X_valid = []\n",
        "delta_X_valid = []\n",
        "y_valid = []\n",
        "for key in y_valid_dict.keys():\n",
        "  X_valid.append(X_valid_dict[key])\n",
        "  delta_X_valid.append(X_valid_delta_dict[key])\n",
        "  y_valid.append(y_valid_dict[key])\n",
        "X_valid = [item for sublist in X_valid for item in sublist]\n",
        "delta_X_valid = [item for sublist in delta_X_valid for item in sublist]\n",
        "y_valid = [item for sublist in y_valid for item in sublist]\n",
        "X_valid = np.array(X_valid)\n",
        "delta_X_valid = np.array(delta_X_valid)\n",
        "y_valid = np.array(y_valid)"
      ],
      "execution_count": null,
      "outputs": []
    },
    {
      "cell_type": "code",
      "metadata": {
        "id": "ZQ6rjF8vGFmQ"
      },
      "source": [
        "X_train = np.append(X_train, delta_X_train, axis = 1)\n",
        "X_valid = np.append(X_valid, delta_X_valid, axis = 1)"
      ],
      "execution_count": null,
      "outputs": []
    },
    {
      "cell_type": "code",
      "metadata": {
        "id": "7Emo8jJPazXD"
      },
      "source": [
        "def readnpyfiles (path):\n",
        "  all_filles = {}\n",
        "  all_files = glob.glob(path + \"/*.npy\")\n",
        "  for filename in all_files:\n",
        "      fille = np.load(filename)\n",
        "      all_filles[int(filename.split(\"/\")[5].split(\".\")[0])] = fille\n",
        "  return all_filles"
      ],
      "execution_count": null,
      "outputs": []
    },
    {
      "cell_type": "code",
      "metadata": {
        "id": "3UcB6mtZbRHz"
      },
      "source": [
        "X_train = readnpyfiles(X_train_path)\n",
        "y_train = readnpyfiles(y_train_path)\n",
        "X_valid = readnpyfiles(X_valid_path)\n",
        "y_valid = readnpyfiles(y_valid_path)"
      ],
      "execution_count": null,
      "outputs": []
    },
    {
      "cell_type": "code",
      "metadata": {
        "id": "5mLuEqiFIH9c"
      },
      "source": [
        "X_valid  = np.array(list(X_valid .values()))\n",
        "y_valid  = np.array(list(y_valid .values()))\n",
        "X_valid = [item for sublist in X_valid for item in sublist]\n",
        "y_valid = [item for sublist in y_valid for item in sublist]\n",
        "X_valid = np.array(X_valid)\n",
        "y_valid = np.array(y_valid)"
      ],
      "execution_count": null,
      "outputs": []
    },
    {
      "cell_type": "code",
      "metadata": {
        "id": "9WRGYkFWPSpM"
      },
      "source": [
        "X_train = np.array(list(X_train.values()))\n",
        "y_train = np.array(list(y_train.values()))\n",
        "X_train = [item for sublist in X_train for item in sublist]\n",
        "y_train = [item for sublist in y_train for item in sublist]\n",
        "X_train = np.array(X_train)\n",
        "y_train = np.array(y_train)"
      ],
      "execution_count": null,
      "outputs": []
    },
    {
      "cell_type": "code",
      "metadata": {
        "id": "FnTqQiEJfPgm"
      },
      "source": [
        "train_ds = tf.data.Dataset.from_tensor_slices(X_train)\n",
        "valid_ds = tf.data.Dataset.from_tensor_slices(X_valid)"
      ],
      "execution_count": null,
      "outputs": []
    },
    {
      "cell_type": "code",
      "metadata": {
        "id": "ePABMpaffPeK"
      },
      "source": [
        "batch_size = 32\n",
        "n_steps = 100 \n",
        "# window_length = 100\n",
        "AUTOTUNE = tf.data.AUTOTUNE\n",
        "\n",
        "def prepare(ds, shuffle=False, train=False):\n",
        "  window_length = n_steps + 1 # target = input shifted 1 character ahead\n",
        "  ds = ds.window(window_length, shift=100, drop_remainder=True)\n",
        "\n",
        "  if train == True :\n",
        "    ds = ds.shuffle(100)\n",
        "\n",
        "  ds = ds.batch(batch_size)\n",
        "  ds = ds.map(lambda windows: (windows[:, :-1], windows[:, -1]))\n",
        "  return ds.prefetch(AUTOTUNE)"
      ],
      "execution_count": null,
      "outputs": []
    },
    {
      "cell_type": "code",
      "metadata": {
        "id": "D2BRsQ8X9e-c"
      },
      "source": [
        "train_ds = prepare(train_ds, train=True)\n",
        "valid_ds = prepare(valid_ds)"
      ],
      "execution_count": null,
      "outputs": []
    },
    {
      "cell_type": "code",
      "metadata": {
        "id": "B4Tfj7oCaycJ"
      },
      "source": [
        "# pd.to_pickle(X_train, \"/content/drive/MyDrive/train_features/X_train.pkl\")\n",
        "# pd.to_pickle(y_train, \"/content/drive/MyDrive/train_features/y_train.pkl\")\n",
        "# pd.to_pickle(X_valid, \"/content/drive/MyDrive/X_valid.pkl\")\n",
        "# pd.to_pickle(y_valid, \"/content/drive/MyDrive/y_valid.pkl\")"
      ],
      "execution_count": null,
      "outputs": []
    },
    {
      "cell_type": "code",
      "metadata": {
        "id": "baPqXvBYcYYy"
      },
      "source": [
        "X_train = pd.read_pickle(X_train_path)\n",
        "y_train = pd.read_pickle(y_train_path)\n",
        "# X_valid = pd.read_pickle(\"/content/drive/MyDrive/valid_features/MFCCs/X_valid.pkl\")\n",
        "# y_valid = pd.read_pickle(\"/content/drive/MyDrive/valid_labels/windowed_y_valid.pkl\")"
      ],
      "execution_count": null,
      "outputs": []
    },
    {
      "cell_type": "code",
      "metadata": {
        "id": "snqrUIQTHsNu"
      },
      "source": [
        "from scipy import stats\n",
        "def create_dataset(X, y, time_steps=1, step=1):\n",
        "    Xs, ys = [], []\n",
        "    for i in range(0, len(X) - time_steps, step):\n",
        "        v = X[i:(i + time_steps)]\n",
        "        labels = y[i: i + time_steps]\n",
        "        Xs.append(v)\n",
        "        ys.append(stats.mode(labels)[0][0])\n",
        "    return np.array(Xs), np.array(ys).reshape(-1, 1)"
      ],
      "execution_count": null,
      "outputs": []
    },
    {
      "cell_type": "code",
      "source": [
        ""
      ],
      "metadata": {
        "id": "kzAkI3VdBJGy"
      },
      "execution_count": null,
      "outputs": []
    },
    {
      "cell_type": "code",
      "metadata": {
        "id": "JoTOWSMaDtp1"
      },
      "source": [
        "TIME_STEPS = 64\n",
        "STEP = 64\n",
        "\n",
        "X_train, y_train = create_dataset(\n",
        "    X_train,\n",
        "    y_train,\n",
        "    TIME_STEPS,\n",
        "    STEP\n",
        ")"
      ],
      "execution_count": null,
      "outputs": []
    },
    {
      "cell_type": "code",
      "metadata": {
        "id": "gt82YeyupByu"
      },
      "source": [
        "from sklearn.preprocessing import StandardScaler\n",
        "scaler = StandardScaler()\n",
        "X_train = scaler.fit_transform(X_train)\n",
        "X_valid = scaler.fit_transform(X_valid)"
      ],
      "execution_count": null,
      "outputs": []
    },
    {
      "cell_type": "code",
      "metadata": {
        "id": "woRdJqZFbgmD"
      },
      "source": [
        "# X_train = X_train.reshape((X_train.shape[0], 1,X_train.shape[1]))\n",
        "# X_valid = X_valid.reshape((X_valid.shape[0], X_valid.shape[1], 1))"
      ],
      "execution_count": null,
      "outputs": []
    },
    {
      "cell_type": "code",
      "metadata": {
        "id": "220T2sy1fPOz"
      },
      "source": [
        "conv_input = keras.layers.Input(X_train.shape[1:])\n",
        "\n",
        "conv1 = keras.layers.Conv1D(filters=64, kernel_size=4, padding=\"same\", )(conv_input)\n",
        "conv1 = keras.layers.BatchNormalization()(conv1)\n",
        "conv1 = keras.layers.ReLU()(conv1)\n",
        "\n",
        "# dropout = keras.layers.Dropout(.4)(conv1)\n",
        "\n",
        "conv2 = keras.layers.Conv1D(filters=64, kernel_size=4, padding=\"same\", activation = 'relu')(conv1)\n",
        "conv2 = keras.layers.BatchNormalization()(conv2)\n",
        "conv2 = keras.layers.ReLU()(conv2)\n",
        "\n",
        "dropout1 = keras.layers.Dropout(.5)(conv2)\n",
        "\n",
        "# conv3 = keras.layers.Conv1D(filters=128, kernel_size=4, padding=\"same\")(dropout1)\n",
        "# conv3 = keras.layers.BatchNormalization()(conv3)\n",
        "# conv3 = keras.layers.ReLU()(conv3)\n",
        "\n",
        "# conv4 = keras.layers.Conv1D(filters=128, kernel_size=4, padding=\"same\")(conv3)\n",
        "# conv4 = keras.layers.BatchNormalization()(conv4)\n",
        "# conv4 = keras.layers.ReLU()(conv4)\n",
        "\n",
        "\n",
        "# dropout2 = keras.layers.Dropout(.5)(conv4)\n",
        "\n",
        "gap = keras.layers.GlobalAveragePooling1D()(dropout1)\n",
        "\n",
        "# Dense1 = keras.layers.Dense(32)(gap)\n",
        "# Dense1 = keras.layers.ReLU()(Dense1)\n",
        "\n",
        "# Dense2 = keras.layers.Dense(5)(gap)\n",
        "# Dense2 = keras.layers.ReLU()(Dense2)\n",
        "\n",
        "conv_output = keras.layers.Dense(1, activation=\"sigmoid\")(gap)\n",
        "\n",
        "# keras.models.Model(inputs=input_layer, outputs=conv_output)\n",
        "\n",
        "conv_model = keras.Model(conv_input, conv_output)\n",
        "# model = make_model(input_shape=X_valid.shape[1:])"
      ],
      "execution_count": null,
      "outputs": []
    },
    {
      "cell_type": "code",
      "metadata": {
        "id": "0JLR15tRT2bp"
      },
      "source": [
        "plot_model(conv_model, to_file='model_plot.png', show_shapes=True, show_layer_names=True)"
      ],
      "execution_count": null,
      "outputs": []
    },
    {
      "cell_type": "code",
      "metadata": {
        "id": "Gn-STPe-fPHe"
      },
      "source": [
        "from keras import layers\n",
        "\n",
        "input_spectrogram = layers.Input((None, 52))\n",
        "\n",
        "Reshape= layers.Reshape((-1, 52, 1))(input_spectrogram)\n",
        "\n",
        "Conv1 = layers.Conv2D(filters=32, kernel_size=3, padding=\"same\", activation ='relu')(Reshape)\n",
        "Conv1 = layers.BatchNormalization()(Conv1)\n",
        "Conv1 = layers.ReLU()(Conv1)\n",
        "\n",
        "\n",
        "Conv2 = layers.Conv2D(filters=64, kernel_size=3, padding=\"same\", activation ='relu')(Conv1)\n",
        "Conv2 = layers.BatchNormalization()(Conv2)\n",
        "Conv2 = layers.ReLU()(Conv2)\n",
        "\n",
        "\n",
        "Reshape = layers.Reshape((-1, Conv2.shape[-2] * Conv2.shape[-1]))(Conv2)\n",
        "\n",
        "\n",
        "\n",
        "Gru1 = layers.GRU(units=64, return_sequences=True, dropout=.3)(Reshape)\n",
        "Gru2 = layers.GRU(units=64, return_sequences=True, dropout=.3)(Gru1)\n",
        "\n",
        "gap = keras.layers.GlobalAveragePooling1D()(Gru2)\n",
        "\n",
        "hybrid_output = layers.Dense(units=1, activation=\"sigmoid\")(gap)\n",
        "\n",
        "hybrid_model = keras.Model(input_spectrogram, hybrid_output)"
      ],
      "execution_count": null,
      "outputs": []
    },
    {
      "cell_type": "code",
      "metadata": {
        "id": "RwkwMG0_TmCC"
      },
      "source": [
        "plot_model(hybrid_model, to_file='model_plot.png', show_shapes=True, show_layer_names=True)"
      ],
      "execution_count": null,
      "outputs": []
    },
    {
      "cell_type": "code",
      "metadata": {
        "id": "MwlzkHaNfPEY"
      },
      "source": [
        "epochs = 500\n",
        "batch_size = 1024\n",
        "# import focal_loss\n",
        "\n",
        "hybrid_callbacks = [\n",
        "    keras.callbacks.ModelCheckpoint(\n",
        "        \"/content/drive/MyDrive/hybrid_model/weights.{epoch:02d}-{val_loss:.4f}.hdf5.h5\", monitor=\"val_loss\"\n",
        "    ),\n",
        "    keras.callbacks.ReduceLROnPlateau(\n",
        "        monitor=\"val_loss\", factor=0.5, patience=10, min_lr=0.0001\n",
        "    ),\n",
        "    keras.callbacks.EarlyStopping(monitor=\"val_loss\", patience=50, verbose=1),\n",
        "]\n",
        "\n",
        "conv_callbacks = [\n",
        "    keras.callbacks.ModelCheckpoint(\n",
        "        \"/content/drive/MyDrive/conv_model/weights.{epoch:02d}-{val_loss:.4f}.hdf5.h5\", monitor=\"val_loss\"\n",
        "    ),\n",
        "    keras.callbacks.ReduceLROnPlateau(\n",
        "        monitor=\"val_loss\", factor=0.5, patience=20, min_lr=0.0001\n",
        "    ),\n",
        "    keras.callbacks.EarlyStopping(monitor=\"val_loss\", patience=50, verbose=1),\n",
        "]\n",
        "\n",
        "\n",
        "tf.get_logger().setLevel(logging.ERROR)"
      ],
      "execution_count": null,
      "outputs": []
    },
    {
      "cell_type": "code",
      "metadata": {
        "id": "fWLUONXkfPBv"
      },
      "source": [
        "opt = keras.optimizers.SGD(learning_rate=0.01)\n",
        "conv_model.compile(\n",
        "    optimizer=\"adam\",\n",
        "    loss=keras.losses.BinaryCrossentropy(),\n",
        "    metrics=[\"accuracy\", keras.metrics.AUC()],\n",
        ")\n",
        "\n",
        "#  validation_data=(X_valid, y_valid)\n",
        "history = conv_model.fit(\n",
        "    X_train, y_train, batch_size=batch_size, epochs=epochs, callbacks=conv_callbacks, validation_split=.1, verbose=1)\n",
        "#last epoch 12"
      ],
      "execution_count": null,
      "outputs": []
    },
    {
      "cell_type": "code",
      "metadata": {
        "id": "ozbFMqo7fO_O",
        "colab": {
          "base_uri": "https://localhost:8080/",
          "height": 887
        },
        "outputId": "f6648d4f-d1a0-442b-d800-b4466e0cf02a"
      },
      "source": [
        "opt = keras.optimizers.Adam(learning_rate=0.01)\n",
        "hybrid_model.compile(\n",
        "    optimizer='adam',\n",
        "    loss=keras.losses.BinaryCrossentropy(),\n",
        "    metrics=[\"accuracy\", keras.metrics.AUC()],\n",
        ")\n",
        "history = hybrid_model.fit(\n",
        "X_train, y_train, batch_size=batch_size, epochs=50, callbacks=hybrid_callbacks, verbose=1,  validation_data=(X_valid, y_valid))"
      ],
      "execution_count": null,
      "outputs": [
        {
          "output_type": "stream",
          "name": "stdout",
          "text": [
            "Epoch 1/500\n",
            "9459/9459 [==============================] - 649s 68ms/step - loss: 0.2994 - accuracy: 0.8742 - auc: 0.9397 - val_loss: 0.3032 - val_accuracy: 0.8729 - val_auc: 0.9404 - lr: 0.0010\n",
            "Epoch 2/500\n",
            "9459/9459 [==============================] - 661s 70ms/step - loss: 0.2939 - accuracy: 0.8769 - auc: 0.9419 - val_loss: 0.2988 - val_accuracy: 0.8747 - val_auc: 0.9412 - lr: 0.0010\n",
            "Epoch 3/500\n",
            "9459/9459 [==============================] - 653s 69ms/step - loss: 0.2916 - accuracy: 0.8780 - auc: 0.9428 - val_loss: 0.2992 - val_accuracy: 0.8742 - val_auc: 0.9414 - lr: 0.0010\n",
            "Epoch 4/500\n",
            "9459/9459 [==============================] - 653s 69ms/step - loss: 0.2900 - accuracy: 0.8788 - auc: 0.9434 - val_loss: 0.2977 - val_accuracy: 0.8746 - val_auc: 0.9417 - lr: 0.0010\n",
            "Epoch 5/500\n",
            "9459/9459 [==============================] - 653s 69ms/step - loss: 0.2887 - accuracy: 0.8795 - auc: 0.9439 - val_loss: 0.2970 - val_accuracy: 0.8761 - val_auc: 0.9417 - lr: 0.0010\n",
            "Epoch 6/500\n",
            "9459/9459 [==============================] - 654s 69ms/step - loss: 0.2877 - accuracy: 0.8800 - auc: 0.9443 - val_loss: 0.2962 - val_accuracy: 0.8761 - val_auc: 0.9423 - lr: 0.0010\n",
            "Epoch 7/500\n",
            "9459/9459 [==============================] - 653s 69ms/step - loss: 0.2868 - accuracy: 0.8804 - auc: 0.9446 - val_loss: 0.2964 - val_accuracy: 0.8760 - val_auc: 0.9422 - lr: 0.0010\n",
            "Epoch 8/500\n",
            "9459/9459 [==============================] - 653s 69ms/step - loss: 0.2862 - accuracy: 0.8807 - auc: 0.9448 - val_loss: 0.2964 - val_accuracy: 0.8763 - val_auc: 0.9421 - lr: 0.0010\n",
            "Epoch 9/500\n",
            "9459/9459 [==============================] - 657s 69ms/step - loss: 0.2856 - accuracy: 0.8810 - auc: 0.9450 - val_loss: 0.2968 - val_accuracy: 0.8757 - val_auc: 0.9420 - lr: 0.0010\n",
            "Epoch 10/500\n",
            "9459/9459 [==============================] - 659s 70ms/step - loss: 0.2852 - accuracy: 0.8812 - auc: 0.9452 - val_loss: 0.2963 - val_accuracy: 0.8764 - val_auc: 0.9422 - lr: 0.0010\n",
            "Epoch 11/500\n",
            "9459/9459 [==============================] - 657s 69ms/step - loss: 0.2848 - accuracy: 0.8814 - auc: 0.9453 - val_loss: 0.2959 - val_accuracy: 0.8762 - val_auc: 0.9424 - lr: 0.0010\n",
            "Epoch 12/500\n",
            "9459/9459 [==============================] - 655s 69ms/step - loss: 0.2844 - accuracy: 0.8815 - auc: 0.9455 - val_loss: 0.2960 - val_accuracy: 0.8761 - val_auc: 0.9421 - lr: 0.0010\n",
            "Epoch 13/500\n",
            "9459/9459 [==============================] - 657s 69ms/step - loss: 0.2841 - accuracy: 0.8817 - auc: 0.9456 - val_loss: 0.2956 - val_accuracy: 0.8769 - val_auc: 0.9423 - lr: 0.0010\n",
            "Epoch 14/500\n",
            "9459/9459 [==============================] - 657s 69ms/step - loss: 0.2838 - accuracy: 0.8818 - auc: 0.9457 - val_loss: 0.2966 - val_accuracy: 0.8767 - val_auc: 0.9423 - lr: 0.0010\n",
            "Epoch 15/500\n",
            "  84/9459 [..............................] - ETA: 9:56 - loss: 0.2840 - accuracy: 0.8808 - auc: 0.9458"
          ]
        },
        {
          "output_type": "error",
          "ename": "KeyboardInterrupt",
          "evalue": "ignored",
          "traceback": [
            "\u001b[0;31m---------------------------------------------------------------------------\u001b[0m",
            "\u001b[0;31mKeyboardInterrupt\u001b[0m                         Traceback (most recent call last)",
            "\u001b[0;32m<ipython-input-19-5543ddff2d14>\u001b[0m in \u001b[0;36m<module>\u001b[0;34m()\u001b[0m\n\u001b[1;32m      6\u001b[0m )\n\u001b[1;32m      7\u001b[0m history = hybrid_model.fit(\n\u001b[0;32m----> 8\u001b[0;31m X_train, y_train, batch_size=batch_size, epochs=epochs, callbacks=hybrid_callbacks, verbose=1,  validation_data=(X_valid, y_valid))\n\u001b[0m",
            "\u001b[0;32m/usr/local/lib/python3.7/dist-packages/keras/utils/traceback_utils.py\u001b[0m in \u001b[0;36merror_handler\u001b[0;34m(*args, **kwargs)\u001b[0m\n\u001b[1;32m     62\u001b[0m     \u001b[0mfiltered_tb\u001b[0m \u001b[0;34m=\u001b[0m \u001b[0;32mNone\u001b[0m\u001b[0;34m\u001b[0m\u001b[0;34m\u001b[0m\u001b[0m\n\u001b[1;32m     63\u001b[0m     \u001b[0;32mtry\u001b[0m\u001b[0;34m:\u001b[0m\u001b[0;34m\u001b[0m\u001b[0;34m\u001b[0m\u001b[0m\n\u001b[0;32m---> 64\u001b[0;31m       \u001b[0;32mreturn\u001b[0m \u001b[0mfn\u001b[0m\u001b[0;34m(\u001b[0m\u001b[0;34m*\u001b[0m\u001b[0margs\u001b[0m\u001b[0;34m,\u001b[0m \u001b[0;34m**\u001b[0m\u001b[0mkwargs\u001b[0m\u001b[0;34m)\u001b[0m\u001b[0;34m\u001b[0m\u001b[0;34m\u001b[0m\u001b[0m\n\u001b[0m\u001b[1;32m     65\u001b[0m     \u001b[0;32mexcept\u001b[0m \u001b[0mException\u001b[0m \u001b[0;32mas\u001b[0m \u001b[0me\u001b[0m\u001b[0;34m:\u001b[0m  \u001b[0;31m# pylint: disable=broad-except\u001b[0m\u001b[0;34m\u001b[0m\u001b[0;34m\u001b[0m\u001b[0m\n\u001b[1;32m     66\u001b[0m       \u001b[0mfiltered_tb\u001b[0m \u001b[0;34m=\u001b[0m \u001b[0m_process_traceback_frames\u001b[0m\u001b[0;34m(\u001b[0m\u001b[0me\u001b[0m\u001b[0;34m.\u001b[0m\u001b[0m__traceback__\u001b[0m\u001b[0;34m)\u001b[0m\u001b[0;34m\u001b[0m\u001b[0;34m\u001b[0m\u001b[0m\n",
            "\u001b[0;32m/usr/local/lib/python3.7/dist-packages/keras/engine/training.py\u001b[0m in \u001b[0;36mfit\u001b[0;34m(self, x, y, batch_size, epochs, verbose, callbacks, validation_split, validation_data, shuffle, class_weight, sample_weight, initial_epoch, steps_per_epoch, validation_steps, validation_batch_size, validation_freq, max_queue_size, workers, use_multiprocessing)\u001b[0m\n\u001b[1;32m   1214\u001b[0m                 _r=1):\n\u001b[1;32m   1215\u001b[0m               \u001b[0mcallbacks\u001b[0m\u001b[0;34m.\u001b[0m\u001b[0mon_train_batch_begin\u001b[0m\u001b[0;34m(\u001b[0m\u001b[0mstep\u001b[0m\u001b[0;34m)\u001b[0m\u001b[0;34m\u001b[0m\u001b[0;34m\u001b[0m\u001b[0m\n\u001b[0;32m-> 1216\u001b[0;31m               \u001b[0mtmp_logs\u001b[0m \u001b[0;34m=\u001b[0m \u001b[0mself\u001b[0m\u001b[0;34m.\u001b[0m\u001b[0mtrain_function\u001b[0m\u001b[0;34m(\u001b[0m\u001b[0miterator\u001b[0m\u001b[0;34m)\u001b[0m\u001b[0;34m\u001b[0m\u001b[0;34m\u001b[0m\u001b[0m\n\u001b[0m\u001b[1;32m   1217\u001b[0m               \u001b[0;32mif\u001b[0m \u001b[0mdata_handler\u001b[0m\u001b[0;34m.\u001b[0m\u001b[0mshould_sync\u001b[0m\u001b[0;34m:\u001b[0m\u001b[0;34m\u001b[0m\u001b[0;34m\u001b[0m\u001b[0m\n\u001b[1;32m   1218\u001b[0m                 \u001b[0mcontext\u001b[0m\u001b[0;34m.\u001b[0m\u001b[0masync_wait\u001b[0m\u001b[0;34m(\u001b[0m\u001b[0;34m)\u001b[0m\u001b[0;34m\u001b[0m\u001b[0;34m\u001b[0m\u001b[0m\n",
            "\u001b[0;32m/usr/local/lib/python3.7/dist-packages/tensorflow/python/util/traceback_utils.py\u001b[0m in \u001b[0;36merror_handler\u001b[0;34m(*args, **kwargs)\u001b[0m\n\u001b[1;32m    148\u001b[0m     \u001b[0mfiltered_tb\u001b[0m \u001b[0;34m=\u001b[0m \u001b[0;32mNone\u001b[0m\u001b[0;34m\u001b[0m\u001b[0;34m\u001b[0m\u001b[0m\n\u001b[1;32m    149\u001b[0m     \u001b[0;32mtry\u001b[0m\u001b[0;34m:\u001b[0m\u001b[0;34m\u001b[0m\u001b[0;34m\u001b[0m\u001b[0m\n\u001b[0;32m--> 150\u001b[0;31m       \u001b[0;32mreturn\u001b[0m \u001b[0mfn\u001b[0m\u001b[0;34m(\u001b[0m\u001b[0;34m*\u001b[0m\u001b[0margs\u001b[0m\u001b[0;34m,\u001b[0m \u001b[0;34m**\u001b[0m\u001b[0mkwargs\u001b[0m\u001b[0;34m)\u001b[0m\u001b[0;34m\u001b[0m\u001b[0;34m\u001b[0m\u001b[0m\n\u001b[0m\u001b[1;32m    151\u001b[0m     \u001b[0;32mexcept\u001b[0m \u001b[0mException\u001b[0m \u001b[0;32mas\u001b[0m \u001b[0me\u001b[0m\u001b[0;34m:\u001b[0m\u001b[0;34m\u001b[0m\u001b[0;34m\u001b[0m\u001b[0m\n\u001b[1;32m    152\u001b[0m       \u001b[0mfiltered_tb\u001b[0m \u001b[0;34m=\u001b[0m \u001b[0m_process_traceback_frames\u001b[0m\u001b[0;34m(\u001b[0m\u001b[0me\u001b[0m\u001b[0;34m.\u001b[0m\u001b[0m__traceback__\u001b[0m\u001b[0;34m)\u001b[0m\u001b[0;34m\u001b[0m\u001b[0;34m\u001b[0m\u001b[0m\n",
            "\u001b[0;32m/usr/local/lib/python3.7/dist-packages/tensorflow/python/eager/def_function.py\u001b[0m in \u001b[0;36m__call__\u001b[0;34m(self, *args, **kwds)\u001b[0m\n\u001b[1;32m    908\u001b[0m \u001b[0;34m\u001b[0m\u001b[0m\n\u001b[1;32m    909\u001b[0m       \u001b[0;32mwith\u001b[0m \u001b[0mOptionalXlaContext\u001b[0m\u001b[0;34m(\u001b[0m\u001b[0mself\u001b[0m\u001b[0;34m.\u001b[0m\u001b[0m_jit_compile\u001b[0m\u001b[0;34m)\u001b[0m\u001b[0;34m:\u001b[0m\u001b[0;34m\u001b[0m\u001b[0;34m\u001b[0m\u001b[0m\n\u001b[0;32m--> 910\u001b[0;31m         \u001b[0mresult\u001b[0m \u001b[0;34m=\u001b[0m \u001b[0mself\u001b[0m\u001b[0;34m.\u001b[0m\u001b[0m_call\u001b[0m\u001b[0;34m(\u001b[0m\u001b[0;34m*\u001b[0m\u001b[0margs\u001b[0m\u001b[0;34m,\u001b[0m \u001b[0;34m**\u001b[0m\u001b[0mkwds\u001b[0m\u001b[0;34m)\u001b[0m\u001b[0;34m\u001b[0m\u001b[0;34m\u001b[0m\u001b[0m\n\u001b[0m\u001b[1;32m    911\u001b[0m \u001b[0;34m\u001b[0m\u001b[0m\n\u001b[1;32m    912\u001b[0m       \u001b[0mnew_tracing_count\u001b[0m \u001b[0;34m=\u001b[0m \u001b[0mself\u001b[0m\u001b[0;34m.\u001b[0m\u001b[0mexperimental_get_tracing_count\u001b[0m\u001b[0;34m(\u001b[0m\u001b[0;34m)\u001b[0m\u001b[0;34m\u001b[0m\u001b[0;34m\u001b[0m\u001b[0m\n",
            "\u001b[0;32m/usr/local/lib/python3.7/dist-packages/tensorflow/python/eager/def_function.py\u001b[0m in \u001b[0;36m_call\u001b[0;34m(self, *args, **kwds)\u001b[0m\n\u001b[1;32m    940\u001b[0m       \u001b[0;31m# In this case we have created variables on the first call, so we run the\u001b[0m\u001b[0;34m\u001b[0m\u001b[0;34m\u001b[0m\u001b[0;34m\u001b[0m\u001b[0m\n\u001b[1;32m    941\u001b[0m       \u001b[0;31m# defunned version which is guaranteed to never create variables.\u001b[0m\u001b[0;34m\u001b[0m\u001b[0;34m\u001b[0m\u001b[0;34m\u001b[0m\u001b[0m\n\u001b[0;32m--> 942\u001b[0;31m       \u001b[0;32mreturn\u001b[0m \u001b[0mself\u001b[0m\u001b[0;34m.\u001b[0m\u001b[0m_stateless_fn\u001b[0m\u001b[0;34m(\u001b[0m\u001b[0;34m*\u001b[0m\u001b[0margs\u001b[0m\u001b[0;34m,\u001b[0m \u001b[0;34m**\u001b[0m\u001b[0mkwds\u001b[0m\u001b[0;34m)\u001b[0m  \u001b[0;31m# pylint: disable=not-callable\u001b[0m\u001b[0;34m\u001b[0m\u001b[0;34m\u001b[0m\u001b[0m\n\u001b[0m\u001b[1;32m    943\u001b[0m     \u001b[0;32melif\u001b[0m \u001b[0mself\u001b[0m\u001b[0;34m.\u001b[0m\u001b[0m_stateful_fn\u001b[0m \u001b[0;32mis\u001b[0m \u001b[0;32mnot\u001b[0m \u001b[0;32mNone\u001b[0m\u001b[0;34m:\u001b[0m\u001b[0;34m\u001b[0m\u001b[0;34m\u001b[0m\u001b[0m\n\u001b[1;32m    944\u001b[0m       \u001b[0;31m# Release the lock early so that multiple threads can perform the call\u001b[0m\u001b[0;34m\u001b[0m\u001b[0;34m\u001b[0m\u001b[0;34m\u001b[0m\u001b[0m\n",
            "\u001b[0;32m/usr/local/lib/python3.7/dist-packages/tensorflow/python/eager/function.py\u001b[0m in \u001b[0;36m__call__\u001b[0;34m(self, *args, **kwargs)\u001b[0m\n\u001b[1;32m   3129\u001b[0m        filtered_flat_args) = self._maybe_define_function(args, kwargs)\n\u001b[1;32m   3130\u001b[0m     return graph_function._call_flat(\n\u001b[0;32m-> 3131\u001b[0;31m         filtered_flat_args, captured_inputs=graph_function.captured_inputs)  # pylint: disable=protected-access\n\u001b[0m\u001b[1;32m   3132\u001b[0m \u001b[0;34m\u001b[0m\u001b[0m\n\u001b[1;32m   3133\u001b[0m   \u001b[0;34m@\u001b[0m\u001b[0mproperty\u001b[0m\u001b[0;34m\u001b[0m\u001b[0;34m\u001b[0m\u001b[0m\n",
            "\u001b[0;32m/usr/local/lib/python3.7/dist-packages/tensorflow/python/eager/function.py\u001b[0m in \u001b[0;36m_call_flat\u001b[0;34m(self, args, captured_inputs, cancellation_manager)\u001b[0m\n\u001b[1;32m   1958\u001b[0m       \u001b[0;31m# No tape is watching; skip to running the function.\u001b[0m\u001b[0;34m\u001b[0m\u001b[0;34m\u001b[0m\u001b[0;34m\u001b[0m\u001b[0m\n\u001b[1;32m   1959\u001b[0m       return self._build_call_outputs(self._inference_function.call(\n\u001b[0;32m-> 1960\u001b[0;31m           ctx, args, cancellation_manager=cancellation_manager))\n\u001b[0m\u001b[1;32m   1961\u001b[0m     forward_backward = self._select_forward_and_backward_functions(\n\u001b[1;32m   1962\u001b[0m         \u001b[0margs\u001b[0m\u001b[0;34m,\u001b[0m\u001b[0;34m\u001b[0m\u001b[0;34m\u001b[0m\u001b[0m\n",
            "\u001b[0;32m/usr/local/lib/python3.7/dist-packages/tensorflow/python/eager/function.py\u001b[0m in \u001b[0;36mcall\u001b[0;34m(self, ctx, args, cancellation_manager)\u001b[0m\n\u001b[1;32m    601\u001b[0m               \u001b[0minputs\u001b[0m\u001b[0;34m=\u001b[0m\u001b[0margs\u001b[0m\u001b[0;34m,\u001b[0m\u001b[0;34m\u001b[0m\u001b[0;34m\u001b[0m\u001b[0m\n\u001b[1;32m    602\u001b[0m               \u001b[0mattrs\u001b[0m\u001b[0;34m=\u001b[0m\u001b[0mattrs\u001b[0m\u001b[0;34m,\u001b[0m\u001b[0;34m\u001b[0m\u001b[0;34m\u001b[0m\u001b[0m\n\u001b[0;32m--> 603\u001b[0;31m               ctx=ctx)\n\u001b[0m\u001b[1;32m    604\u001b[0m         \u001b[0;32melse\u001b[0m\u001b[0;34m:\u001b[0m\u001b[0;34m\u001b[0m\u001b[0;34m\u001b[0m\u001b[0m\n\u001b[1;32m    605\u001b[0m           outputs = execute.execute_with_cancellation(\n",
            "\u001b[0;32m/usr/local/lib/python3.7/dist-packages/tensorflow/python/eager/execute.py\u001b[0m in \u001b[0;36mquick_execute\u001b[0;34m(op_name, num_outputs, inputs, attrs, ctx, name)\u001b[0m\n\u001b[1;32m     57\u001b[0m     \u001b[0mctx\u001b[0m\u001b[0;34m.\u001b[0m\u001b[0mensure_initialized\u001b[0m\u001b[0;34m(\u001b[0m\u001b[0;34m)\u001b[0m\u001b[0;34m\u001b[0m\u001b[0;34m\u001b[0m\u001b[0m\n\u001b[1;32m     58\u001b[0m     tensors = pywrap_tfe.TFE_Py_Execute(ctx._handle, device_name, op_name,\n\u001b[0;32m---> 59\u001b[0;31m                                         inputs, attrs, num_outputs)\n\u001b[0m\u001b[1;32m     60\u001b[0m   \u001b[0;32mexcept\u001b[0m \u001b[0mcore\u001b[0m\u001b[0;34m.\u001b[0m\u001b[0m_NotOkStatusException\u001b[0m \u001b[0;32mas\u001b[0m \u001b[0me\u001b[0m\u001b[0;34m:\u001b[0m\u001b[0;34m\u001b[0m\u001b[0;34m\u001b[0m\u001b[0m\n\u001b[1;32m     61\u001b[0m     \u001b[0;32mif\u001b[0m \u001b[0mname\u001b[0m \u001b[0;32mis\u001b[0m \u001b[0;32mnot\u001b[0m \u001b[0;32mNone\u001b[0m\u001b[0;34m:\u001b[0m\u001b[0;34m\u001b[0m\u001b[0;34m\u001b[0m\u001b[0m\n",
            "\u001b[0;31mKeyboardInterrupt\u001b[0m: "
          ]
        }
      ]
    },
    {
      "cell_type": "code",
      "metadata": {
        "id": "upDX4wLdPCfc"
      },
      "source": [
        "pd.DataFrame(history.history).plot(figsize=(8, 5))\n",
        "plt.grid(True)\n",
        "plt.gca().set_ylim(0, 1) # set the vertical range to [0-1]\n",
        "plt.show()"
      ],
      "execution_count": null,
      "outputs": []
    },
    {
      "cell_type": "code",
      "metadata": {
        "id": "SPHk-b01EUrE"
      },
      "source": [
        "from sklearn.preprocessing import MinMaxScaler\n",
        "scaler = StandardScaler()\n",
        "X_test = scaler.fit_transform(X_test)"
      ],
      "execution_count": null,
      "outputs": []
    },
    {
      "cell_type": "code",
      "metadata": {
        "colab": {
          "base_uri": "https://localhost:8080/"
        },
        "id": "snn8Tw4DEUo-",
        "outputId": "a2ff290b-e36f-47ff-bf51-0ccc637b17ad"
      },
      "source": [
        "hybrid_model.evaluate(X_test, y_test, batch_size=1024)"
      ],
      "execution_count": null,
      "outputs": [
        {
          "output_type": "stream",
          "name": "stdout",
          "text": [
            "4672/4672 [==============================] - 68s 14ms/step - loss: 0.3313 - accuracy: 0.8597 - auc: 0.9291\n"
          ]
        },
        {
          "output_type": "execute_result",
          "data": {
            "text/plain": [
              "[0.3313464820384979, 0.8597055673599243, 0.929097056388855]"
            ]
          },
          "metadata": {},
          "execution_count": 40
        }
      ]
    },
    {
      "cell_type": "code",
      "metadata": {
        "id": "d0nWU_o7EUm4"
      },
      "source": [
        "for key in X_test_dict.keys():\n",
        "  test = scaler.fit_transform(X_test_dict[key])\n",
        "  pred = hybrid_model.predict(test, batch_size=256)\n",
        "  pd.to_pickle(pred, f\"/content/drive/MyDrive/test_labels/depression/predicted/{key}\")"
      ],
      "execution_count": null,
      "outputs": []
    },
    {
      "cell_type": "code",
      "metadata": {
        "id": "wrn1zL1WEUfG"
      },
      "source": [
        ""
      ],
      "execution_count": null,
      "outputs": []
    },
    {
      "cell_type": "code",
      "metadata": {
        "id": "RKcp_Y83EUbx"
      },
      "source": [
        ""
      ],
      "execution_count": null,
      "outputs": []
    },
    {
      "cell_type": "code",
      "metadata": {
        "id": "Pl7L9rlSEUZh"
      },
      "source": [
        ""
      ],
      "execution_count": null,
      "outputs": []
    },
    {
      "cell_type": "code",
      "metadata": {
        "id": "BJN9I98BfUEQ"
      },
      "source": [
        ""
      ],
      "execution_count": null,
      "outputs": []
    },
    {
      "cell_type": "code",
      "metadata": {
        "id": "YJm8prKleTRd"
      },
      "source": [
        ""
      ],
      "execution_count": null,
      "outputs": []
    },
    {
      "cell_type": "code",
      "metadata": {
        "id": "0Z97v-fUeTPQ"
      },
      "source": [
        ""
      ],
      "execution_count": null,
      "outputs": []
    },
    {
      "cell_type": "code",
      "metadata": {
        "id": "vJHAd9-peTNP"
      },
      "source": [
        ""
      ],
      "execution_count": null,
      "outputs": []
    },
    {
      "cell_type": "code",
      "metadata": {
        "id": "TICANXIFeTLU"
      },
      "source": [
        ""
      ],
      "execution_count": null,
      "outputs": []
    },
    {
      "cell_type": "code",
      "metadata": {
        "id": "rGnyHfBceTII"
      },
      "source": [
        ""
      ],
      "execution_count": null,
      "outputs": []
    },
    {
      "cell_type": "code",
      "metadata": {
        "id": "eVpOd6WMrKNt"
      },
      "source": [
        ""
      ],
      "execution_count": null,
      "outputs": []
    },
    {
      "cell_type": "code",
      "metadata": {
        "id": "ROoTHS8GrKLY"
      },
      "source": [
        ""
      ],
      "execution_count": null,
      "outputs": []
    },
    {
      "cell_type": "code",
      "metadata": {
        "id": "VfiIp2b4rKIc"
      },
      "source": [
        ""
      ],
      "execution_count": null,
      "outputs": []
    },
    {
      "cell_type": "code",
      "metadata": {
        "id": "wNbJ0Y5yrKGJ"
      },
      "source": [
        ""
      ],
      "execution_count": null,
      "outputs": []
    },
    {
      "cell_type": "code",
      "metadata": {
        "id": "3rnR0_6ErKEV"
      },
      "source": [
        ""
      ],
      "execution_count": null,
      "outputs": []
    },
    {
      "cell_type": "code",
      "metadata": {
        "id": "eyk-3qQhrKBT"
      },
      "source": [
        ""
      ],
      "execution_count": null,
      "outputs": []
    },
    {
      "cell_type": "code",
      "metadata": {
        "id": "oRIYdTsJrJ_Q"
      },
      "source": [
        ""
      ],
      "execution_count": null,
      "outputs": []
    },
    {
      "cell_type": "code",
      "metadata": {
        "id": "NDRHbOYxrJ8A"
      },
      "source": [
        ""
      ],
      "execution_count": null,
      "outputs": []
    },
    {
      "cell_type": "code",
      "metadata": {
        "id": "ttM8yyyIfOuE"
      },
      "source": [
        ""
      ],
      "execution_count": null,
      "outputs": []
    },
    {
      "cell_type": "code",
      "metadata": {
        "id": "5MjxhJmjfOre"
      },
      "source": [
        ""
      ],
      "execution_count": null,
      "outputs": []
    },
    {
      "cell_type": "code",
      "metadata": {
        "id": "a2SM4jpffOpr"
      },
      "source": [
        ""
      ],
      "execution_count": null,
      "outputs": []
    },
    {
      "cell_type": "code",
      "metadata": {
        "id": "gNCUQnOIfOmi"
      },
      "source": [
        ""
      ],
      "execution_count": null,
      "outputs": []
    },
    {
      "cell_type": "code",
      "metadata": {
        "id": "qmOpporAfOkB"
      },
      "source": [
        ""
      ],
      "execution_count": null,
      "outputs": []
    },
    {
      "cell_type": "code",
      "metadata": {
        "id": "WGuqiSvOfOhj"
      },
      "source": [
        ""
      ],
      "execution_count": null,
      "outputs": []
    },
    {
      "cell_type": "code",
      "metadata": {
        "id": "IgmtkETKfOfI"
      },
      "source": [
        ""
      ],
      "execution_count": null,
      "outputs": []
    },
    {
      "cell_type": "code",
      "metadata": {
        "id": "SRYREb5RfOcw"
      },
      "source": [
        "SAMPLERATE = 16000\n",
        "test_audio_path = r'/content/drive/MyDrive/TA'\n",
        "# test_label_path = r'/content/drive/MyDrive/Test/Label'\n",
        "valid_audio_path = r'/content/drive/MyDrive/VA'\n",
        "# test_audio_path = r'/content/drive/MyDrive/TestA'"
      ],
      "execution_count": null,
      "outputs": []
    },
    {
      "cell_type": "code",
      "metadata": {
        "id": "1Vo4K94nqOCC"
      },
      "source": [
        "window_size = 160\n",
        "hann_window = np.hanning(window_size)\n",
        "test_labels = pd.read_pickle(\"/content/drive/MyDrive/test_labels/y_test.pkl\")\n",
        "def readAudios (path):\n",
        "  all_X_test = {}\n",
        "  all_files = glob.glob(path + \"/*.wav\")\n",
        "  for filename in all_files:\n",
        "      id = int(filename.split(\"/\")[5].split(\"_\")[0])\n",
        "      audio = librosa.load(filename, sr = SAMPLERATE)[0]\n",
        "      MFCCs = librosa.feature.mfcc(audio, sr=SAMPLERATE, n_fft=160, hop_length=160,\n",
        "                           n_mfcc=26, center=False, window=hann_window).T\n",
        "      drop_index = test_labels.get(id).shape[0] - MFCCs.shape[0]     \n",
        "      if  drop_index != 0 :       \n",
        "        MFCCs = MFCCs[:drop_index, :]\n",
        "      delta_MFCCs = librosa.feature.delta(MFCCs)\n",
        "      X = np.append(MFCCs, delta_MFCCs, axis=1)\n",
        "      print(id,test_labels.get(id).shape[0], X.shape)\n",
        "      all_X_test[id] = X\n",
        "  return all_X_test"
      ],
      "execution_count": null,
      "outputs": []
    },
    {
      "cell_type": "code",
      "metadata": {
        "id": "OAFBRzGKLQ09"
      },
      "source": [
        "def readlabels (path):\n",
        "  all_features = {}\n",
        "  all_files = glob.glob(path + \"/*.csv\")\n",
        "  for filename in all_files:\n",
        "      label = pd.read_csv(filename)\n",
        "      label = label.iloc[:, 1:2].to_numpy()\n",
        "      all_features[int(filename.split(\"/\")[5].split(\"_\")[0])] = label\n",
        "  return all_features"
      ],
      "execution_count": null,
      "outputs": []
    },
    {
      "cell_type": "code",
      "metadata": {
        "id": "JLhknXVPqbw5"
      },
      "source": [
        "# train_files = readAudios(train_audio_path)\n",
        "# test_files = readAudios(test_audio_path)\n",
        "all_X_test = readAudios(test_audio_path)\n",
        "# valid_labels = readlabels(valid_label_path)"
      ],
      "execution_count": null,
      "outputs": []
    },
    {
      "cell_type": "code",
      "metadata": {
        "id": "fmuWdE0C3T2C"
      },
      "source": [
        "window_size = 160\n",
        "hann_window = np.hanning(window_size)\n",
        "spectograms = {}\n",
        "for key in test_files.keys():\n",
        "  test_files[key] = librosa.feature.melspectrogram(test_files[key], sr=SAMPLERATE, n_fft=160, hop_length=160, n_mels=64, center=False, window=hann_window).T"
      ],
      "execution_count": null,
      "outputs": []
    },
    {
      "cell_type": "code",
      "metadata": {
        "id": "wSPd_SlRj6Iy"
      },
      "source": [
        "window_size = 160\n",
        "hann_window = np.hanning(window_size)\n",
        "spectograms = {}\n",
        "for key in valid_files.keys():\n",
        "  valid_files[key] = librosa.feature.melspectrogram(valid_files[key], sr=SAMPLERATE, n_fft=160, hop_length=160, n_mels=64, center=False, window=hann_window).T"
      ],
      "execution_count": null,
      "outputs": []
    },
    {
      "cell_type": "code",
      "metadata": {
        "id": "MF0VTMeHqnCp"
      },
      "source": [
        "window_size = 160\n",
        "hann_window = np.hanning(window_size)\n",
        "spectograms = {}\n",
        "for key in test_files.keys():\n",
        "  test_files[key] = librosa.feature.mfcc(test_files[key], sr=SAMPLERATE, n_fft=160, hop_length=160, n_mfcc=26, center=False, window=hann_window).T"
      ],
      "execution_count": null,
      "outputs": []
    },
    {
      "cell_type": "code",
      "metadata": {
        "id": "lu-cOE-OCM8B"
      },
      "source": [
        "window_size = 160\n",
        "hann_window = np.hanning(window_size)\n",
        "spectograms = {}\n",
        "for key in valid_files.keys():\n",
        "  valid_files[key] = librosa.feature.mfcc(valid_files[key], sr=SAMPLERATE, n_fft=160, hop_length=160, n_mfcc=26, center=False, window=hann_window).T"
      ],
      "execution_count": null,
      "outputs": []
    },
    {
      "cell_type": "code",
      "metadata": {
        "id": "T0oOOyeeBvPS"
      },
      "source": [
        "valid_files_delta = {}\n",
        "for key in valid_files.keys():\n",
        "  valid_files_delta[key] = librosa.feature.delta(valid_files[key])"
      ],
      "execution_count": null,
      "outputs": []
    },
    {
      "cell_type": "code",
      "metadata": {
        "id": "HYBBR81tk_4o"
      },
      "source": [
        "train_files.keys()"
      ],
      "execution_count": null,
      "outputs": []
    },
    {
      "cell_type": "code",
      "metadata": {
        "colab": {
          "base_uri": "https://localhost:8080/",
          "height": 351
        },
        "id": "4AE1acM366E7",
        "outputId": "f6cef057-390b-4396-b6e0-ddea90d926d3"
      },
      "source": [
        "plt.figure(figsize=(16, 5))\n",
        "librosa.display.waveplot(first, sr=SAMPLERATE)"
      ],
      "execution_count": null,
      "outputs": [
        {
          "data": {
            "text/plain": [
              "<matplotlib.collections.PolyCollection at 0x7fd94c6f1390>"
            ]
          },
          "execution_count": 101,
          "metadata": {},
          "output_type": "execute_result"
        },
        {
          "data": {
            "image/png": "[encoded data removed]",
            "text/plain": [
              "<Figure size 1152x360 with 1 Axes>"
            ]
          },
          "metadata": {},
          "output_type": "display_data"
        }
      ]
    },
    {
      "cell_type": "code",
      "metadata": {
        "colab": {
          "base_uri": "https://localhost:8080/",
          "height": 409
        },
        "id": "Byn6Il3a71az",
        "outputId": "4d6c71bc-ee4f-4d74-86a6-e7d1d32763a4"
      },
      "source": [
        "X = librosa.stft(first, n_fft=160, hop_length=160, center=False, window=hann_window)\n",
        "Xdb = librosa.amplitude_to_db(abs(X))\n",
        "plt.figure(figsize=(20, 6))\n",
        "librosa.display.specshow(Xdb, sr=SAMPLERATE, hop_length=160, x_axis='time', y_axis='linear')\n",
        "plt.colorbar(format='%+2.0f dB')"
      ],
      "execution_count": null,
      "outputs": [
        {
          "data": {
            "text/plain": [
              "<matplotlib.colorbar.Colorbar at 0x7fd94c617510>"
            ]
          },
          "execution_count": 102,
          "metadata": {},
          "output_type": "execute_result"
        },
        {
          "data": {
            "image/png": "[encoded data removed]",
            "text/plain": [
              "<Figure size 1440x432 with 2 Axes>"
            ]
          },
          "metadata": {},
          "output_type": "display_data"
        }
      ]
    },
    {
      "cell_type": "code",
      "metadata": {
        "colab": {
          "base_uri": "https://localhost:8080/",
          "height": 392
        },
        "id": "sZaT10LC7PsM",
        "outputId": "6a2a98a5-b1aa-4983-ebcc-1d40b0d08413"
      },
      "source": [
        "from matplotlib.backends.backend_agg import FigureCanvasAgg as FigureCanvas\n",
        "fig = plt.Figure()\n",
        "canvas = FigureCanvas(fig)\n",
        "ax = fig.add_subplot(111)\n",
        "plt.figure(figsize=(20, 6))\n",
        "librosa.display.specshow(train_files.get(310), sr=SAMPLERATE, hop_length=160, x_axis='time', y_axis='linear')\n",
        "plt.colorbar(format='%+2.0f dB')\n",
        "fig.savefig('spec.png')"
      ],
      "execution_count": null,
      "outputs": [
        {
          "data": {
            "image/png": "[encoded data removed]",
            "text/plain": [
              "<Figure size 1440x432 with 2 Axes>"
            ]
          },
          "metadata": {},
          "output_type": "display_data"
        }
      ]
    },
    {
      "cell_type": "code",
      "metadata": {
        "id": "FHmJVxE0Ja77"
      },
      "source": [
        "valid_size = pd.read_pickle('/content/drive/MyDrive/validSize.pkl')\n",
        "# train_size = pd.read_pickle('/content/drive/MyDrive/trainSize.pkl')"
      ],
      "execution_count": null,
      "outputs": []
    },
    {
      "cell_type": "code",
      "metadata": {
        "id": "n8Hgx84CkUKH"
      },
      "source": [
        "# test_size = pd.read_pickle('/content/drive/MyDrive/test_labels/y_test.pkl')"
      ],
      "execution_count": null,
      "outputs": []
    },
    {
      "cell_type": "code",
      "metadata": {
        "id": "1fUYBywTkgHX"
      },
      "source": [
        "test_size.keys()"
      ],
      "execution_count": null,
      "outputs": []
    },
    {
      "cell_type": "code",
      "metadata": {
        "id": "gSWcTdHsUwi-"
      },
      "source": [
        "for key in test_size.keys():\n",
        "     a = test_size.get(key).shape[0] - test_files.get(key).shape[0]\n",
        "     print(a)\n",
        "     if a != 0 :\n",
        "       test_files[key] = test_files[key][:a, :]"
      ],
      "execution_count": null,
      "outputs": []
    },
    {
      "cell_type": "code",
      "metadata": {
        "id": "dhu_bvz8kz4w"
      },
      "source": [
        "pd.to_pickle(all_X_test, \"/content/drive/MyDrive/test_features/MFCCs/all_X_test\")\n",
        "# pd.to_pickle(valid_files_delta, \"/content/drive/MyDrive/valid_features/MFCCs/X_valid_delta\")"
      ],
      "execution_count": null,
      "outputs": []
    },
    {
      "cell_type": "code",
      "metadata": {
        "id": "VQNR27IEYAB5"
      },
      "source": [
        "# pd.to_pickle(train_files, \"/content/drive/MyDrive/train_features/MelSpectogram/X_train.pkl\")\n",
        "# pd.to_pickle(train_files_delta, \"/content/drive/MyDrive/train_melspectograms/X_train_delta.pkl\")"
      ],
      "execution_count": null,
      "outputs": []
    },
    {
      "cell_type": "code",
      "metadata": {
        "id": "pVefUv5psvLb"
      },
      "source": [
        "for key in valid_files.keys():\n",
        "     a = valid_size.get(key) - valid_files.get(key).shape[0]\n",
        "     print(a)\n",
        "     if a != 0 :\n",
        "       valid_files[key] = valid_files[key][:a, :]"
      ],
      "execution_count": null,
      "outputs": []
    },
    {
      "cell_type": "code",
      "metadata": {
        "id": "J-jzxBXUNV3Q"
      },
      "source": [
        "for key in train_files.keys():\n",
        "  print(key, train_files[key].shape)"
      ],
      "execution_count": null,
      "outputs": []
    },
    {
      "cell_type": "code",
      "metadata": {
        "id": "Uz5pjyUaWHls"
      },
      "source": [
        "def window_labels(dict_files, save_path):\n",
        "  for key in dict_files.keys():\n",
        "      mel = dict_files[key]\n",
        "      filename = os.path.join(save_path,f\"{key}.npy\")\n",
        "      windowed_mel = window_stack(mel, key)\n",
        "      np.save(filename, windowed_mel)"
      ],
      "execution_count": null,
      "outputs": []
    },
    {
      "cell_type": "code",
      "metadata": {
        "id": "WznDOaEFW5aV"
      },
      "source": [
        "def window_stack(a, key, window_size=32):\n",
        "  stacked_array = []\n",
        "  print(a.shape)\n",
        "  number_of_arrays = int(a.shape[0]/64) - 1\n",
        "  for i in range(number_of_arrays):\n",
        "    if (i * window_size) < a.shape[0]:\n",
        "            array = a[i*window_size:window_size + i*window_size, :]\n",
        "    else :\n",
        "            array = a[-32:,:]\n",
        "    stacked_array.append(array)\n",
        "  print(key, a.shape[0], np.array(stacked_array).shape)\n",
        "  return np.array(stacked_array)"
      ],
      "execution_count": null,
      "outputs": []
    },
    {
      "cell_type": "code",
      "metadata": {
        "id": "WdVHY1Vs50bT"
      },
      "source": [
        "train_files=[]"
      ],
      "execution_count": null,
      "outputs": []
    },
    {
      "cell_type": "code",
      "metadata": {
        "id": "p7xWzxM2UVpt"
      },
      "source": [
        "window_labels(train_files, '/content/drive/MyDrive/train_melspectograms')"
      ],
      "execution_count": null,
      "outputs": []
    },
    {
      "cell_type": "code",
      "metadata": {
        "id": "V2p7POnbW2IV"
      },
      "source": [
        "window_labels(train_labels, '/content/drive/MyDrive/train_labels')"
      ],
      "execution_count": null,
      "outputs": []
    },
    {
      "cell_type": "code",
      "metadata": {
        "id": "N3VEnMPyWxfl"
      },
      "source": [
        "window_labels(valid_files, '/content/drive/MyDrive/valid_melspectograms')"
      ],
      "execution_count": null,
      "outputs": []
    },
    {
      "cell_type": "code",
      "metadata": {
        "id": "kBZFMqA0Fq4d"
      },
      "source": [
        "window_labels(valid_labels, '/content/drive/MyDrive/valid_labels')"
      ],
      "execution_count": null,
      "outputs": []
    },
    {
      "cell_type": "code",
      "metadata": {
        "id": "8qN-vor8Kpi6"
      },
      "source": [
        "for key in train_labels.keys():\n",
        "  print(train_labels[key].shape)"
      ],
      "execution_count": null,
      "outputs": []
    },
    {
      "cell_type": "code",
      "metadata": {
        "id": "GMzIsugIygvL"
      },
      "source": [
        ""
      ],
      "execution_count": null,
      "outputs": []
    }
  ]
}