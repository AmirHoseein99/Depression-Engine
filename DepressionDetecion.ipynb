{
  "cells": [
    {
      "cell_type": "markdown",
      "metadata": {
        "id": "view-in-github",
        "colab_type": "text"
      },
      "source": [
        "<a href=\"https://colab.research.google.com/github/AmirHoseein99/Depression-Engine/blob/master/DepressionDetecion.ipynb\" target=\"_parent\"><img src=\"https://colab.research.google.com/assets/colab-badge.svg\" alt=\"Open In Colab\"/></a>"
      ]
    },
    {
      "cell_type": "code",
      "execution_count": null,
      "metadata": {
        "id": "3NnmJR2eqzFg"
      },
      "outputs": [],
      "source": [
        "import os\n",
        "import glob\n",
        "import pickle\n",
        "import librosa\n",
        "import sklearn\n",
        "import itertools\n",
        "import numpy as np\n",
        "import pandas as pd\n",
        "import seaborn as sns\n",
        "import librosa.display\n",
        "import tensorflow as tf\n",
        "from keras import layers  \n",
        "from tensorflow import keras\n",
        "from collections import Counter\n",
        "from bottleneck import partition\n",
        "from matplotlib import pyplot as plt\n",
        "from keras.utils.vis_utils import plot_model\n",
        "from tensorflow.keras.preprocessing.image import ImageDataGenerator\n",
        "from scipy import stats"
      ]
    },
    {
      "cell_type": "code",
      "execution_count": null,
      "metadata": {
        "id": "7NG8rIb691Sx"
      },
      "outputs": [],
      "source": [
        "max_transcripts_path = \"/content/drive/MyDrive/Transcript/Max\"\n",
        "min_transcripts_path = \"/content/drive/MyDrive/Transcript/Min\""
      ]
    },
    {
      "cell_type": "code",
      "execution_count": null,
      "metadata": {
        "id": "UiyYVj5n91Lu"
      },
      "outputs": [],
      "source": [
        "def readTranscripts(path):\n",
        "  all_transcripts = {}\n",
        "  all_files = glob.glob(path + \"/*\")\n",
        "  for filename in all_files:\n",
        "      id = int(filename.split(\"/\")[6].split(\"_\")[0])\n",
        "      trainscript = pd.read_csv(filename, sep='\\t')\n",
        "      all_transcripts[id] = trainscript\n",
        "  return all_transcripts"
      ]
    },
    {
      "cell_type": "code",
      "execution_count": null,
      "metadata": {
        "id": "3Hl7RUNHYh2y"
      },
      "outputs": [],
      "source": [
        "max_transcripts = readTranscripts(max_transcripts_path)\n",
        "min_transcripts =  readTranscripts(min_transcripts_path)"
      ]
    },
    {
      "cell_type": "code",
      "source": [
        "max_transcripts[308][:10]"
      ],
      "metadata": {
        "colab": {
          "base_uri": "https://localhost:8080/",
          "height": 363
        },
        "id": "T8g5bGlFD2ur",
        "outputId": "48aa82ca-1a35-47c3-bfd3-19552c285f91"
      },
      "execution_count": null,
      "outputs": [
        {
          "output_type": "execute_result",
          "data": {
            "text/html": [
              "\n",
              "  <div id=\"df-87cc589c-319f-4002-998e-cc8307290f75\">\n",
              "    <div class=\"colab-df-container\">\n",
              "      <div>\n",
              "<style scoped>\n",
              "    .dataframe tbody tr th:only-of-type {\n",
              "        vertical-align: middle;\n",
              "    }\n",
              "\n",
              "    .dataframe tbody tr th {\n",
              "        vertical-align: top;\n",
              "    }\n",
              "\n",
              "    .dataframe thead th {\n",
              "        text-align: right;\n",
              "    }\n",
              "</style>\n",
              "<table border=\"1\" class=\"dataframe\">\n",
              "  <thead>\n",
              "    <tr style=\"text-align: right;\">\n",
              "      <th></th>\n",
              "      <th>start_time</th>\n",
              "      <th>stop_time</th>\n",
              "      <th>speaker</th>\n",
              "      <th>value</th>\n",
              "    </tr>\n",
              "  </thead>\n",
              "  <tbody>\n",
              "    <tr>\n",
              "      <th>0</th>\n",
              "      <td>33.736</td>\n",
              "      <td>36.456</td>\n",
              "      <td>Ellie</td>\n",
              "      <td>hi i'm ellie thanks for coming in today</td>\n",
              "    </tr>\n",
              "    <tr>\n",
              "      <th>1</th>\n",
              "      <td>37.076</td>\n",
              "      <td>40.306</td>\n",
              "      <td>Ellie</td>\n",
              "      <td>i was created to talk to people in a safe and ...</td>\n",
              "    </tr>\n",
              "    <tr>\n",
              "      <th>2</th>\n",
              "      <td>40.976</td>\n",
              "      <td>45.326</td>\n",
              "      <td>Ellie</td>\n",
              "      <td>think of me as a friend i don't judge i can't ...</td>\n",
              "    </tr>\n",
              "    <tr>\n",
              "      <th>3</th>\n",
              "      <td>46.306</td>\n",
              "      <td>55.786</td>\n",
              "      <td>Ellie</td>\n",
              "      <td>i'm here to learn about people and would love ...</td>\n",
              "    </tr>\n",
              "    <tr>\n",
              "      <th>4</th>\n",
              "      <td>56.766</td>\n",
              "      <td>57.996</td>\n",
              "      <td>Ellie</td>\n",
              "      <td>where are you from originally</td>\n",
              "    </tr>\n",
              "    <tr>\n",
              "      <th>5</th>\n",
              "      <td>59.256</td>\n",
              "      <td>60.676</td>\n",
              "      <td>Participant</td>\n",
              "      <td>los angeles california</td>\n",
              "    </tr>\n",
              "    <tr>\n",
              "      <th>6</th>\n",
              "      <td>61.586</td>\n",
              "      <td>62.036</td>\n",
              "      <td>Ellie</td>\n",
              "      <td>really</td>\n",
              "    </tr>\n",
              "    <tr>\n",
              "      <th>7</th>\n",
              "      <td>62.976</td>\n",
              "      <td>63.376</td>\n",
              "      <td>Participant</td>\n",
              "      <td>yes</td>\n",
              "    </tr>\n",
              "    <tr>\n",
              "      <th>8</th>\n",
              "      <td>63.386</td>\n",
              "      <td>65.346</td>\n",
              "      <td>Ellie</td>\n",
              "      <td>what are some things you really like about l_a</td>\n",
              "    </tr>\n",
              "    <tr>\n",
              "      <th>9</th>\n",
              "      <td>66.406</td>\n",
              "      <td>74.826</td>\n",
              "      <td>Participant</td>\n",
              "      <td>um the southern california lifestyle the beach...</td>\n",
              "    </tr>\n",
              "  </tbody>\n",
              "</table>\n",
              "</div>\n",
              "      <button class=\"colab-df-convert\" onclick=\"convertToInteractive('df-87cc589c-319f-4002-998e-cc8307290f75')\"\n",
              "              title=\"Convert this dataframe to an interactive table.\"\n",
              "              style=\"display:none;\">\n",
              "        \n",
              "  <svg xmlns=\"http://www.w3.org/2000/svg\" height=\"24px\"viewBox=\"0 0 24 24\"\n",
              "       width=\"24px\">\n",
              "    <path d=\"M0 0h24v24H0V0z\" fill=\"none\"/>\n",
              "    <path d=\"M18.56 5.44l.94 2.06.94-2.06 2.06-.94-2.06-.94-.94-2.06-.94 2.06-2.06.94zm-11 1L8.5 8.5l.94-2.06 2.06-.94-2.06-.94L8.5 2.5l-.94 2.06-2.06.94zm10 10l.94 2.06.94-2.06 2.06-.94-2.06-.94-.94-2.06-.94 2.06-2.06.94z\"/><path d=\"M17.41 7.96l-1.37-1.37c-.4-.4-.92-.59-1.43-.59-.52 0-1.04.2-1.43.59L10.3 9.45l-7.72 7.72c-.78.78-.78 2.05 0 2.83L4 21.41c.39.39.9.59 1.41.59.51 0 1.02-.2 1.41-.59l7.78-7.78 2.81-2.81c.8-.78.8-2.07 0-2.86zM5.41 20L4 18.59l7.72-7.72 1.47 1.35L5.41 20z\"/>\n",
              "  </svg>\n",
              "      </button>\n",
              "      \n",
              "  <style>\n",
              "    .colab-df-container {\n",
              "      display:flex;\n",
              "      flex-wrap:wrap;\n",
              "      gap: 12px;\n",
              "    }\n",
              "\n",
              "    .colab-df-convert {\n",
              "      background-color: #E8F0FE;\n",
              "      border: none;\n",
              "      border-radius: 50%;\n",
              "      cursor: pointer;\n",
              "      display: none;\n",
              "      fill: #1967D2;\n",
              "      height: 32px;\n",
              "      padding: 0 0 0 0;\n",
              "      width: 32px;\n",
              "    }\n",
              "\n",
              "    .colab-df-convert:hover {\n",
              "      background-color: #E2EBFA;\n",
              "      box-shadow: 0px 1px 2px rgba(60, 64, 67, 0.3), 0px 1px 3px 1px rgba(60, 64, 67, 0.15);\n",
              "      fill: #174EA6;\n",
              "    }\n",
              "\n",
              "    [theme=dark] .colab-df-convert {\n",
              "      background-color: #3B4455;\n",
              "      fill: #D2E3FC;\n",
              "    }\n",
              "\n",
              "    [theme=dark] .colab-df-convert:hover {\n",
              "      background-color: #434B5C;\n",
              "      box-shadow: 0px 1px 3px 1px rgba(0, 0, 0, 0.15);\n",
              "      filter: drop-shadow(0px 1px 2px rgba(0, 0, 0, 0.3));\n",
              "      fill: #FFFFFF;\n",
              "    }\n",
              "  </style>\n",
              "\n",
              "      <script>\n",
              "        const buttonEl =\n",
              "          document.querySelector('#df-87cc589c-319f-4002-998e-cc8307290f75 button.colab-df-convert');\n",
              "        buttonEl.style.display =\n",
              "          google.colab.kernel.accessAllowed ? 'block' : 'none';\n",
              "\n",
              "        async function convertToInteractive(key) {\n",
              "          const element = document.querySelector('#df-87cc589c-319f-4002-998e-cc8307290f75');\n",
              "          const dataTable =\n",
              "            await google.colab.kernel.invokeFunction('convertToInteractive',\n",
              "                                                     [key], {});\n",
              "          if (!dataTable) return;\n",
              "\n",
              "          const docLinkHtml = 'Like what you see? Visit the ' +\n",
              "            '<a target=\"_blank\" href=https://colab.research.google.com/notebooks/data_table.ipynb>data table notebook</a>'\n",
              "            + ' to learn more about interactive tables.';\n",
              "          element.innerHTML = '';\n",
              "          dataTable['output_type'] = 'display_data';\n",
              "          await google.colab.output.renderOutput(dataTable, element);\n",
              "          const docLink = document.createElement('div');\n",
              "          docLink.innerHTML = docLinkHtml;\n",
              "          element.appendChild(docLink);\n",
              "        }\n",
              "      </script>\n",
              "    </div>\n",
              "  </div>\n",
              "  "
            ],
            "text/plain": [
              "   start_time  ...                                              value\n",
              "0      33.736  ...            hi i'm ellie thanks for coming in today\n",
              "1      37.076  ...  i was created to talk to people in a safe and ...\n",
              "2      40.976  ...  think of me as a friend i don't judge i can't ...\n",
              "3      46.306  ...  i'm here to learn about people and would love ...\n",
              "4      56.766  ...                      where are you from originally\n",
              "5      59.256  ...                             los angeles california\n",
              "6      61.586  ...                                             really\n",
              "7      62.976  ...                                                yes\n",
              "8      63.386  ...     what are some things you really like about l_a\n",
              "9      66.406  ...  um the southern california lifestyle the beach...\n",
              "\n",
              "[10 rows x 4 columns]"
            ]
          },
          "metadata": {},
          "execution_count": 122
        }
      ]
    },
    {
      "cell_type": "code",
      "execution_count": null,
      "metadata": {
        "id": "0DRQJpyz91JM"
      },
      "outputs": [],
      "source": [
        "def extract_response_times (transcript) :\n",
        "  response_times = []\n",
        "  for i in range(len(transcript)):\n",
        "    if i > 0:\n",
        "      j = i - 1\n",
        "      if transcript.iloc[i].speaker == \"Participant\":\n",
        "        if transcript.iloc[j].speaker != \"Participant\":\n",
        "          response_time = transcript.iloc[i].start_time - transcript.iloc[j].stop_time\n",
        "          response_time = float(\"{:.2f}\".format(response_time))\n",
        "          response_times.append(response_time)\n",
        "  return np.array(response_times)"
      ]
    },
    {
      "cell_type": "code",
      "execution_count": null,
      "metadata": {
        "id": "pyUr12Qk91B0"
      },
      "outputs": [],
      "source": [
        "def extract_pause_times (transcript):\n",
        "  puase_times=[]\n",
        "  pauses_nums = 0\n",
        "  for i in range(len(transcript)):\n",
        "    if i > 0:\n",
        "      j = i - 1\n",
        "      if transcript.iloc[i].speaker == \"Participant\":\n",
        "        if transcript.iloc[j].speaker == \"Participant\":\n",
        "          pause_time = transcript.iloc[i].start_time - transcript.iloc[j].stop_time\n",
        "          pause_time = float(\"{:.2f}\".format(pause_time))\n",
        "          pauses_nums = pauses_nums + 1\n",
        "          puase_times.append(pause_time)\n",
        "  return np.array(puase_times), pauses_nums"
      ]
    },
    {
      "cell_type": "code",
      "execution_count": null,
      "metadata": {
        "id": "wnXVSh4w2eVn"
      },
      "outputs": [],
      "source": [
        "num_pauses = {}\n",
        "pause_times = {}\n",
        "response_times = {}\n",
        "for k in max_transcripts.keys():\n",
        "  transcript = max_transcripts[k]\n",
        "  pause_time, pauses_nums = extract_pause_times(transcript)\n",
        "  response_time = extract_response_times(transcript)\n",
        "  pause_times[k] = pause_time\n",
        "  response_times[k] = response_time\n",
        "  num_pauses[k] = pauses_nums"
      ]
    },
    {
      "cell_type": "code",
      "execution_count": null,
      "metadata": {
        "id": "YjLyvatq24xA"
      },
      "outputs": [],
      "source": [
        "for k in min_transcripts.keys():\n",
        "  transcript = min_transcripts[k]\n",
        "  pause_time, pauses_nums = extract_pause_times(transcript)\n",
        "  response_time = extract_response_times(transcript)\n",
        "  pause_times[k] = pause_time\n",
        "  response_times[k] = response_time\n",
        "  num_pauses[k] = pauses_nums"
      ]
    },
    {
      "cell_type": "code",
      "source": [
        "transcript_featuers = pd.DataFrame()\n",
        "transcript_featuers[\"id\"] = list(pause_times.keys())\n",
        "transcript_featuers[\"response_time\"] = list(response_times.values())\n",
        "transcript_featuers[\"number_of_pauses\"] = list(num_pauses.values())\n",
        "transcript_featuers[\"pause_times\"] = list(pause_times.values())\n",
        "transcript_featuers[\"PHQ8_Score\"] = [23, 22, 21, 0, 0, 0]"
      ],
      "metadata": {
        "id": "DLBCzhwLCih0"
      },
      "execution_count": null,
      "outputs": []
    },
    {
      "cell_type": "code",
      "source": [
        "transcript_featuers[[\"id\", \"PHQ8_Score\"]]"
      ],
      "metadata": {
        "id": "Hcyqs3A7WnwI"
      },
      "execution_count": null,
      "outputs": []
    },
    {
      "cell_type": "code",
      "source": [
        "transcript_featuers[\"PHQ8_bin\"] = [1, 1, 1, 0, 0, 0]"
      ],
      "metadata": {
        "id": "yT4w9_r3QpGu"
      },
      "execution_count": null,
      "outputs": []
    },
    {
      "cell_type": "code",
      "source": [
        "transcript_featuers"
      ],
      "metadata": {
        "colab": {
          "base_uri": "https://localhost:8080/",
          "height": 238
        },
        "id": "D5CNNw_lff1D",
        "outputId": "9d9e40bd-33c8-4559-93b3-3e7b08d7bc0b"
      },
      "execution_count": null,
      "outputs": [
        {
          "output_type": "execute_result",
          "data": {
            "text/html": [
              "\n",
              "  <div id=\"df-27fd7046-bc96-44f7-824f-0c8f3a8e2283\">\n",
              "    <div class=\"colab-df-container\">\n",
              "      <div>\n",
              "<style scoped>\n",
              "    .dataframe tbody tr th:only-of-type {\n",
              "        vertical-align: middle;\n",
              "    }\n",
              "\n",
              "    .dataframe tbody tr th {\n",
              "        vertical-align: top;\n",
              "    }\n",
              "\n",
              "    .dataframe thead th {\n",
              "        text-align: right;\n",
              "    }\n",
              "</style>\n",
              "<table border=\"1\" class=\"dataframe\">\n",
              "  <thead>\n",
              "    <tr style=\"text-align: right;\">\n",
              "      <th></th>\n",
              "      <th>id</th>\n",
              "      <th>response_time</th>\n",
              "      <th>number_of_pauses</th>\n",
              "      <th>pause_times</th>\n",
              "      <th>PHQ8_Score</th>\n",
              "      <th>PHQ8_bin</th>\n",
              "    </tr>\n",
              "  </thead>\n",
              "  <tbody>\n",
              "    <tr>\n",
              "      <th>0</th>\n",
              "      <td>346</td>\n",
              "      <td>[0.12, 0.35, 0.63, 1.13, 0.27, 0.57, 0.62, 1.1...</td>\n",
              "      <td>226</td>\n",
              "      <td>[0.7, 0.75, 2.87, 0.53, 0.63, 0.37, 0.7, 0.54,...</td>\n",
              "      <td>23</td>\n",
              "      <td>1</td>\n",
              "    </tr>\n",
              "    <tr>\n",
              "      <th>1</th>\n",
              "      <td>311</td>\n",
              "      <td>[0.52, 1.33, 2.65, 1.19, 1.61, 1.04, 0.62, 1.1...</td>\n",
              "      <td>61</td>\n",
              "      <td>[0.61, 0.9, 0.94, 0.47, 0.88, 0.94, 0.84, 1.04...</td>\n",
              "      <td>22</td>\n",
              "      <td>1</td>\n",
              "    </tr>\n",
              "    <tr>\n",
              "      <th>2</th>\n",
              "      <td>308</td>\n",
              "      <td>[1.26, 0.94, 1.06, 0.21, 6.3, 2.89, 2.28, -1.7...</td>\n",
              "      <td>104</td>\n",
              "      <td>[1.11, 1.04, 1.39, 1.52, 5.83, 1.05, 2.78, 1.9...</td>\n",
              "      <td>21</td>\n",
              "      <td>1</td>\n",
              "    </tr>\n",
              "    <tr>\n",
              "      <th>3</th>\n",
              "      <td>364</td>\n",
              "      <td>[0.06, 0.45, 0.81, 0.7, 1.03, 0.31, 0.39, 0.1,...</td>\n",
              "      <td>312</td>\n",
              "      <td>[0.49, 0.28, 0.59, 0.79, 0.21, 0.21, 0.57, 0.5...</td>\n",
              "      <td>0</td>\n",
              "      <td>0</td>\n",
              "    </tr>\n",
              "    <tr>\n",
              "      <th>4</th>\n",
              "      <td>363</td>\n",
              "      <td>[0.15, 0.57, 0.81, 1.13, 0.7, 0.7, 0.03, 0.71,...</td>\n",
              "      <td>121</td>\n",
              "      <td>[0.78, 0.51, 0.56, 0.46, 0.57, 0.67, 0.75, 0.6...</td>\n",
              "      <td>0</td>\n",
              "      <td>0</td>\n",
              "    </tr>\n",
              "    <tr>\n",
              "      <th>5</th>\n",
              "      <td>303</td>\n",
              "      <td>[0.28, 0.35, 0.13, 0.46, 0.63, 0.54, 0.25, 1.0...</td>\n",
              "      <td>46</td>\n",
              "      <td>[1.72, 0.5, 0.49, 0.98, 1.18, 0.56, 0.53, 0.6,...</td>\n",
              "      <td>0</td>\n",
              "      <td>0</td>\n",
              "    </tr>\n",
              "  </tbody>\n",
              "</table>\n",
              "</div>\n",
              "      <button class=\"colab-df-convert\" onclick=\"convertToInteractive('df-27fd7046-bc96-44f7-824f-0c8f3a8e2283')\"\n",
              "              title=\"Convert this dataframe to an interactive table.\"\n",
              "              style=\"display:none;\">\n",
              "        \n",
              "  <svg xmlns=\"http://www.w3.org/2000/svg\" height=\"24px\"viewBox=\"0 0 24 24\"\n",
              "       width=\"24px\">\n",
              "    <path d=\"M0 0h24v24H0V0z\" fill=\"none\"/>\n",
              "    <path d=\"M18.56 5.44l.94 2.06.94-2.06 2.06-.94-2.06-.94-.94-2.06-.94 2.06-2.06.94zm-11 1L8.5 8.5l.94-2.06 2.06-.94-2.06-.94L8.5 2.5l-.94 2.06-2.06.94zm10 10l.94 2.06.94-2.06 2.06-.94-2.06-.94-.94-2.06-.94 2.06-2.06.94z\"/><path d=\"M17.41 7.96l-1.37-1.37c-.4-.4-.92-.59-1.43-.59-.52 0-1.04.2-1.43.59L10.3 9.45l-7.72 7.72c-.78.78-.78 2.05 0 2.83L4 21.41c.39.39.9.59 1.41.59.51 0 1.02-.2 1.41-.59l7.78-7.78 2.81-2.81c.8-.78.8-2.07 0-2.86zM5.41 20L4 18.59l7.72-7.72 1.47 1.35L5.41 20z\"/>\n",
              "  </svg>\n",
              "      </button>\n",
              "      \n",
              "  <style>\n",
              "    .colab-df-container {\n",
              "      display:flex;\n",
              "      flex-wrap:wrap;\n",
              "      gap: 12px;\n",
              "    }\n",
              "\n",
              "    .colab-df-convert {\n",
              "      background-color: #E8F0FE;\n",
              "      border: none;\n",
              "      border-radius: 50%;\n",
              "      cursor: pointer;\n",
              "      display: none;\n",
              "      fill: #1967D2;\n",
              "      height: 32px;\n",
              "      padding: 0 0 0 0;\n",
              "      width: 32px;\n",
              "    }\n",
              "\n",
              "    .colab-df-convert:hover {\n",
              "      background-color: #E2EBFA;\n",
              "      box-shadow: 0px 1px 2px rgba(60, 64, 67, 0.3), 0px 1px 3px 1px rgba(60, 64, 67, 0.15);\n",
              "      fill: #174EA6;\n",
              "    }\n",
              "\n",
              "    [theme=dark] .colab-df-convert {\n",
              "      background-color: #3B4455;\n",
              "      fill: #D2E3FC;\n",
              "    }\n",
              "\n",
              "    [theme=dark] .colab-df-convert:hover {\n",
              "      background-color: #434B5C;\n",
              "      box-shadow: 0px 1px 3px 1px rgba(0, 0, 0, 0.15);\n",
              "      filter: drop-shadow(0px 1px 2px rgba(0, 0, 0, 0.3));\n",
              "      fill: #FFFFFF;\n",
              "    }\n",
              "  </style>\n",
              "\n",
              "      <script>\n",
              "        const buttonEl =\n",
              "          document.querySelector('#df-27fd7046-bc96-44f7-824f-0c8f3a8e2283 button.colab-df-convert');\n",
              "        buttonEl.style.display =\n",
              "          google.colab.kernel.accessAllowed ? 'block' : 'none';\n",
              "\n",
              "        async function convertToInteractive(key) {\n",
              "          const element = document.querySelector('#df-27fd7046-bc96-44f7-824f-0c8f3a8e2283');\n",
              "          const dataTable =\n",
              "            await google.colab.kernel.invokeFunction('convertToInteractive',\n",
              "                                                     [key], {});\n",
              "          if (!dataTable) return;\n",
              "\n",
              "          const docLinkHtml = 'Like what you see? Visit the ' +\n",
              "            '<a target=\"_blank\" href=https://colab.research.google.com/notebooks/data_table.ipynb>data table notebook</a>'\n",
              "            + ' to learn more about interactive tables.';\n",
              "          element.innerHTML = '';\n",
              "          dataTable['output_type'] = 'display_data';\n",
              "          await google.colab.output.renderOutput(dataTable, element);\n",
              "          const docLink = document.createElement('div');\n",
              "          docLink.innerHTML = docLinkHtml;\n",
              "          element.appendChild(docLink);\n",
              "        }\n",
              "      </script>\n",
              "    </div>\n",
              "  </div>\n",
              "  "
            ],
            "text/plain": [
              "    id                                      response_time  ...  PHQ8_Score PHQ8_bin\n",
              "0  346  [0.12, 0.35, 0.63, 1.13, 0.27, 0.57, 0.62, 1.1...  ...          23        1\n",
              "1  311  [0.52, 1.33, 2.65, 1.19, 1.61, 1.04, 0.62, 1.1...  ...          22        1\n",
              "2  308  [1.26, 0.94, 1.06, 0.21, 6.3, 2.89, 2.28, -1.7...  ...          21        1\n",
              "3  364  [0.06, 0.45, 0.81, 0.7, 1.03, 0.31, 0.39, 0.1,...  ...           0        0\n",
              "4  363  [0.15, 0.57, 0.81, 1.13, 0.7, 0.7, 0.03, 0.71,...  ...           0        0\n",
              "5  303  [0.28, 0.35, 0.13, 0.46, 0.63, 0.54, 0.25, 1.0...  ...           0        0\n",
              "\n",
              "[6 rows x 6 columns]"
            ]
          },
          "metadata": {},
          "execution_count": 134
        }
      ]
    },
    {
      "cell_type": "code",
      "execution_count": null,
      "metadata": {
        "colab": {
          "base_uri": "https://localhost:8080/",
          "height": 336
        },
        "id": "poaJwW-b3xs3",
        "outputId": "190afba4-6cd2-4dd4-b6da-8272cef9943d"
      },
      "outputs": [
        {
          "output_type": "display_data",
          "data": {
            "image/png": "[encoded data removed]",
            "text/plain": [
              "<Figure size 1440x360 with 3 Axes>"
            ]
          },
          "metadata": {
            "needs_background": "light"
          }
        }
      ],
      "source": [
        "fig, axs = plt.subplots(ncols=3, nrows=1, figsize=(20,5))\n",
        "i = 0\n",
        "for k in  transcript_featuers[transcript_featuers.PHQ8_Score == 0].id.to_numpy():\n",
        "  sns.histplot(data=transcript_featuers[transcript_featuers.id == k].response_time.to_numpy()[0], ax=axs[i], color=\"darkblue\").set_title(f\"pause_times_of_{k}\")\n",
        "  # sns.histplot(data=transcript_featuers[transcript_featuers.id == k].response_time.to_numpy()[0], ax=axs[1, i], color=\"firebrick\").set_title(f\"response_times_of_{k}\")\n",
        "  i = i+1"
      ]
    },
    {
      "cell_type": "code",
      "execution_count": null,
      "metadata": {
        "colab": {
          "base_uri": "https://localhost:8080/",
          "height": 607
        },
        "id": "Ji2TC7Cm5TKw",
        "outputId": "8c5dc3d7-77b9-486a-d874-fafdc9baf521"
      },
      "outputs": [
        {
          "data": {
            "image/png": "[encoded data removed]",
            "text/plain": [
              "<Figure size 1440x720 with 6 Axes>"
            ]
          },
          "metadata": {},
          "output_type": "display_data"
        }
      ],
      "source": [
        "|fig, axs = plt.subplots(ncols=3, nrows=2, figsize=(20,10))\n",
        "i = 0\n",
        "for k in max_pauses.keys():\n",
        "  sns.histplot(data=max_pauses[k], ax=axs[0, i], color=\"darkblue\").set_title(f\"pause_times_of_{k}\")\n",
        "  sns.histplot(data=max_responses[k], ax=axs[1, i], color=\"firebrick\").set_title(f\"response_times_of_{k}\")\n",
        "  i = i+1"
      ]
    },
    {
      "cell_type": "code",
      "execution_count": null,
      "metadata": {
        "colab": {
          "base_uri": "https://localhost:8080/",
          "height": 607
        },
        "id": "6lVceV5L90oD",
        "outputId": "156cce33-afc6-40ed-9636-890e283c5110"
      },
      "outputs": [
        {
          "data": {
            "image/png": "[encoded data removed]",
            "text/plain": [
              "<Figure size 1440x720 with 6 Axes>"
            ]
          },
          "metadata": {},
          "output_type": "display_data"
        }
      ],
      "source": [
        "fig, axs = plt.subplots(ncols=3, nrows=2, figsize=(20,10))\n",
        "i = 0\n",
        "for k in max_pauses.keys():\n",
        "  sns.histplot(data=max_pauses[k], ax=axs[0, i], color=\"darkblue\").set_title(f\"pause_times_of_{k}\")\n",
        "  i = i+1\n",
        "i = 0\n",
        "for k in min_pauses.keys():\n",
        "  sns.histplot(data=min_pauses[k], ax=axs[1, i], color=\"firebrick\").set_title(f\"response_times_of_{k}\")\n",
        "  i = i+1"
      ]
    },
    {
      "cell_type": "code",
      "execution_count": null,
      "metadata": {
        "colab": {
          "base_uri": "https://localhost:8080/",
          "height": 609
        },
        "id": "3k5fFJCPbozU",
        "outputId": "cc557f81-54e7-4ee0-9646-8184a99b3c46"
      },
      "outputs": [
        {
          "data": {
            "text/plain": [
              "<matplotlib.axes._subplots.AxesSubplot at 0x7ff196d91110>"
            ]
          },
          "execution_count": 9,
          "metadata": {},
          "output_type": "execute_result"
        },
        {
          "data": {
            "image/png": "[encoded data removed]",
            "text/plain": [
              "<Figure size 1440x720 with 6 Axes>"
            ]
          },
          "metadata": {},
          "output_type": "display_data"
        }
      ],
      "source": [
        "import matplotlib.pyplot as plt\n",
        "import seaborn as sns\n",
        "\n",
        "fig, axs = plt.subplots(ncols=2, nrows=3, figsize=(20,10))\n",
        "sns.histplot(data=max_responses[0][max_responses[0] > 0], ax=axs[0,0], color=\"darkblue\")\n",
        "sns.histplot(data=max_responses[1][max_responses[1] > 0], ax=axs[1,0], color=\"darkblue\")\n",
        "sns.histplot(data=max_responses[2][max_responses[2] > 0], ax=axs[2,0], color=\"darkblue\")\n",
        "sns.histplot(data=min_responses[0][min_responses[0] > 0], ax=axs[0,1], color=\"firebrick\")\n",
        "sns.histplot(data=min_responses[1][min_responses[1] > 0], ax=axs[1,1], color=\"firebrick\")\n",
        "sns.histplot(data=min_responses[2][min_responses[2] > 0], ax=axs[2,1], color=\"firebrick\")"
      ]
    },
    {
      "cell_type": "code",
      "source": [
        "transcript_featuers[transcript_featuers.PHQ8_Score == 0][\"number_of_pauses\"]"
      ],
      "metadata": {
        "colab": {
          "base_uri": "https://localhost:8080/"
        },
        "id": "9lT1mnWwRG4y",
        "outputId": "3450c84a-4f74-48d4-ac67-33f07fa4f9fd"
      },
      "execution_count": null,
      "outputs": [
        {
          "output_type": "execute_result",
          "data": {
            "text/plain": [
              "3    121\n",
              "4    312\n",
              "5     46\n",
              "Name: number_of_pauses, dtype: int64"
            ]
          },
          "metadata": {},
          "execution_count": 60
        }
      ]
    },
    {
      "cell_type": "code",
      "execution_count": null,
      "metadata": {
        "id": "1O4Aar59bojG",
        "colab": {
          "base_uri": "https://localhost:8080/",
          "height": 238
        },
        "outputId": "908e1175-c689-4ef5-db6e-dcbd28d0b689"
      },
      "outputs": [
        {
          "output_type": "execute_result",
          "data": {
            "text/html": [
              "\n",
              "  <div id=\"df-f0207339-28ae-4271-b410-31d2a85ef39c\">\n",
              "    <div class=\"colab-df-container\">\n",
              "      <div>\n",
              "<style scoped>\n",
              "    .dataframe tbody tr th:only-of-type {\n",
              "        vertical-align: middle;\n",
              "    }\n",
              "\n",
              "    .dataframe tbody tr th {\n",
              "        vertical-align: top;\n",
              "    }\n",
              "\n",
              "    .dataframe thead th {\n",
              "        text-align: right;\n",
              "    }\n",
              "</style>\n",
              "<table border=\"1\" class=\"dataframe\">\n",
              "  <thead>\n",
              "    <tr style=\"text-align: right;\">\n",
              "      <th></th>\n",
              "      <th>id</th>\n",
              "      <th>response_time</th>\n",
              "      <th>number_of_pauses</th>\n",
              "      <th>pause_times</th>\n",
              "      <th>PHQ8_Score</th>\n",
              "    </tr>\n",
              "  </thead>\n",
              "  <tbody>\n",
              "    <tr>\n",
              "      <th>0</th>\n",
              "      <td>346</td>\n",
              "      <td>[0.12, 0.35, 0.63, 1.13, 0.27, 0.57, 0.62, 1.1...</td>\n",
              "      <td>226</td>\n",
              "      <td>[0.7, 0.75, 2.87, 0.53, 0.63, 0.37, 0.7, 0.54,...</td>\n",
              "      <td>23</td>\n",
              "    </tr>\n",
              "    <tr>\n",
              "      <th>1</th>\n",
              "      <td>308</td>\n",
              "      <td>[1.26, 0.94, 1.06, 0.21, 6.3, 2.89, 2.28, -1.7...</td>\n",
              "      <td>104</td>\n",
              "      <td>[1.11, 1.04, 1.39, 1.52, 5.83, 1.05, 2.78, 1.9...</td>\n",
              "      <td>22</td>\n",
              "    </tr>\n",
              "    <tr>\n",
              "      <th>2</th>\n",
              "      <td>311</td>\n",
              "      <td>[0.52, 1.33, 2.65, 1.19, 1.61, 1.04, 0.62, 1.1...</td>\n",
              "      <td>61</td>\n",
              "      <td>[0.61, 0.9, 0.94, 0.47, 0.88, 0.94, 0.84, 1.04...</td>\n",
              "      <td>21</td>\n",
              "    </tr>\n",
              "    <tr>\n",
              "      <th>3</th>\n",
              "      <td>363</td>\n",
              "      <td>[0.15, 0.57, 0.81, 1.13, 0.7, 0.7, 0.03, 0.71,...</td>\n",
              "      <td>121</td>\n",
              "      <td>[0.78, 0.51, 0.56, 0.46, 0.57, 0.67, 0.75, 0.6...</td>\n",
              "      <td>0</td>\n",
              "    </tr>\n",
              "    <tr>\n",
              "      <th>4</th>\n",
              "      <td>364</td>\n",
              "      <td>[0.06, 0.45, 0.81, 0.7, 1.03, 0.31, 0.39, 0.1,...</td>\n",
              "      <td>312</td>\n",
              "      <td>[0.49, 0.28, 0.59, 0.79, 0.21, 0.21, 0.57, 0.5...</td>\n",
              "      <td>0</td>\n",
              "    </tr>\n",
              "    <tr>\n",
              "      <th>5</th>\n",
              "      <td>303</td>\n",
              "      <td>[0.28, 0.35, 0.13, 0.46, 0.63, 0.54, 0.25, 1.0...</td>\n",
              "      <td>46</td>\n",
              "      <td>[1.72, 0.5, 0.49, 0.98, 1.18, 0.56, 0.53, 0.6,...</td>\n",
              "      <td>0</td>\n",
              "    </tr>\n",
              "  </tbody>\n",
              "</table>\n",
              "</div>\n",
              "      <button class=\"colab-df-convert\" onclick=\"convertToInteractive('df-f0207339-28ae-4271-b410-31d2a85ef39c')\"\n",
              "              title=\"Convert this dataframe to an interactive table.\"\n",
              "              style=\"display:none;\">\n",
              "        \n",
              "  <svg xmlns=\"http://www.w3.org/2000/svg\" height=\"24px\"viewBox=\"0 0 24 24\"\n",
              "       width=\"24px\">\n",
              "    <path d=\"M0 0h24v24H0V0z\" fill=\"none\"/>\n",
              "    <path d=\"M18.56 5.44l.94 2.06.94-2.06 2.06-.94-2.06-.94-.94-2.06-.94 2.06-2.06.94zm-11 1L8.5 8.5l.94-2.06 2.06-.94-2.06-.94L8.5 2.5l-.94 2.06-2.06.94zm10 10l.94 2.06.94-2.06 2.06-.94-2.06-.94-.94-2.06-.94 2.06-2.06.94z\"/><path d=\"M17.41 7.96l-1.37-1.37c-.4-.4-.92-.59-1.43-.59-.52 0-1.04.2-1.43.59L10.3 9.45l-7.72 7.72c-.78.78-.78 2.05 0 2.83L4 21.41c.39.39.9.59 1.41.59.51 0 1.02-.2 1.41-.59l7.78-7.78 2.81-2.81c.8-.78.8-2.07 0-2.86zM5.41 20L4 18.59l7.72-7.72 1.47 1.35L5.41 20z\"/>\n",
              "  </svg>\n",
              "      </button>\n",
              "      \n",
              "  <style>\n",
              "    .colab-df-container {\n",
              "      display:flex;\n",
              "      flex-wrap:wrap;\n",
              "      gap: 12px;\n",
              "    }\n",
              "\n",
              "    .colab-df-convert {\n",
              "      background-color: #E8F0FE;\n",
              "      border: none;\n",
              "      border-radius: 50%;\n",
              "      cursor: pointer;\n",
              "      display: none;\n",
              "      fill: #1967D2;\n",
              "      height: 32px;\n",
              "      padding: 0 0 0 0;\n",
              "      width: 32px;\n",
              "    }\n",
              "\n",
              "    .colab-df-convert:hover {\n",
              "      background-color: #E2EBFA;\n",
              "      box-shadow: 0px 1px 2px rgba(60, 64, 67, 0.3), 0px 1px 3px 1px rgba(60, 64, 67, 0.15);\n",
              "      fill: #174EA6;\n",
              "    }\n",
              "\n",
              "    [theme=dark] .colab-df-convert {\n",
              "      background-color: #3B4455;\n",
              "      fill: #D2E3FC;\n",
              "    }\n",
              "\n",
              "    [theme=dark] .colab-df-convert:hover {\n",
              "      background-color: #434B5C;\n",
              "      box-shadow: 0px 1px 3px 1px rgba(0, 0, 0, 0.15);\n",
              "      filter: drop-shadow(0px 1px 2px rgba(0, 0, 0, 0.3));\n",
              "      fill: #FFFFFF;\n",
              "    }\n",
              "  </style>\n",
              "\n",
              "      <script>\n",
              "        const buttonEl =\n",
              "          document.querySelector('#df-f0207339-28ae-4271-b410-31d2a85ef39c button.colab-df-convert');\n",
              "        buttonEl.style.display =\n",
              "          google.colab.kernel.accessAllowed ? 'block' : 'none';\n",
              "\n",
              "        async function convertToInteractive(key) {\n",
              "          const element = document.querySelector('#df-f0207339-28ae-4271-b410-31d2a85ef39c');\n",
              "          const dataTable =\n",
              "            await google.colab.kernel.invokeFunction('convertToInteractive',\n",
              "                                                     [key], {});\n",
              "          if (!dataTable) return;\n",
              "\n",
              "          const docLinkHtml = 'Like what you see? Visit the ' +\n",
              "            '<a target=\"_blank\" href=https://colab.research.google.com/notebooks/data_table.ipynb>data table notebook</a>'\n",
              "            + ' to learn more about interactive tables.';\n",
              "          element.innerHTML = '';\n",
              "          dataTable['output_type'] = 'display_data';\n",
              "          await google.colab.output.renderOutput(dataTable, element);\n",
              "          const docLink = document.createElement('div');\n",
              "          docLink.innerHTML = docLinkHtml;\n",
              "          element.appendChild(docLink);\n",
              "        }\n",
              "      </script>\n",
              "    </div>\n",
              "  </div>\n",
              "  "
            ],
            "text/plain": [
              "    id  ... PHQ8_Score\n",
              "0  346  ...         23\n",
              "1  308  ...         22\n",
              "2  311  ...         21\n",
              "3  363  ...          0\n",
              "4  364  ...          0\n",
              "5  303  ...          0\n",
              "\n",
              "[6 rows x 5 columns]"
            ]
          },
          "metadata": {},
          "execution_count": 57
        }
      ],
      "source": [
        "transcript_featuers"
      ]
    },
    {
      "cell_type": "code",
      "execution_count": null,
      "metadata": {
        "id": "LJhBgIlDbogP"
      },
      "outputs": [],
      "source": [
        ""
      ]
    },
    {
      "cell_type": "code",
      "execution_count": null,
      "metadata": {
        "id": "-e6rBUy890lz"
      },
      "outputs": [],
      "source": [
        ""
      ]
    },
    {
      "cell_type": "code",
      "execution_count": null,
      "metadata": {
        "id": "tZrgltcG90iL"
      },
      "outputs": [],
      "source": [
        ""
      ]
    },
    {
      "cell_type": "code",
      "execution_count": null,
      "metadata": {
        "id": "Qug3gRDz90eW"
      },
      "outputs": [],
      "source": [
        ""
      ]
    },
    {
      "cell_type": "code",
      "execution_count": null,
      "metadata": {
        "id": "cpjTYdT_90b3"
      },
      "outputs": [],
      "source": [
        ""
      ]
    },
    {
      "cell_type": "code",
      "execution_count": null,
      "metadata": {
        "id": "GymHO8f890ZQ"
      },
      "outputs": [],
      "source": [
        ""
      ]
    },
    {
      "cell_type": "code",
      "execution_count": null,
      "metadata": {
        "id": "_qxtF0U090Wx"
      },
      "outputs": [],
      "source": [
        ""
      ]
    },
    {
      "cell_type": "code",
      "execution_count": null,
      "metadata": {
        "id": "M9pmiLEj90UU"
      },
      "outputs": [],
      "source": [
        ""
      ]
    },
    {
      "cell_type": "code",
      "execution_count": null,
      "metadata": {
        "id": "OJXek7WC90SC"
      },
      "outputs": [],
      "source": [
        ""
      ]
    },
    {
      "cell_type": "code",
      "execution_count": null,
      "metadata": {
        "id": "gljW5oef90Pq"
      },
      "outputs": [],
      "source": [
        ""
      ]
    },
    {
      "cell_type": "code",
      "execution_count": null,
      "metadata": {
        "id": "3-2lX9PN90NK"
      },
      "outputs": [],
      "source": [
        ""
      ]
    },
    {
      "cell_type": "code",
      "execution_count": null,
      "metadata": {
        "id": "qZeY41bu1A3G"
      },
      "outputs": [],
      "source": [
        "all_test_labels =  pd.read_pickle(\"/content/drive/MyDrive/test_labels/y_test.pkl\")\n",
        "all_train_labels = pd.read_pickle(\"/content/drive/MyDrive/train_labels/y_train_dict.pkl\")\n",
        "all_valid_labels = pd.read_pickle(\"/content/drive/MyDrive/valid_labels/y_valid.pkl\")\n",
        "all_test_labels = list(all_test_labels.values())\n",
        "all_train_labels = list(all_train_labels.values())\n",
        "all_valid_labels = list(all_valid_labels.values())\n",
        "all_test_labels = [item for sublist in all_test_labels for item in sublist]\n",
        "all_train_labels = [item for sublist in all_train_labels for item in sublist]\n",
        "all_valid_labels = [item for sublist in all_valid_labels for item in sublist]\n",
        "all_labels = np.append(all_train_labels, all_test_labels, axis=0)\n",
        "all_labels = np.append(all_labels, all_valid_labels, axis=0)\n",
        "values, counts = np.unique(all_labels, return_counts=True)\n",
        "print(all_labels.shape[0])\n",
        "plt.figure(figsize=(8, 6))\n",
        "_ = plt.bar(values, counts, width=.2)"
      ]
    },
    {
      "cell_type": "code",
      "source": [
        ""
      ],
      "metadata": {
        "id": "ssV6kXZvjz_B"
      },
      "execution_count": null,
      "outputs": []
    },
    {
      "cell_type": "code",
      "execution_count": null,
      "metadata": {
        "id": "WZBADGqJCIj7"
      },
      "outputs": [],
      "source": [
        "train_label_path = r'/content/drive/MyDrive/train_labels/depression'\n",
        "valid_label_path = r'/content/drive/MyDrive/valid_labels/depression'\n",
        "test_label_path = r'/content/drive/MyDrive/test_labels/depression/real'\n",
        "predict_test_labels_path = r'/content/drive/MyDrive/test_labels/depression/predicted'"
      ]
    },
    {
      "cell_type": "code",
      "execution_count": null,
      "metadata": {
        "id": "1CX9unnQWVRL"
      },
      "outputs": [],
      "source": [
        "train_labels = pd.read_csv(\"/content/drive/MyDrive/Depression/train_split_Depression_AVEC2017.csv\").iloc[:, 0:4]\n",
        "valid_labels = pd.read_csv(\"/content/drive/MyDrive/Depression/dev_split_Depression_AVEC2017.csv\").iloc[:, 0:4]\n",
        "test_labels = pd.read_csv(\"/content/drive/MyDrive/Depression/full_test_split.csv\").iloc[:, 0:4]\n",
        "test_labels.columns = ['Participant_ID',\t'PHQ8_Binary',\t'PHQ8_Score',\t'Gender']"
      ]
    },
    {
      "cell_type": "code",
      "source": [
        "scores_1 = train_labels.PHQ8_Score.to_numpy()\n",
        "scores_2 = valid_labels.PHQ8_Score.to_numpy()\n",
        "scores_3 = test_labels.PHQ8_Score.to_numpy()"
      ],
      "metadata": {
        "id": "WPr9IP0akD6B"
      },
      "execution_count": null,
      "outputs": []
    },
    {
      "cell_type": "code",
      "source": [
        "scores_1[scores_1 == 9]"
      ],
      "metadata": {
        "colab": {
          "base_uri": "https://localhost:8080/"
        },
        "id": "oukcI9MqkXx4",
        "outputId": "55bc88f8-8f01-4873-e575-f8b3e24b10d9"
      },
      "execution_count": null,
      "outputs": [
        {
          "output_type": "execute_result",
          "data": {
            "text/plain": [
              "array([9, 9, 9, 9, 9, 9, 9, 9, 9, 9])"
            ]
          },
          "metadata": {},
          "execution_count": 45
        }
      ]
    },
    {
      "cell_type": "code",
      "source": [
        "scores_2.shape"
      ],
      "metadata": {
        "colab": {
          "base_uri": "https://localhost:8080/"
        },
        "id": "ekR4qWAtkZvQ",
        "outputId": "382f6e28-0348-479c-eb56-0a09d2ab2752"
      },
      "execution_count": null,
      "outputs": [
        {
          "output_type": "execute_result",
          "data": {
            "text/plain": [
              "(35,)"
            ]
          },
          "metadata": {},
          "execution_count": 21
        }
      ]
    },
    {
      "cell_type": "code",
      "source": [
        "scores_1 =np.append(scores_1, scores_2)"
      ],
      "metadata": {
        "id": "UCMrO4l6kD3J"
      },
      "execution_count": null,
      "outputs": []
    },
    {
      "cell_type": "code",
      "source": [
        "scores_1 =np.append(scores_1, scores_3)"
      ],
      "metadata": {
        "id": "YoakltD2j8ju"
      },
      "execution_count": null,
      "outputs": []
    },
    {
      "cell_type": "code",
      "source": [
        "scores_1[scores_1 == 10 ]"
      ],
      "metadata": {
        "colab": {
          "base_uri": "https://localhost:8080/"
        },
        "id": "kqVe9ljfm42p",
        "outputId": "964a85fe-c0e0-4c5c-94ea-da449a568cdb"
      },
      "execution_count": null,
      "outputs": [
        {
          "output_type": "execute_result",
          "data": {
            "text/plain": [
              "array([10, 10, 10, 10, 10, 10, 10, 10, 10, 10, 10])"
            ]
          },
          "metadata": {},
          "execution_count": 47
        }
      ]
    },
    {
      "cell_type": "code",
      "source": [
        "import random\n",
        "import numpy\n",
        "from matplotlib import pyplot\n",
        "\n",
        "# x = [random.gauss(3,1) for _ in range(400)]\n",
        "# y = [random.gauss(4,2) for _ in range(400)]\n",
        "\n",
        "x = scores_1[scores_1 >= 10 ]\n",
        "y = scores_1[scores_1 < 10]\n",
        "# bins = numpy.linspace(-10, 10, 100)\n",
        "\n",
        "pyplot.hist(x, alpha=0.5, label='x')\n",
        "pyplot.hist(y, alpha=0.5, label='y')\n",
        "pyplot.legend(loc='upper right')\n",
        "pyplot.show()"
      ],
      "metadata": {
        "colab": {
          "base_uri": "https://localhost:8080/",
          "height": 265
        },
        "id": "InwD0sWxnTQZ",
        "outputId": "c1782fe8-d5e2-48ab-daae-96dbf697b131"
      },
      "execution_count": null,
      "outputs": [
        {
          "output_type": "display_data",
          "data": {
            "image/png": "[encoded data removed]",
            "text/plain": [
              "<Figure size 432x288 with 1 Axes>"
            ]
          },
          "metadata": {
            "needs_background": "light"
          }
        }
      ]
    },
    {
      "cell_type": "code",
      "source": [
        "non_depressd = scores_1[scores_1 not in depressd]"
      ],
      "metadata": {
        "id": "1gYXDwWkntlP"
      },
      "execution_count": null,
      "outputs": []
    },
    {
      "cell_type": "code",
      "source": [
        "scores_1[scores_1 < 10]"
      ],
      "metadata": {
        "colab": {
          "base_uri": "https://localhost:8080/"
        },
        "id": "re1EaiBhnunY",
        "outputId": "f0dad934-9ad9-4814-9618-0b7518c5cf01"
      },
      "execution_count": null,
      "outputs": [
        {
          "output_type": "execute_result",
          "data": {
            "text/plain": [
              "array([0, 6, 7, 4, 2, 7, 2, 6, 8, 3, 5, 5, 2, 4, 4, 5, 7, 1, 7, 9, 7, 7,\n",
              "       4, 0, 0, 0, 7, 0, 0, 9, 2, 5, 2, 7, 8, 9, 1, 2, 5, 7, 9, 3, 3, 3,\n",
              "       0, 6, 5, 0, 1, 3, 2, 0, 1, 7, 1, 0, 1, 2, 1, 1, 6, 3, 0, 0, 4, 0,\n",
              "       0, 4, 6, 1, 7, 2, 4, 0, 0, 8, 4, 4, 8, 0, 9, 7, 0, 0, 2, 7, 3, 0,\n",
              "       1, 4, 5, 3, 3, 2, 1, 9, 3, 2, 0, 2, 3, 0, 1, 1, 1, 5, 5, 0, 9, 1,\n",
              "       2, 5, 7, 3, 0, 0, 3, 2, 1, 8, 2, 6, 9, 1, 9, 2, 9, 0, 3, 3, 1, 7])"
            ]
          },
          "metadata": {},
          "execution_count": 60
        }
      ]
    },
    {
      "cell_type": "code",
      "source": [
        "import random\n",
        "import numpy\n",
        "from matplotlib import pyplot\n",
        "\n",
        "depressd = scores_1[scores_1 >= 10 ]\n",
        "non_depressd = scores_1[scores_1 not in depressd]\n",
        "\n",
        "\n",
        "plt.figure(figsize=(12, 5))\n",
        "\n",
        "_ =sns.histplot(scores_1[scores_1 > 9 ], label='depressd',color=\"firebrick\")\n",
        "_ = sns.histplot(scores_1[scores_1 <= 10], label='non_depressd',color=\"darkblue\" )\n",
        "_ = pyplot.legend(loc='upper right' )\n",
        "_ = pyplot.show()"
      ],
      "metadata": {
        "colab": {
          "base_uri": "https://localhost:8080/",
          "height": 355
        },
        "id": "EyD38LhklvJO",
        "outputId": "24cd03fc-62de-4fcd-aeea-1d3a2d5b6487"
      },
      "execution_count": null,
      "outputs": [
        {
          "output_type": "stream",
          "name": "stderr",
          "text": [
            "/usr/local/lib/python3.7/dist-packages/ipykernel_launcher.py:6: DeprecationWarning: elementwise comparison failed; this will raise an error in the future.\n",
            "  \n"
          ]
        },
        {
          "output_type": "display_data",
          "data": {
            "image/png": "[encoded data removed]",
            "text/plain": [
              "<Figure size 864x360 with 1 Axes>"
            ]
          },
          "metadata": {
            "needs_background": "light"
          }
        }
      ]
    },
    {
      "cell_type": "code",
      "source": [
        "plt.figure(figsize=(12, 5))\n",
        "_ = sns.histplot(scores_1, color=\"firebrick\")"
      ],
      "metadata": {
        "colab": {
          "base_uri": "https://localhost:8080/",
          "height": 320
        },
        "id": "pVeMW-4Skf45",
        "outputId": "cb1fdfdd-fbd8-4671-c322-e718082aac86"
      },
      "execution_count": null,
      "outputs": [
        {
          "output_type": "display_data",
          "data": {
            "image/png": "[encoded data removed]",
            "text/plain": [
              "<Figure size 864x360 with 1 Axes>"
            ]
          },
          "metadata": {
            "needs_background": "light"
          }
        }
      ]
    },
    {
      "cell_type": "code",
      "execution_count": null,
      "metadata": {
        "id": "WQ1zP_8b9zT7"
      },
      "outputs": [],
      "source": [
        "from scipy import stats\n",
        "\n",
        "\n",
        "def findSilence(X, window_size=21, step=10):\n",
        "    silences = []\n",
        "    for i in range(0, len(X) - window_size, step):\n",
        "        v = X[i:(i + window_size)]\n",
        "        mode  = stats.mode(v)[0][0]\n",
        "        silences.append(mode)\n",
        "    return np.array(silences)\n",
        "\n",
        "\n",
        "\n",
        "def zero_runs(a):\n",
        "    # Create an array that is 1 where a is 0, and pad each end with an extra 0.\n",
        "    iszero = np.concatenate(([0], np.equal(a, 0).view(np.int8), [0]))\n",
        "    absdiff = np.abs(np.diff(iszero))\n",
        "    # Runs start and end where absdiff is 1.\n",
        "    ranges = np.where(absdiff == 1)[0].reshape(-1, 2)\n",
        "    return ranges\n",
        "\n",
        "\n",
        "\n",
        "def lables_to_df(runs, df):\n",
        "  df = pd.DataFrame(runs.items(), columns=[\"Participant_ID\", \"Number_of_silences\"])\n",
        "  df = df.sort_values(\"Participant_ID\")\n",
        "  df = df.reset_index(drop=True)\n",
        "  return df\n",
        "\n",
        "\n"
      ]
    },
    {
      "cell_type": "code",
      "execution_count": null,
      "metadata": {
        "id": "LUKm_xmy9zBU"
      },
      "outputs": [],
      "source": [
        "def readlabels (path):\n",
        "  all_silences = {}\n",
        "  all_files = glob.glob(path + \"/*\")\n",
        "  for filename in all_files:\n",
        "      id = int(filename.split(\"/\")[6].split(\".\")[0])\n",
        "      labels = pd.read_pickle(filename)\n",
        "      speak_silence = findSilence(labels).reshape(-1)\n",
        "      silence_runs = zero_runs(speak_silence)\n",
        "      silence_lens =silence_runs[:,1] - silence_runs[:,0]\n",
        "      # silence_lens = silence_lens[silence_lens > 1]\n",
        "      avg_length_of_silences = silence_lens.mean()\n",
        "      avg_length_of_silences = float(\"{:.2f}\".format(avg_length_of_silences))\n",
        "      number_of_silences = np.unique(speak_silence, return_counts=1)[1][0]\n",
        "      # avg_number_of_silences = number_of_silences / speak_silence.shape[0]\n",
        "      all_silences[id] = [number_of_silences, silence_lens, avg_length_of_silences]\n",
        "  return all_silences"
      ]
    },
    {
      "cell_type": "code",
      "execution_count": null,
      "metadata": {
        "id": "ElhvZr6J9y_F"
      },
      "outputs": [],
      "source": [
        "train_silences = readlabels(train_label_path)\n",
        "valid_silences = readlabels(valid_label_path)\n",
        "# test_silences = readlabels(test_label_path)"
      ]
    },
    {
      "cell_type": "code",
      "execution_count": null,
      "metadata": {
        "id": "hnsddXwoOH3B"
      },
      "outputs": [],
      "source": [
        "train_silence, valid_silence, test_silence = pd.DataFrame(), pd.DataFrame(), pd.DataFrame()\n",
        "train_silence = lables_to_df(train_silences, train_silence )\n",
        "valid_silence = lables_to_df(valid_silences, valid_silence)\n",
        "test_silence = lables_to_df(test_silences,  test_silence)\n",
        "train_silence_labels =  pd.concat([train_labels, train_silence.iloc[:, 1:]], axis= 1)\n",
        "valid_silence_labels =  pd.concat([valid_labels, valid_silence.iloc[:, 1:]], axis= 1)\n",
        "test_silence_labels =  pd.concat([test_labels, test_silence.iloc[:, 1:]], axis= 1)"
      ]
    },
    {
      "cell_type": "code",
      "execution_count": null,
      "metadata": {
        "id": "0gg1WgVyuOfx"
      },
      "outputs": [],
      "source": [
        "lens, avg_len, nums = [], [], []\n",
        "for id in train_silence_labels.Participant_ID : \n",
        "  avg_len.append(train_silence_labels[train_silence_labels.Participant_ID == id].Number_of_silences.iloc[0][2])\n",
        "  lens.append(train_silence_labels[train_silence_labels.Participant_ID == id].Number_of_silences.iloc[0][1])\n",
        "  nums.append(train_silence_labels[train_silence_labels.Participant_ID == id].Number_of_silences.iloc[0][0])\n",
        "\n",
        "avg_len = np.array(avg_len)\n",
        "lens = np.array(lens)\n",
        "nums = np.array(nums)\n",
        "train_silence_labels[\"Number_of_silences\"] = nums\n",
        "train_silence_labels[\"length_of_silences\"] = lens\n",
        "train_silence_labels[\"avg_length_of_silences\"] = avg_len"
      ]
    },
    {
      "cell_type": "code",
      "execution_count": null,
      "metadata": {
        "id": "0xLfTs7UvfE5"
      },
      "outputs": [],
      "source": [
        "lens, avg_len, nums = [], [],[]\n",
        "for id in test_silence_labels.Participant_ID : \n",
        "  avg_len.append(test_silence_labels[test_silence_labels.Participant_ID == id].Number_of_silences.iloc[0][2])\n",
        "  lens.append(test_silence_labels[test_silence_labels.Participant_ID == id].Number_of_silences.iloc[0][1])\n",
        "  nums.append(test_silence_labels[test_silence_labels.Participant_ID == id].Number_of_silences.iloc[0][0])\n",
        "\n",
        "avg_len = np.array(avg_len)\n",
        "lens = np.array(lens)\n",
        "nums = np.array(nums)\n",
        "test_silence_labels[\"Number_of_silences\"] = nums\n",
        "test_silence_labels[\"length_of_silences\"] = lens\n",
        "test_silence_labels[\"avg_length_of_silences\"] = avg_len"
      ]
    },
    {
      "cell_type": "code",
      "execution_count": null,
      "metadata": {
        "id": "5rIWvQ1jrPdb"
      },
      "outputs": [],
      "source": [
        "lens, avg_len, nums = [], [], []\n",
        "for id in valid_silence_labels.Participant_ID : \n",
        "  avg_len.append(valid_silence_labels[valid_silence_labels.Participant_ID == id].Number_of_silences.iloc[0][2])\n",
        "  lens.append(valid_silence_labels[valid_silence_labels.Participant_ID == id].Number_of_silences.iloc[0][1])\n",
        "  nums.append(valid_silence_labels[valid_silence_labels.Participant_ID == id].Number_of_silences.iloc[0][0])\n",
        "\n",
        "avg_len = np.array(avg_len)\n",
        "lens = np.array(lens)\n",
        "nums = np.array(nums)\n",
        "valid_silence_labels[\"Number_of_silences\"] = nums\n",
        "valid_silence_labels[\"length_of_silences\"] = lens\n",
        "valid_silence_labels[\"avg_length_of_silences\"] = avg_len"
      ]
    },
    {
      "cell_type": "markdown",
      "metadata": {
        "id": "iHaYBsU_S_Dv"
      },
      "source": [
        "TrainSet"
      ]
    },
    {
      "cell_type": "code",
      "execution_count": null,
      "metadata": {
        "colab": {
          "base_uri": "https://localhost:8080/",
          "height": 206
        },
        "id": "qHQ060njw7Zq",
        "outputId": "b4470aac-dfc6-4c33-a69b-dbdd0657efd3"
      },
      "outputs": [
        {
          "data": {
            "text/html": [
              "<div>\n",
              "<style scoped>\n",
              "    .dataframe tbody tr th:only-of-type {\n",
              "        vertical-align: middle;\n",
              "    }\n",
              "\n",
              "    .dataframe tbody tr th {\n",
              "        vertical-align: top;\n",
              "    }\n",
              "\n",
              "    .dataframe thead th {\n",
              "        text-align: right;\n",
              "    }\n",
              "</style>\n",
              "<table border=\"1\" class=\"dataframe\">\n",
              "  <thead>\n",
              "    <tr style=\"text-align: right;\">\n",
              "      <th></th>\n",
              "      <th>Participant_ID</th>\n",
              "      <th>PHQ8_Binary</th>\n",
              "      <th>PHQ8_Score</th>\n",
              "      <th>Gender</th>\n",
              "      <th>Number_of_silences</th>\n",
              "      <th>length_of_silences</th>\n",
              "      <th>avg_length_of_silences</th>\n",
              "    </tr>\n",
              "  </thead>\n",
              "  <tbody>\n",
              "    <tr>\n",
              "      <th>0</th>\n",
              "      <td>303</td>\n",
              "      <td>0</td>\n",
              "      <td>0</td>\n",
              "      <td>0</td>\n",
              "      <td>4699</td>\n",
              "      <td>[15, 1, 6, 1, 1, 1, 6, 3, 2, 5, 4, 17, 1, 4, 4...</td>\n",
              "      <td>6.80</td>\n",
              "    </tr>\n",
              "    <tr>\n",
              "      <th>1</th>\n",
              "      <td>304</td>\n",
              "      <td>0</td>\n",
              "      <td>6</td>\n",
              "      <td>0</td>\n",
              "      <td>4680</td>\n",
              "      <td>[3, 4, 2, 8, 6, 2, 2, 2, 1, 2, 8, 2, 8, 7, 2, ...</td>\n",
              "      <td>8.88</td>\n",
              "    </tr>\n",
              "    <tr>\n",
              "      <th>2</th>\n",
              "      <td>305</td>\n",
              "      <td>0</td>\n",
              "      <td>7</td>\n",
              "      <td>1</td>\n",
              "      <td>10501</td>\n",
              "      <td>[8, 2, 15, 2, 5, 2, 10, 4, 6, 3, 1, 1, 6, 2, 3...</td>\n",
              "      <td>8.41</td>\n",
              "    </tr>\n",
              "    <tr>\n",
              "      <th>3</th>\n",
              "      <td>310</td>\n",
              "      <td>0</td>\n",
              "      <td>4</td>\n",
              "      <td>1</td>\n",
              "      <td>6670</td>\n",
              "      <td>[35, 98, 3, 66, 47, 13, 23, 245, 12, 4, 14, 42...</td>\n",
              "      <td>16.89</td>\n",
              "    </tr>\n",
              "    <tr>\n",
              "      <th>4</th>\n",
              "      <td>312</td>\n",
              "      <td>0</td>\n",
              "      <td>2</td>\n",
              "      <td>1</td>\n",
              "      <td>5902</td>\n",
              "      <td>[3, 12, 9, 1, 2, 8, 3, 4, 1, 6, 6, 2, 7, 5, 9,...</td>\n",
              "      <td>10.73</td>\n",
              "    </tr>\n",
              "  </tbody>\n",
              "</table>\n",
              "</div>"
            ],
            "text/plain": [
              "   Participant_ID  ...  avg_length_of_silences\n",
              "0             303  ...                    6.80\n",
              "1             304  ...                    8.88\n",
              "2             305  ...                    8.41\n",
              "3             310  ...                   16.89\n",
              "4             312  ...                   10.73\n",
              "\n",
              "[5 rows x 7 columns]"
            ]
          },
          "execution_count": 501,
          "metadata": {},
          "output_type": "execute_result"
        }
      ],
      "source": [
        "train_silence_labels.head()"
      ]
    },
    {
      "cell_type": "code",
      "execution_count": null,
      "metadata": {
        "colab": {
          "base_uri": "https://localhost:8080/"
        },
        "id": "5f0gNnCRS8XH",
        "outputId": "ecc991a4-ba30-4909-c591-742388bec836"
      },
      "outputs": [
        {
          "name": "stdout",
          "output_type": "stream",
          "text": [
            "p-value for single sided test: 0.4673\n"
          ]
        }
      ],
      "source": [
        "res = stats.ttest_ind(train_silence_labels[train_silence_labels.PHQ8_Binary == 1].Number_of_silences,\n",
        "                      train_silence_labels[train_silence_labels.PHQ8_Binary == 0].Number_of_silences, equal_var=False)\n",
        "print(f'p-value for single sided test: {res.pvalue / 2:.4f}') "
      ]
    },
    {
      "cell_type": "code",
      "execution_count": null,
      "metadata": {
        "colab": {
          "base_uri": "https://localhost:8080/"
        },
        "id": "FO3rzMU1Ivyz",
        "outputId": "8275b391-6e19-49e4-9dbc-a141e234c0c7"
      },
      "outputs": [
        {
          "name": "stdout",
          "output_type": "stream",
          "text": [
            "p-value for single sided test: 0.2558\n"
          ]
        }
      ],
      "source": [
        "res = stats.ttest_ind(train_silence_labels[train_silence_labels.PHQ8_Binary == 1].avg_length_of_silences,\n",
        "                      train_silence_labels[train_silence_labels.PHQ8_Binary == 0].avg_length_of_silences, equal_var=False)\n",
        "print(f'p-value for single sided test: {res.pvalue / 2:.4f}') "
      ]
    },
    {
      "cell_type": "code",
      "execution_count": null,
      "metadata": {
        "id": "tXxZdCh9e7Fl"
      },
      "outputs": [],
      "source": [
        "g = sns.FacetGrid(train_silence_labels, col='PHQ8_Binary', height=5, aspect=1)\n",
        "g.map(sns.histplot, \"Number_of_silences\")\n",
        "plt.show()"
      ]
    },
    {
      "cell_type": "code",
      "execution_count": null,
      "metadata": {
        "id": "CogPOaaVwBBI"
      },
      "outputs": [],
      "source": [
        "g = sns.FacetGrid(train_silence_labels, col='PHQ8_Binary', height=5, aspect=1)\n",
        "g.map(sns.histplot, \"avg_length_of_silences\")\n",
        "plt.show()"
      ]
    },
    {
      "cell_type": "code",
      "execution_count": null,
      "metadata": {
        "id": "3LcVGxyBFNL8"
      },
      "outputs": [],
      "source": [
        "plt.figure(figsize=(10, 30))\n",
        "plt.subplot(2, 1, 1)\n",
        "ax = sns.barplot(y=\"Participant_ID\", x=\"Number_of_silences\", data=train_silence_labels[train_silence_labels.PHQ8_Binary == 0], color=\"darkblue\",  orient = 'h')\n",
        "ax.tick_params(axis='x', rotation=90)\n",
        "plt.subplot(2, 1, 2)\n",
        "ax = sns.barplot(y=\"Participant_ID\", x=\"Number_of_silences\" , data=train_silence_labels[train_silence_labels.PHQ8_Binary == 1], color=\"firebrick\",  orient = 'h')\n",
        "ax.tick_params(axis='x', rotation=90)\n",
        "# fig.savefig('test_runs.png', dpi=50)"
      ]
    },
    {
      "cell_type": "code",
      "execution_count": null,
      "metadata": {
        "id": "KZmHJmi4oyas"
      },
      "outputs": [],
      "source": [
        "plt.figure(figsize=(10, 30))\n",
        "plt.subplot(2, 1, 1)\n",
        "ax = sns.barplot(y=\"Participant_ID\", x=\"avg_length_of_silences\", data=train_silence_labels[train_silence_labels.PHQ8_Binary == 0], color=\"darkblue\",  orient = 'h')\n",
        "ax.tick_params(axis='x', rotation=90)\n",
        "plt.subplot(2, 1, 2)\n",
        "ax = sns.barplot(y=\"Participant_ID\", x=\"avg_length_of_silences\" , data=train_silence_labels[train_silence_labels.PHQ8_Binary == 1], color=\"firebrick\",  orient = 'h')\n",
        "ax.tick_params(axis='x', rotation=90)\n",
        "# fig.savefig('test_runs.png', dpi=50)"
      ]
    },
    {
      "cell_type": "markdown",
      "metadata": {
        "id": "UjNpdbv3TBV2"
      },
      "source": [
        "Validation Set\n"
      ]
    },
    {
      "cell_type": "code",
      "execution_count": null,
      "metadata": {
        "colab": {
          "base_uri": "https://localhost:8080/",
          "height": 206
        },
        "id": "Q7Lse4ZlxKV9",
        "outputId": "b490024c-30fa-4186-a300-4f25ce68a3a8"
      },
      "outputs": [
        {
          "data": {
            "text/html": [
              "<div>\n",
              "<style scoped>\n",
              "    .dataframe tbody tr th:only-of-type {\n",
              "        vertical-align: middle;\n",
              "    }\n",
              "\n",
              "    .dataframe tbody tr th {\n",
              "        vertical-align: top;\n",
              "    }\n",
              "\n",
              "    .dataframe thead th {\n",
              "        text-align: right;\n",
              "    }\n",
              "</style>\n",
              "<table border=\"1\" class=\"dataframe\">\n",
              "  <thead>\n",
              "    <tr style=\"text-align: right;\">\n",
              "      <th></th>\n",
              "      <th>Participant_ID</th>\n",
              "      <th>PHQ8_Binary</th>\n",
              "      <th>PHQ8_Score</th>\n",
              "      <th>Gender</th>\n",
              "      <th>Number_of_silences</th>\n",
              "      <th>length_of_silences</th>\n",
              "      <th>avg_length_of_silences</th>\n",
              "    </tr>\n",
              "  </thead>\n",
              "  <tbody>\n",
              "    <tr>\n",
              "      <th>0</th>\n",
              "      <td>302</td>\n",
              "      <td>0</td>\n",
              "      <td>4</td>\n",
              "      <td>1</td>\n",
              "      <td>5808</td>\n",
              "      <td>[11, 13, 18, 2, 151, 75, 7, 2, 57, 3, 12, 12, ...</td>\n",
              "      <td>15.65</td>\n",
              "    </tr>\n",
              "    <tr>\n",
              "      <th>1</th>\n",
              "      <td>307</td>\n",
              "      <td>0</td>\n",
              "      <td>4</td>\n",
              "      <td>0</td>\n",
              "      <td>5285</td>\n",
              "      <td>[3, 4, 2, 5, 2, 2, 5, 5, 1, 7, 2, 3, 2, 1, 47,...</td>\n",
              "      <td>6.76</td>\n",
              "    </tr>\n",
              "    <tr>\n",
              "      <th>2</th>\n",
              "      <td>331</td>\n",
              "      <td>0</td>\n",
              "      <td>8</td>\n",
              "      <td>1</td>\n",
              "      <td>5101</td>\n",
              "      <td>[15, 79, 1, 25, 10, 7, 5, 4, 6, 1, 1, 7, 2, 1,...</td>\n",
              "      <td>9.27</td>\n",
              "    </tr>\n",
              "    <tr>\n",
              "      <th>3</th>\n",
              "      <td>335</td>\n",
              "      <td>1</td>\n",
              "      <td>12</td>\n",
              "      <td>0</td>\n",
              "      <td>4863</td>\n",
              "      <td>[3, 58, 1, 4, 2, 4, 1, 1, 3, 5, 1, 1, 2, 2, 74...</td>\n",
              "      <td>7.52</td>\n",
              "    </tr>\n",
              "    <tr>\n",
              "      <th>4</th>\n",
              "      <td>346</td>\n",
              "      <td>1</td>\n",
              "      <td>23</td>\n",
              "      <td>0</td>\n",
              "      <td>7262</td>\n",
              "      <td>[7, 10, 6, 3, 13, 63, 1, 3, 3, 1, 2, 2, 2, 2, ...</td>\n",
              "      <td>7.72</td>\n",
              "    </tr>\n",
              "  </tbody>\n",
              "</table>\n",
              "</div>"
            ],
            "text/plain": [
              "   Participant_ID  ...  avg_length_of_silences\n",
              "0             302  ...                   15.65\n",
              "1             307  ...                    6.76\n",
              "2             331  ...                    9.27\n",
              "3             335  ...                    7.52\n",
              "4             346  ...                    7.72\n",
              "\n",
              "[5 rows x 7 columns]"
            ]
          },
          "execution_count": 508,
          "metadata": {},
          "output_type": "execute_result"
        }
      ],
      "source": [
        "valid_silence_labels.head()"
      ]
    },
    {
      "cell_type": "code",
      "execution_count": null,
      "metadata": {
        "colab": {
          "base_uri": "https://localhost:8080/"
        },
        "id": "3CdlivwsTi1X",
        "outputId": "3ab10749-6c66-4454-d85e-9ffc087c3cd0"
      },
      "outputs": [
        {
          "name": "stdout",
          "output_type": "stream",
          "text": [
            "p-value for single sided test: 0.0018\n"
          ]
        }
      ],
      "source": [
        "res = stats.ttest_ind(valid_silence_labels[valid_silence_labels.PHQ8_Binary == 1].Number_of_silences,\n",
        "                      valid_silence_labels[valid_silence_labels.PHQ8_Binary == 0].Number_of_silences, equal_var=False)\n",
        "print(f'p-value for single sided test: {res.pvalue / 2:.4f}') "
      ]
    },
    {
      "cell_type": "code",
      "execution_count": null,
      "metadata": {
        "colab": {
          "base_uri": "https://localhost:8080/"
        },
        "id": "jLDO-NXuI-9S",
        "outputId": "6de212b8-f937-4224-e81c-37a0be5ead6c"
      },
      "outputs": [
        {
          "name": "stdout",
          "output_type": "stream",
          "text": [
            "p-value for single sided test: 0.2902\n"
          ]
        }
      ],
      "source": [
        "res = stats.ttest_ind(valid_silence_labels[valid_silence_labels.PHQ8_Binary == 1].avg_length_of_silences,\n",
        "                      valid_silence_labels[valid_silence_labels.PHQ8_Binary == 0].avg_length_of_silences, equal_var=False)\n",
        "print(f'p-value for single sided test: {res.pvalue / 2:.4f}') "
      ]
    },
    {
      "cell_type": "code",
      "execution_count": null,
      "metadata": {
        "id": "0YWFI_7eM-js"
      },
      "outputs": [],
      "source": [
        "g = sns.FacetGrid(valid_silence_labels, col='PHQ8_Binary', height=5, aspect=1)\n",
        "g.map(sns.histplot, \"Number_of_silences\")\n",
        "plt.show()"
      ]
    },
    {
      "cell_type": "code",
      "execution_count": null,
      "metadata": {
        "id": "IbtYXNw8I391"
      },
      "outputs": [],
      "source": [
        "g = sns.FacetGrid(valid_silence_labels, col='PHQ8_Binary', height=5, aspect=1)\n",
        "g.map(sns.histplot, \"avg_length_of_silences\")\n",
        "plt.show()"
      ]
    },
    {
      "cell_type": "code",
      "execution_count": null,
      "metadata": {
        "id": "-rlVbv-VFsdQ"
      },
      "outputs": [],
      "source": [
        "plt.figure(figsize=(10, 30))\n",
        "plt.subplot(2, 1, 1)\n",
        "ax = sns.barplot(y=\"Participant_ID\", x=\"Number_of_silences\", data=valid_silence_labels[valid_silence_labels.PHQ8_Binary == 0], color=\"darkblue\",  orient = 'h')\n",
        "ax.tick_params(axis='x', rotation=90)\n",
        "plt.subplot(2, 1, 2)\n",
        "ax = sns.barplot(y=\"Participant_ID\", x=\"Number_of_silences\" , data=valid_silence_labels[valid_silence_labels.PHQ8_Binary == 1], color=\"firebrick\",  orient = 'h')\n",
        "ax.tick_params(axis='x', rotation=90)\n",
        "# fig.savefig('test_runs.png', dpi=50)"
      ]
    },
    {
      "cell_type": "code",
      "execution_count": null,
      "metadata": {
        "id": "LadA-XiyFsa7"
      },
      "outputs": [],
      "source": [
        "plt.figure(figsize=(10, 30))\n",
        "plt.subplot(2, 1, 1)\n",
        "ax = sns.barplot(y=\"Participant_ID\", x=\"avg_length_of_silences\", data=valid_silence_labels[valid_silence_labels.PHQ8_Binary == 0], color=\"darkblue\",  orient = 'h')\n",
        "ax.tick_params(axis='x', rotation=90)\n",
        "plt.subplot(2, 1, 2)\n",
        "ax = sns.barplot(y=\"Participant_ID\", x=\"avg_length_of_silences\" , data=valid_silence_labels[valid_silence_labels.PHQ8_Binary == 1], color=\"firebrick\",  orient = 'h')\n",
        "ax.tick_params(axis='x', rotation=90)\n",
        "# fig.savefig('test_runs.png', dpi=50)"
      ]
    },
    {
      "cell_type": "code",
      "execution_count": null,
      "metadata": {
        "id": "D2FztY85FsY8"
      },
      "outputs": [],
      "source": [
        ""
      ]
    },
    {
      "cell_type": "code",
      "execution_count": null,
      "metadata": {
        "id": "TP1yu3VSFsW_"
      },
      "outputs": [],
      "source": [
        ""
      ]
    },
    {
      "cell_type": "code",
      "execution_count": null,
      "metadata": {
        "id": "nbnfdCXJFsUY"
      },
      "outputs": [],
      "source": [
        ""
      ]
    },
    {
      "cell_type": "code",
      "execution_count": null,
      "metadata": {
        "id": "gazYh0PPFsSZ"
      },
      "outputs": [],
      "source": [
        ""
      ]
    },
    {
      "cell_type": "code",
      "execution_count": null,
      "metadata": {
        "id": "qpsyMvgCFsOy"
      },
      "outputs": [],
      "source": [
        ""
      ]
    },
    {
      "cell_type": "markdown",
      "metadata": {
        "id": "XF1xLKF7TEDP"
      },
      "source": [
        "Test Set"
      ]
    },
    {
      "cell_type": "code",
      "execution_count": null,
      "metadata": {
        "colab": {
          "base_uri": "https://localhost:8080/",
          "height": 206
        },
        "id": "u-8x_UZUxTmA",
        "outputId": "8dbb82ef-6564-410d-e6ea-718c702558ad"
      },
      "outputs": [
        {
          "data": {
            "text/html": [
              "<div>\n",
              "<style scoped>\n",
              "    .dataframe tbody tr th:only-of-type {\n",
              "        vertical-align: middle;\n",
              "    }\n",
              "\n",
              "    .dataframe tbody tr th {\n",
              "        vertical-align: top;\n",
              "    }\n",
              "\n",
              "    .dataframe thead th {\n",
              "        text-align: right;\n",
              "    }\n",
              "</style>\n",
              "<table border=\"1\" class=\"dataframe\">\n",
              "  <thead>\n",
              "    <tr style=\"text-align: right;\">\n",
              "      <th></th>\n",
              "      <th>Participant_ID</th>\n",
              "      <th>PHQ8_Binary</th>\n",
              "      <th>PHQ8_Score</th>\n",
              "      <th>Gender</th>\n",
              "      <th>Number_of_silences</th>\n",
              "      <th>length_of_silences</th>\n",
              "      <th>avg_length_of_silences</th>\n",
              "    </tr>\n",
              "  </thead>\n",
              "  <tbody>\n",
              "    <tr>\n",
              "      <th>0</th>\n",
              "      <td>300</td>\n",
              "      <td>0</td>\n",
              "      <td>2</td>\n",
              "      <td>1</td>\n",
              "      <td>3717</td>\n",
              "      <td>[30, 1, 1, 5, 2, 7, 2, 1, 5, 21, 12, 10, 8, 2,...</td>\n",
              "      <td>10.44</td>\n",
              "    </tr>\n",
              "    <tr>\n",
              "      <th>1</th>\n",
              "      <td>301</td>\n",
              "      <td>0</td>\n",
              "      <td>3</td>\n",
              "      <td>1</td>\n",
              "      <td>4981</td>\n",
              "      <td>[14, 7, 4, 2, 4, 6, 2, 2, 5, 2, 15, 3, 2, 3, 1...</td>\n",
              "      <td>7.55</td>\n",
              "    </tr>\n",
              "    <tr>\n",
              "      <th>2</th>\n",
              "      <td>306</td>\n",
              "      <td>0</td>\n",
              "      <td>0</td>\n",
              "      <td>0</td>\n",
              "      <td>4899</td>\n",
              "      <td>[7, 2, 3, 6, 4, 22, 10, 2, 5, 1, 3, 2, 10, 58,...</td>\n",
              "      <td>6.37</td>\n",
              "    </tr>\n",
              "    <tr>\n",
              "      <th>3</th>\n",
              "      <td>308</td>\n",
              "      <td>1</td>\n",
              "      <td>22</td>\n",
              "      <td>0</td>\n",
              "      <td>6447</td>\n",
              "      <td>[10, 9, 3, 1, 1, 9, 1, 30, 1, 48, 25, 41, 1, 2...</td>\n",
              "      <td>13.32</td>\n",
              "    </tr>\n",
              "    <tr>\n",
              "      <th>4</th>\n",
              "      <td>309</td>\n",
              "      <td>1</td>\n",
              "      <td>15</td>\n",
              "      <td>1</td>\n",
              "      <td>5324</td>\n",
              "      <td>[7, 14, 27, 27, 4, 5, 19, 88, 1, 5, 86, 20, 4,...</td>\n",
              "      <td>16.85</td>\n",
              "    </tr>\n",
              "  </tbody>\n",
              "</table>\n",
              "</div>"
            ],
            "text/plain": [
              "   Participant_ID  ...  avg_length_of_silences\n",
              "0             300  ...                   10.44\n",
              "1             301  ...                    7.55\n",
              "2             306  ...                    6.37\n",
              "3             308  ...                   13.32\n",
              "4             309  ...                   16.85\n",
              "\n",
              "[5 rows x 7 columns]"
            ]
          },
          "execution_count": 516,
          "metadata": {},
          "output_type": "execute_result"
        }
      ],
      "source": [
        "test_silence_labels.head()"
      ]
    },
    {
      "cell_type": "code",
      "execution_count": null,
      "metadata": {
        "colab": {
          "base_uri": "https://localhost:8080/"
        },
        "id": "Zpalkv99TmZ2",
        "outputId": "5ceb8598-ed12-45b3-f923-1588d0138b2a"
      },
      "outputs": [
        {
          "name": "stdout",
          "output_type": "stream",
          "text": [
            "p-value for single sided test: 0.0471\n"
          ]
        }
      ],
      "source": [
        "res = stats.ttest_ind(test_silence_labels[test_silence_labels.PHQ8_Binary == 1].Number_of_silences,\n",
        "                      test_silence_labels[test_silence_labels.PHQ8_Binary == 0].Number_of_silences, equal_var=False)\n",
        "print(f'p-value for single sided test: {res.pvalue / 2:.4f}') "
      ]
    },
    {
      "cell_type": "code",
      "execution_count": null,
      "metadata": {
        "colab": {
          "base_uri": "https://localhost:8080/"
        },
        "id": "6I6mUftFJDOT",
        "outputId": "3eff4491-b96a-4a49-ff83-ffa3e7458686"
      },
      "outputs": [
        {
          "name": "stdout",
          "output_type": "stream",
          "text": [
            "p-value for single sided test: 0.0471\n"
          ]
        }
      ],
      "source": [
        "res = stats.ttest_ind(test_silence_labels[test_silence_labels.PHQ8_Binary == 1].Number_of_silences,\n",
        "                      test_silence_labels[test_silence_labels.PHQ8_Binary == 0].Number_of_silences, equal_var=False)\n",
        "print(f'p-value for single sided test: {res.pvalue / 2:.4f}') "
      ]
    },
    {
      "cell_type": "code",
      "execution_count": null,
      "metadata": {
        "colab": {
          "base_uri": "https://localhost:8080/"
        },
        "id": "1_cO5PztxVPQ",
        "outputId": "0e6be3be-b33c-4c56-c023-2fd772d9e44a"
      },
      "outputs": [
        {
          "name": "stdout",
          "output_type": "stream",
          "text": [
            "p-value for single sided test: 0.0069\n"
          ]
        }
      ],
      "source": [
        "res = stats.ttest_ind(test_silence_labels[test_silence_labels.PHQ8_Binary == 1].avg_length_of_silences,\n",
        "                      test_silence_labels[test_silence_labels.PHQ8_Binary == 0].avg_length_of_silences, equal_var=False)\n",
        "print(f'p-value for single sided test: {res.pvalue / 2:.4f}') "
      ]
    },
    {
      "cell_type": "code",
      "execution_count": null,
      "metadata": {
        "id": "jQHFgtyfM-fV"
      },
      "outputs": [],
      "source": [
        "g = sns.FacetGrid(test_silence_labels, col='PHQ8_Binary', size=5, aspect=1)\n",
        "g.map(sns.histplot, \"Number_of_silences\")\n",
        "plt.show()"
      ]
    },
    {
      "cell_type": "code",
      "execution_count": null,
      "metadata": {
        "id": "N0x1AG21PAPb"
      },
      "outputs": [],
      "source": [
        "g = sns.FacetGrid(test_silence_labels, col='PHQ8_Binary', size=5, aspect=1)\n",
        "g.map(sns.histplot, \"avg_length_of_silences\")\n",
        "plt.show()"
      ]
    },
    {
      "cell_type": "code",
      "execution_count": null,
      "metadata": {
        "id": "ZL0joIEbFznR"
      },
      "outputs": [],
      "source": [
        "plt.figure(figsize=(10, 30))\n",
        "plt.subplot(2, 1, 1)\n",
        "ax = sns.barplot(y=\"Participant_ID\", x=\"Number_of_silences\", data=test_silence_labels[test_silence_labels.PHQ8_Binary == 0], color=\"darkblue\",  orient = 'h')\n",
        "ax.tick_params(axis='x', rotation=90)\n",
        "plt.subplot(2, 1, 2)\n",
        "ax = sns.barplot(y=\"Participant_ID\", x=\"Number_of_silences\" , data=test_silence_labels[test_silence_labels.PHQ8_Binary == 1], color=\"firebrick\",  orient = 'h')\n",
        "ax.tick_params(axis='x', rotation=90)\n",
        "# fig.savefig('test_runs.png', dpi=50)"
      ]
    },
    {
      "cell_type": "code",
      "execution_count": null,
      "metadata": {
        "id": "k7C97LxZoIyo"
      },
      "outputs": [],
      "source": [
        "plt.figure(figsize=(10, 30))\n",
        "plt.subplot(2, 1, 1)\n",
        "ax = sns.barplot(y=\"Participant_ID\", x=\"avg_length_of_silences\", data=test_silence_labels[test_silence_labels.PHQ8_Binary == 0], color=\"darkblue\",  orient = 'h')\n",
        "ax.tick_params(axis='x', rotation=90)\n",
        "plt.subplot(2, 1, 2)\n",
        "ax = sns.barplot(y=\"Participant_ID\", x=\"avg_length_of_silences\" , data=test_silence_labels[test_silence_labels.PHQ8_Binary == 1], color=\"firebrick\",  orient = 'h')\n",
        "ax.tick_params(axis='x', rotation=90)\n",
        "# fig.savefig('test_runs.png', dpi=50)"
      ]
    },
    {
      "cell_type": "code",
      "execution_count": null,
      "metadata": {
        "id": "YsckSOu_oIwQ"
      },
      "outputs": [],
      "source": [
        ""
      ]
    },
    {
      "cell_type": "code",
      "execution_count": null,
      "metadata": {
        "id": "bW4H4sJcoItr"
      },
      "outputs": [],
      "source": [
        ""
      ]
    },
    {
      "cell_type": "code",
      "execution_count": null,
      "metadata": {
        "id": "Uq2LTbZKoIrF"
      },
      "outputs": [],
      "source": [
        ""
      ]
    },
    {
      "cell_type": "code",
      "execution_count": null,
      "metadata": {
        "id": "dMh21iNaoIo2"
      },
      "outputs": [],
      "source": [
        ""
      ]
    },
    {
      "cell_type": "code",
      "execution_count": null,
      "metadata": {
        "id": "LJaU0rTGoIl5"
      },
      "outputs": [],
      "source": [
        ""
      ]
    },
    {
      "cell_type": "code",
      "execution_count": null,
      "metadata": {
        "id": "i1C6UqzPoIjC"
      },
      "outputs": [],
      "source": [
        ""
      ]
    },
    {
      "cell_type": "code",
      "execution_count": null,
      "metadata": {
        "id": "eHtwkSNoFzhD"
      },
      "outputs": [],
      "source": [
        ""
      ]
    },
    {
      "cell_type": "code",
      "execution_count": null,
      "metadata": {
        "id": "5-bdaHTiFze4"
      },
      "outputs": [],
      "source": [
        ""
      ]
    },
    {
      "cell_type": "code",
      "execution_count": null,
      "metadata": {
        "id": "GG1cC9SFFzdE"
      },
      "outputs": [],
      "source": [
        ""
      ]
    },
    {
      "cell_type": "code",
      "execution_count": null,
      "metadata": {
        "id": "9bAal__eFzbb"
      },
      "outputs": [],
      "source": [
        ""
      ]
    },
    {
      "cell_type": "code",
      "execution_count": null,
      "metadata": {
        "id": "_BKbtg7lFzY2"
      },
      "outputs": [],
      "source": [
        ""
      ]
    },
    {
      "cell_type": "markdown",
      "metadata": {
        "id": "eabWm-jcpXgq"
      },
      "source": [
        "Predicted_set"
      ]
    },
    {
      "cell_type": "code",
      "execution_count": null,
      "metadata": {
        "id": "PuwNHF6GqeuJ"
      },
      "outputs": [],
      "source": [
        "def readPredictedlabels (path):\n",
        "  all_silences = {}\n",
        "  all_files = glob.glob(path + \"/*\")\n",
        "  for filename in all_files:\n",
        "      id = int(filename.split(\"/\")[7].split(\".\")[0])\n",
        "      labels = pd.read_pickle(filename)\n",
        "      for i in range(len(labels)):\n",
        "        if labels[i] >= .5 :\n",
        "          labels[i] = 1\n",
        "        else :\n",
        "          labels[i] = 0\n",
        "      speak_silence = findSilence(labels).reshape(-1)\n",
        "      silence_runs = zero_runs(speak_silence)\n",
        "      silence_lens =silence_runs[:,1] - silence_runs[:,0]\n",
        "      # silence_lens = silence_lens[silence_lens > 1]\n",
        "      avg_length_of_silences = silence_lens.mean()\n",
        "      avg_length_of_silences = float(\"{:.2f}\".format(avg_length_of_silences))\n",
        "      number_of_silences = np.unique(speak_silence, return_counts=1)[1][0]\n",
        "      # avg_number_of_silences = number_of_silences / speak_silence.shape[0]\n",
        "      all_silences[id] = [number_of_silences, silence_lens, avg_length_of_silences]\n",
        "  return all_silences"
      ]
    },
    {
      "cell_type": "code",
      "execution_count": null,
      "metadata": {
        "id": "-8uzWmkJqFfa"
      },
      "outputs": [],
      "source": [
        "predicted_silences = readPredictedlabels(predict_test_labels_path)"
      ]
    },
    {
      "cell_type": "code",
      "execution_count": null,
      "metadata": {
        "id": "iMcPmselqEUF"
      },
      "outputs": [],
      "source": [
        "preditct_silence = pd.DataFrame()\n",
        "preditct_silence = lables_to_df(predicted_silences,  preditct_silence)\n",
        "preditct_silence_labels =  pd.concat([test_labels, preditct_silence.iloc[:, 1:]], axis= 1)"
      ]
    },
    {
      "cell_type": "code",
      "execution_count": null,
      "metadata": {
        "id": "fu_Ucn_GZY7f"
      },
      "outputs": [],
      "source": [
        "lens, avg_len, nums = [], [], []\n",
        "for id in preditct_silence_labels.Participant_ID : \n",
        "  avg_len.append(preditct_silence_labels[preditct_silence_labels.Participant_ID == id].Number_of_silences.iloc[0][2])\n",
        "  lens.append(preditct_silence_labels[preditct_silence_labels.Participant_ID == id].Number_of_silences.iloc[0][1])\n",
        "  nums.append(preditct_silence_labels[preditct_silence_labels.Participant_ID == id].Number_of_silences.iloc[0][0])\n",
        "\n",
        "avg_len = np.array(avg_len)\n",
        "lens = np.array(lens)\n",
        "nums = np.array(nums)\n",
        "preditct_silence_labels[\"Number_of_silences\"] = nums\n",
        "preditct_silence_labels[\"length_of_silences\"] = lens\n",
        "preditct_silence_labels[\"avg_length_of_silences\"] = avg_len"
      ]
    },
    {
      "cell_type": "code",
      "execution_count": null,
      "metadata": {
        "colab": {
          "base_uri": "https://localhost:8080/",
          "height": 206
        },
        "id": "XO1nFWgRbBhx",
        "outputId": "d3686f63-0191-435d-d750-c26961920fc0"
      },
      "outputs": [
        {
          "data": {
            "text/html": [
              "<div>\n",
              "<style scoped>\n",
              "    .dataframe tbody tr th:only-of-type {\n",
              "        vertical-align: middle;\n",
              "    }\n",
              "\n",
              "    .dataframe tbody tr th {\n",
              "        vertical-align: top;\n",
              "    }\n",
              "\n",
              "    .dataframe thead th {\n",
              "        text-align: right;\n",
              "    }\n",
              "</style>\n",
              "<table border=\"1\" class=\"dataframe\">\n",
              "  <thead>\n",
              "    <tr style=\"text-align: right;\">\n",
              "      <th></th>\n",
              "      <th>Participant_ID</th>\n",
              "      <th>PHQ8_Binary</th>\n",
              "      <th>PHQ8_Score</th>\n",
              "      <th>Gender</th>\n",
              "      <th>Number_of_silences</th>\n",
              "      <th>length_of_silences</th>\n",
              "      <th>avg_length_of_silences</th>\n",
              "    </tr>\n",
              "  </thead>\n",
              "  <tbody>\n",
              "    <tr>\n",
              "      <th>0</th>\n",
              "      <td>300</td>\n",
              "      <td>0</td>\n",
              "      <td>2</td>\n",
              "      <td>1</td>\n",
              "      <td>5548</td>\n",
              "      <td>[32, 2, 13, 19, 51, 9, 1, 10, 11, 2, 23, 2, 5,...</td>\n",
              "      <td>28.31</td>\n",
              "    </tr>\n",
              "    <tr>\n",
              "      <th>1</th>\n",
              "      <td>301</td>\n",
              "      <td>0</td>\n",
              "      <td>3</td>\n",
              "      <td>1</td>\n",
              "      <td>5607</td>\n",
              "      <td>[11, 15, 14, 14, 11, 6, 31, 19, 286, 119, 35, ...</td>\n",
              "      <td>9.68</td>\n",
              "    </tr>\n",
              "    <tr>\n",
              "      <th>2</th>\n",
              "      <td>306</td>\n",
              "      <td>0</td>\n",
              "      <td>0</td>\n",
              "      <td>0</td>\n",
              "      <td>6490</td>\n",
              "      <td>[11, 2, 1, 7, 2, 1, 3, 2, 6, 23, 8, 2, 3, 2, 6...</td>\n",
              "      <td>9.52</td>\n",
              "    </tr>\n",
              "    <tr>\n",
              "      <th>3</th>\n",
              "      <td>308</td>\n",
              "      <td>1</td>\n",
              "      <td>22</td>\n",
              "      <td>0</td>\n",
              "      <td>7257</td>\n",
              "      <td>[10, 11, 2, 5, 2, 1, 2, 8, 5, 2, 24, 74, 1, 41...</td>\n",
              "      <td>16.57</td>\n",
              "    </tr>\n",
              "    <tr>\n",
              "      <th>4</th>\n",
              "      <td>309</td>\n",
              "      <td>1</td>\n",
              "      <td>15</td>\n",
              "      <td>1</td>\n",
              "      <td>5354</td>\n",
              "      <td>[26, 4, 280, 4, 2, 24, 1, 20, 3, 5, 2, 1, 18, ...</td>\n",
              "      <td>24.90</td>\n",
              "    </tr>\n",
              "  </tbody>\n",
              "</table>\n",
              "</div>"
            ],
            "text/plain": [
              "   Participant_ID  ...  avg_length_of_silences\n",
              "0             300  ...                   28.31\n",
              "1             301  ...                    9.68\n",
              "2             306  ...                    9.52\n",
              "3             308  ...                   16.57\n",
              "4             309  ...                   24.90\n",
              "\n",
              "[5 rows x 7 columns]"
            ]
          },
          "execution_count": 531,
          "metadata": {},
          "output_type": "execute_result"
        }
      ],
      "source": [
        "preditct_silence_labels.head()"
      ]
    },
    {
      "cell_type": "code",
      "execution_count": null,
      "metadata": {
        "id": "dEnqPPkWqENy"
      },
      "outputs": [],
      "source": [
        "fig = plt.figure(figsize=(22,150))\n",
        "for i in range(predicted_runs.shape[0]):\n",
        "  values = predicted_runs.iloc[i].Runs_of_silences\n",
        "  plt.subplot(27, 4, i+1)\n",
        "  plt.title(predicted_runs.iloc[i].Participant_ID)\n",
        "  plt.xlabel(\"succesive Silence\")\n",
        "  plt.ylabel(\"Counts\")\n",
        "  plt.hist(values)\n",
        "fig.savefig('predicted_runs.png', dpi=100)"
      ]
    },
    {
      "cell_type": "code",
      "execution_count": null,
      "metadata": {
        "colab": {
          "base_uri": "https://localhost:8080/"
        },
        "id": "pkjCO-7lpW_r",
        "outputId": "a051a25a-9f10-4018-e114-18bf522d4a67"
      },
      "outputs": [
        {
          "name": "stdout",
          "output_type": "stream",
          "text": [
            "p-value for single sided test: 0.1356\n"
          ]
        }
      ],
      "source": [
        "res = stats.ttest_ind(preditct_silence_labels[preditct_silence_labels.PHQ8_Binary == 1].Number_of_silences,\n",
        "                      preditct_silence_labels[preditct_silence_labels.PHQ8_Binary == 0].Number_of_silences, equal_var=False)\n",
        "print(f'p-value for single sided test: {res.pvalue / 2:.4f}') "
      ]
    },
    {
      "cell_type": "code",
      "execution_count": null,
      "metadata": {
        "colab": {
          "base_uri": "https://localhost:8080/"
        },
        "id": "1yPX-4M5yWVP",
        "outputId": "31c2c164-e94f-4900-b1d7-d72c00fe477e"
      },
      "outputs": [
        {
          "name": "stdout",
          "output_type": "stream",
          "text": [
            "p-value for single sided test: 0.0752\n"
          ]
        }
      ],
      "source": [
        "res = stats.ttest_ind(preditct_silence_labels[preditct_silence_labels.PHQ8_Binary == 1].avg_length_of_silences,\n",
        "                      preditct_silence_labels[preditct_silence_labels.PHQ8_Binary == 0].avg_length_of_silences, equal_var=False)\n",
        "print(f'p-value for single sided test: {res.pvalue / 2:.4f}') "
      ]
    },
    {
      "cell_type": "code",
      "execution_count": null,
      "metadata": {
        "colab": {
          "base_uri": "https://localhost:8080/",
          "height": 369
        },
        "id": "prG6OE9dpW9u",
        "outputId": "e500d805-6440-4ece-ab73-d5fc1180f812"
      },
      "outputs": [
        {
          "data": {
            "image/png": "[encoded data removed]",
            "text/plain": [
              "<Figure size 720x360 with 2 Axes>"
            ]
          },
          "metadata": {},
          "output_type": "display_data"
        }
      ],
      "source": [
        "g = sns.FacetGrid(preditct_silence_labels, col='PHQ8_Binary', height=5, aspect=1)\n",
        "g.map(sns.histplot, \"Number_of_silences\")\n",
        "plt.show()"
      ]
    },
    {
      "cell_type": "code",
      "execution_count": null,
      "metadata": {
        "colab": {
          "base_uri": "https://localhost:8080/",
          "height": 369
        },
        "id": "P1L7RPCVa_Yd",
        "outputId": "09db28d5-00b8-4f5e-8dfe-9f2112fdfed2"
      },
      "outputs": [
        {
          "data": {
            "image/png": "[encoded data removed]",
            "text/plain": [
              "<Figure size 720x360 with 2 Axes>"
            ]
          },
          "metadata": {},
          "output_type": "display_data"
        }
      ],
      "source": [
        "g = sns.FacetGrid(preditct_silence_labels, col='PHQ8_Binary', height=5, aspect=1)\n",
        "g.map(sns.histplot, \"avg_length_of_silences\")\n",
        "plt.show()"
      ]
    },
    {
      "cell_type": "code",
      "execution_count": null,
      "metadata": {
        "id": "lBNz7CMcGI66"
      },
      "outputs": [],
      "source": [
        "plt.figure(figsize=(10, 30))\n",
        "plt.subplot(2, 1, 1)\n",
        "ax = sns.barplot(y=\"Participant_ID\", x=\"Number_of_silences\", data=preditct_silence_labels[preditct_silence_labels.PHQ8_Binary == 0], color=\"darkblue\",  orient = 'h')\n",
        "ax.tick_params(axis='x', rotation=90)\n",
        "plt.subplot(2, 1, 2)\n",
        "ax = sns.barplot(y=\"Participant_ID\", x=\"Number_of_silences\" , data=preditct_silence_labels[preditct_silence_labels.PHQ8_Binary == 1], color=\"firebrick\",  orient = 'h')\n",
        "ax.tick_params(axis='x', rotation=90)\n",
        "# fig.savefig('test_runs.png', dpi=50)"
      ]
    },
    {
      "cell_type": "code",
      "execution_count": null,
      "metadata": {
        "id": "KQeOoyoWGI4Y"
      },
      "outputs": [],
      "source": [
        "plt.figure(figsize=(10, 30))\n",
        "plt.subplot(2, 1, 1)\n",
        "ax = sns.barplot(y=\"Participant_ID\", x=\"avg_length_of_silences\", data=preditct_silence_labels[preditct_silence_labels.PHQ8_Binary == 0], color=\"darkblue\",  orient = 'h')\n",
        "ax.tick_params(axis='x', rotation=90)\n",
        "plt.subplot(2, 1, 2)\n",
        "ax = sns.barplot(y=\"Participant_ID\", x=\"avg_length_of_silences\" , data=preditct_silence_labels[preditct_silence_labels.PHQ8_Binary == 1], color=\"firebrick\",  orient = 'h')\n",
        "ax.tick_params(axis='x', rotation=90)\n",
        "# fig.savefig('test_runs.png', dpi=50)"
      ]
    },
    {
      "cell_type": "code",
      "execution_count": null,
      "metadata": {
        "id": "EW2UQt8_GI2I"
      },
      "outputs": [],
      "source": [
        ""
      ]
    },
    {
      "cell_type": "code",
      "execution_count": null,
      "metadata": {
        "id": "VClWmVjHGI0F"
      },
      "outputs": [],
      "source": [
        ""
      ]
    },
    {
      "cell_type": "code",
      "execution_count": null,
      "metadata": {
        "id": "BOVjtm5FGIwO"
      },
      "outputs": [],
      "source": [
        ""
      ]
    },
    {
      "cell_type": "code",
      "execution_count": null,
      "metadata": {
        "id": "8m3QW1HwGItp"
      },
      "outputs": [],
      "source": [
        ""
      ]
    },
    {
      "cell_type": "code",
      "execution_count": null,
      "metadata": {
        "id": "w1Y-CdwTbHZy"
      },
      "outputs": [],
      "source": [
        ""
      ]
    },
    {
      "cell_type": "code",
      "execution_count": null,
      "metadata": {
        "id": "R0o34u5GbHXl"
      },
      "outputs": [],
      "source": [
        ""
      ]
    },
    {
      "cell_type": "code",
      "execution_count": null,
      "metadata": {
        "id": "_XcmMmMNbHVN"
      },
      "outputs": [],
      "source": [
        ""
      ]
    },
    {
      "cell_type": "code",
      "execution_count": null,
      "metadata": {
        "id": "Y2e0Q-7IbHSX"
      },
      "outputs": [],
      "source": [
        ""
      ]
    },
    {
      "cell_type": "code",
      "execution_count": null,
      "metadata": {
        "id": "DQ_iy0oXMXf4"
      },
      "outputs": [],
      "source": [
        ""
      ]
    },
    {
      "cell_type": "code",
      "execution_count": null,
      "metadata": {
        "id": "RpRArRxEMXdp"
      },
      "outputs": [],
      "source": [
        ""
      ]
    },
    {
      "cell_type": "code",
      "execution_count": null,
      "metadata": {
        "id": "CsO2mna0MXba"
      },
      "outputs": [],
      "source": [
        ""
      ]
    },
    {
      "cell_type": "code",
      "execution_count": null,
      "metadata": {
        "id": "GrQsUFbUMXZM"
      },
      "outputs": [],
      "source": [
        ""
      ]
    },
    {
      "cell_type": "code",
      "execution_count": null,
      "metadata": {
        "id": "_FAqOqclMXXd"
      },
      "outputs": [],
      "source": [
        ""
      ]
    },
    {
      "cell_type": "code",
      "execution_count": null,
      "metadata": {
        "id": "lXuDARGoMXV-"
      },
      "outputs": [],
      "source": [
        ""
      ]
    },
    {
      "cell_type": "code",
      "execution_count": null,
      "metadata": {
        "id": "EFQe3lk6MXSM"
      },
      "outputs": [],
      "source": [
        ""
      ]
    },
    {
      "cell_type": "code",
      "execution_count": null,
      "metadata": {
        "id": "V67S1FJyMXPk"
      },
      "outputs": [],
      "source": [
        ""
      ]
    },
    {
      "cell_type": "code",
      "execution_count": null,
      "metadata": {
        "id": "p_ACJ7JWMXNC"
      },
      "outputs": [],
      "source": [
        "all_labels = pd.concat([train_labels, valid_labels])\n",
        "all_labels = pd.concat([all_labels, test_labels])\n",
        "all_labels = all_labels.reset_index()\n",
        "all_labels = all_labels.iloc[:, 1:]"
      ]
    },
    {
      "cell_type": "code",
      "execution_count": null,
      "metadata": {
        "colab": {
          "base_uri": "https://localhost:8080/",
          "height": 206
        },
        "id": "ScoJ88swHQpz",
        "outputId": "1ee0526f-c079-4fb6-9906-36245ca4aaa9"
      },
      "outputs": [
        {
          "data": {
            "text/html": [
              "\n",
              "  <div id=\"df-49845646-fd2f-4637-91fa-ed1f03d6da3d\">\n",
              "    <div class=\"colab-df-container\">\n",
              "      <div>\n",
              "<style scoped>\n",
              "    .dataframe tbody tr th:only-of-type {\n",
              "        vertical-align: middle;\n",
              "    }\n",
              "\n",
              "    .dataframe tbody tr th {\n",
              "        vertical-align: top;\n",
              "    }\n",
              "\n",
              "    .dataframe thead th {\n",
              "        text-align: right;\n",
              "    }\n",
              "</style>\n",
              "<table border=\"1\" class=\"dataframe\">\n",
              "  <thead>\n",
              "    <tr style=\"text-align: right;\">\n",
              "      <th></th>\n",
              "      <th>Participant_ID</th>\n",
              "      <th>PHQ8_Binary</th>\n",
              "      <th>PHQ8_Score</th>\n",
              "      <th>Gender</th>\n",
              "    </tr>\n",
              "  </thead>\n",
              "  <tbody>\n",
              "    <tr>\n",
              "      <th>0</th>\n",
              "      <td>303</td>\n",
              "      <td>0</td>\n",
              "      <td>0</td>\n",
              "      <td>0</td>\n",
              "    </tr>\n",
              "    <tr>\n",
              "      <th>1</th>\n",
              "      <td>304</td>\n",
              "      <td>0</td>\n",
              "      <td>6</td>\n",
              "      <td>0</td>\n",
              "    </tr>\n",
              "    <tr>\n",
              "      <th>2</th>\n",
              "      <td>305</td>\n",
              "      <td>0</td>\n",
              "      <td>7</td>\n",
              "      <td>1</td>\n",
              "    </tr>\n",
              "    <tr>\n",
              "      <th>3</th>\n",
              "      <td>310</td>\n",
              "      <td>0</td>\n",
              "      <td>4</td>\n",
              "      <td>1</td>\n",
              "    </tr>\n",
              "    <tr>\n",
              "      <th>4</th>\n",
              "      <td>312</td>\n",
              "      <td>0</td>\n",
              "      <td>2</td>\n",
              "      <td>1</td>\n",
              "    </tr>\n",
              "  </tbody>\n",
              "</table>\n",
              "</div>\n",
              "      <button class=\"colab-df-convert\" onclick=\"convertToInteractive('df-49845646-fd2f-4637-91fa-ed1f03d6da3d')\"\n",
              "              title=\"Convert this dataframe to an interactive table.\"\n",
              "              style=\"display:none;\">\n",
              "        \n",
              "  <svg xmlns=\"http://www.w3.org/2000/svg\" height=\"24px\"viewBox=\"0 0 24 24\"\n",
              "       width=\"24px\">\n",
              "    <path d=\"M0 0h24v24H0V0z\" fill=\"none\"/>\n",
              "    <path d=\"M18.56 5.44l.94 2.06.94-2.06 2.06-.94-2.06-.94-.94-2.06-.94 2.06-2.06.94zm-11 1L8.5 8.5l.94-2.06 2.06-.94-2.06-.94L8.5 2.5l-.94 2.06-2.06.94zm10 10l.94 2.06.94-2.06 2.06-.94-2.06-.94-.94-2.06-.94 2.06-2.06.94z\"/><path d=\"M17.41 7.96l-1.37-1.37c-.4-.4-.92-.59-1.43-.59-.52 0-1.04.2-1.43.59L10.3 9.45l-7.72 7.72c-.78.78-.78 2.05 0 2.83L4 21.41c.39.39.9.59 1.41.59.51 0 1.02-.2 1.41-.59l7.78-7.78 2.81-2.81c.8-.78.8-2.07 0-2.86zM5.41 20L4 18.59l7.72-7.72 1.47 1.35L5.41 20z\"/>\n",
              "  </svg>\n",
              "      </button>\n",
              "      \n",
              "  <style>\n",
              "    .colab-df-container {\n",
              "      display:flex;\n",
              "      flex-wrap:wrap;\n",
              "      gap: 12px;\n",
              "    }\n",
              "\n",
              "    .colab-df-convert {\n",
              "      background-color: #E8F0FE;\n",
              "      border: none;\n",
              "      border-radius: 50%;\n",
              "      cursor: pointer;\n",
              "      display: none;\n",
              "      fill: #1967D2;\n",
              "      height: 32px;\n",
              "      padding: 0 0 0 0;\n",
              "      width: 32px;\n",
              "    }\n",
              "\n",
              "    .colab-df-convert:hover {\n",
              "      background-color: #E2EBFA;\n",
              "      box-shadow: 0px 1px 2px rgba(60, 64, 67, 0.3), 0px 1px 3px 1px rgba(60, 64, 67, 0.15);\n",
              "      fill: #174EA6;\n",
              "    }\n",
              "\n",
              "    [theme=dark] .colab-df-convert {\n",
              "      background-color: #3B4455;\n",
              "      fill: #D2E3FC;\n",
              "    }\n",
              "\n",
              "    [theme=dark] .colab-df-convert:hover {\n",
              "      background-color: #434B5C;\n",
              "      box-shadow: 0px 1px 3px 1px rgba(0, 0, 0, 0.15);\n",
              "      filter: drop-shadow(0px 1px 2px rgba(0, 0, 0, 0.3));\n",
              "      fill: #FFFFFF;\n",
              "    }\n",
              "  </style>\n",
              "\n",
              "      <script>\n",
              "        const buttonEl =\n",
              "          document.querySelector('#df-49845646-fd2f-4637-91fa-ed1f03d6da3d button.colab-df-convert');\n",
              "        buttonEl.style.display =\n",
              "          google.colab.kernel.accessAllowed ? 'block' : 'none';\n",
              "\n",
              "        async function convertToInteractive(key) {\n",
              "          const element = document.querySelector('#df-49845646-fd2f-4637-91fa-ed1f03d6da3d');\n",
              "          const dataTable =\n",
              "            await google.colab.kernel.invokeFunction('convertToInteractive',\n",
              "                                                     [key], {});\n",
              "          if (!dataTable) return;\n",
              "\n",
              "          const docLinkHtml = 'Like what you see? Visit the ' +\n",
              "            '<a target=\"_blank\" href=https://colab.research.google.com/notebooks/data_table.ipynb>data table notebook</a>'\n",
              "            + ' to learn more about interactive tables.';\n",
              "          element.innerHTML = '';\n",
              "          dataTable['output_type'] = 'display_data';\n",
              "          await google.colab.output.renderOutput(dataTable, element);\n",
              "          const docLink = document.createElement('div');\n",
              "          docLink.innerHTML = docLinkHtml;\n",
              "          element.appendChild(docLink);\n",
              "        }\n",
              "      </script>\n",
              "    </div>\n",
              "  </div>\n",
              "  "
            ],
            "text/plain": [
              "   Participant_ID  PHQ8_Binary  PHQ8_Score  Gender\n",
              "0             303            0           0       0\n",
              "1             304            0           6       0\n",
              "2             305            0           7       1\n",
              "3             310            0           4       1\n",
              "4             312            0           2       1"
            ]
          },
          "execution_count": null,
          "metadata": {},
          "output_type": "execute_result"
        }
      ],
      "source": [
        "all_labels.head()"
      ]
    },
    {
      "cell_type": "code",
      "execution_count": null,
      "metadata": {
        "colab": {
          "base_uri": "https://localhost:8080/"
        },
        "id": "wdMPmNDIIupN",
        "outputId": "cfaa6669-5c75-4b4d-9270-cb18dc117864"
      },
      "outputs": [
        {
          "data": {
            "text/plain": [
              "Participant_ID    311\n",
              "PHQ8_Binary         1\n",
              "PHQ8_Score         21\n",
              "Gender              0\n",
              "Name: 147, dtype: int64"
            ]
          },
          "execution_count": 46,
          "metadata": {},
          "output_type": "execute_result"
        }
      ],
      "source": [
        "all_labels.iloc[147]"
      ]
    },
    {
      "cell_type": "code",
      "execution_count": null,
      "metadata": {
        "id": "C58XN2i3HQlx"
      },
      "outputs": [],
      "source": [
        "scores = all_labels.PHQ8_Score.to_numpy()"
      ]
    },
    {
      "cell_type": "code",
      "execution_count": null,
      "metadata": {
        "colab": {
          "base_uri": "https://localhost:8080/"
        },
        "id": "qm9pKczJHz6C",
        "outputId": "ee1cfbe2-bdca-4b68-e160-63906b59b246"
      },
      "outputs": [
        {
          "data": {
            "text/plain": [
              "(array([  0,  41,  42,  43,  45,  46,  70,  74,  79,  84,  93,  94,  96,\n",
              "         97, 104, 105, 115, 120, 121, 128, 141, 144, 157, 167, 169, 184]),)"
            ]
          },
          "execution_count": 30,
          "metadata": {},
          "output_type": "execute_result"
        }
      ],
      "source": [
        "np.where(scores == scores.min())"
      ]
    },
    {
      "cell_type": "code",
      "execution_count": null,
      "metadata": {
        "colab": {
          "base_uri": "https://localhost:8080/"
        },
        "id": "j02D4_LqHQiG",
        "outputId": "448f8032-1a17-4f27-913b-f2a625b10bd6"
      },
      "outputs": [
        {
          "name": "stdout",
          "output_type": "stream",
          "text": [
            "max : \n",
            "[20 20 20 20 23 22 21] 12     321\n",
            "30     348\n",
            "40     362\n",
            "72     426\n",
            "111    346\n",
            "145    308\n",
            "147    311\n",
            "Name: Participant_ID, dtype: int64\n",
            "min : \n",
            "[0 0 0 0 0 0 0 0 0 0 0 0 0 0 0 0 0 0 0 0 0 0 0 0 0 0] 0      303\n",
            "41     363\n",
            "42     364\n",
            "43     366\n",
            "45     369\n",
            "46     370\n",
            "70     423\n",
            "74     428\n",
            "79     437\n",
            "84     446\n",
            "93     463\n",
            "94     464\n",
            "96     471\n",
            "97     473\n",
            "104    487\n",
            "105    488\n",
            "115    382\n",
            "120    403\n",
            "121    404\n",
            "128    436\n",
            "141    492\n",
            "144    306\n",
            "157    361\n",
            "167    408\n",
            "169    411\n",
            "184    467\n",
            "Name: Participant_ID, dtype: int64\n"
          ]
        }
      ],
      "source": [
        "print(\"max : \")\n",
        "for score in np.where(scores >= 20):\n",
        "  print(scores[score], all_labels.iloc[score].Participant_ID)\n",
        "print(\"min : \")\n",
        "for score in np.where(scores == scores.min()):\n",
        "  print(scores[score], all_labels.iloc[score].Participant_ID)"
      ]
    },
    {
      "cell_type": "code",
      "execution_count": null,
      "metadata": {
        "id": "vf5olpMAHQbP"
      },
      "outputs": [],
      "source": [
        "|"
      ]
    },
    {
      "cell_type": "code",
      "execution_count": null,
      "metadata": {
        "id": "m6HzIGdAHQXx"
      },
      "outputs": [],
      "source": [
        ""
      ]
    },
    {
      "cell_type": "code",
      "execution_count": null,
      "metadata": {
        "id": "lhnW37CXHQUu"
      },
      "outputs": [],
      "source": [
        ""
      ]
    },
    {
      "cell_type": "code",
      "execution_count": null,
      "metadata": {
        "id": "V8SjgpMdHQRv"
      },
      "outputs": [],
      "source": [
        ""
      ]
    },
    {
      "cell_type": "code",
      "execution_count": null,
      "metadata": {
        "id": "V1cP42fCHQOh"
      },
      "outputs": [],
      "source": [
        ""
      ]
    },
    {
      "cell_type": "code",
      "execution_count": null,
      "metadata": {
        "id": "Nk5qqDVDq-HT"
      },
      "outputs": [],
      "source": [
        "all_ds = pd.concat([train_silence_labels, valid_silence_labels])\n",
        "all_ds = pd.concat([all_ds, test_silence_labels])\n",
        "all_ds = all_ds.reset_index()\n",
        "all_ds = all_ds.iloc[:, 1:]"
      ]
    },
    {
      "cell_type": "code",
      "execution_count": null,
      "metadata": {
        "colab": {
          "base_uri": "https://localhost:8080/",
          "height": 400
        },
        "id": "XjpJ0t-fYa1C",
        "outputId": "1ed97b43-42c9-4d90-9581-7ed5beea8c72"
      },
      "outputs": [
        {
          "data": {
            "text/plain": [
              "<seaborn.axisgrid.FacetGrid at 0x7fd02014e0d0>"
            ]
          },
          "execution_count": 539,
          "metadata": {},
          "output_type": "execute_result"
        },
        {
          "data": {
            "image/png": "[encoded data removed]",
            "text/plain": [
              "<Figure size 360x360 with 1 Axes>"
            ]
          },
          "metadata": {},
          "output_type": "display_data"
        }
      ],
      "source": [
        "ax = sns.displot(all_ds.PHQ8_Score.values)\n",
        "ax.set(xlabel='Depression Severity [PHQ8]')"
      ]
    },
    {
      "cell_type": "code",
      "execution_count": null,
      "metadata": {
        "colab": {
          "base_uri": "https://localhost:8080/"
        },
        "id": "ehz4Qg7_UTi8",
        "outputId": "281c00e8-bf28-426a-c5b4-012725d9e45e"
      },
      "outputs": [
        {
          "data": {
            "text/plain": [
              "0    133\n",
              "1     56\n",
              "Name: PHQ8_Binary, dtype: int64"
            ]
          },
          "execution_count": 540,
          "metadata": {},
          "output_type": "execute_result"
        }
      ],
      "source": [
        "all_ds.PHQ8_Binary.value_counts()"
      ]
    },
    {
      "cell_type": "code",
      "execution_count": null,
      "metadata": {
        "colab": {
          "base_uri": "https://localhost:8080/",
          "height": 206
        },
        "id": "AspZ2JitQHcz",
        "outputId": "a8717c04-77be-46e0-bb6b-170cd15b271c"
      },
      "outputs": [
        {
          "data": {
            "text/html": [
              "<div>\n",
              "<style scoped>\n",
              "    .dataframe tbody tr th:only-of-type {\n",
              "        vertical-align: middle;\n",
              "    }\n",
              "\n",
              "    .dataframe tbody tr th {\n",
              "        vertical-align: top;\n",
              "    }\n",
              "\n",
              "    .dataframe thead th {\n",
              "        text-align: right;\n",
              "    }\n",
              "</style>\n",
              "<table border=\"1\" class=\"dataframe\">\n",
              "  <thead>\n",
              "    <tr style=\"text-align: right;\">\n",
              "      <th></th>\n",
              "      <th>Participant_ID</th>\n",
              "      <th>PHQ8_Binary</th>\n",
              "      <th>PHQ8_Score</th>\n",
              "      <th>Gender</th>\n",
              "      <th>Number_of_silences</th>\n",
              "      <th>length_of_silences</th>\n",
              "      <th>avg_length_of_silences</th>\n",
              "    </tr>\n",
              "  </thead>\n",
              "  <tbody>\n",
              "    <tr>\n",
              "      <th>0</th>\n",
              "      <td>303</td>\n",
              "      <td>0</td>\n",
              "      <td>0</td>\n",
              "      <td>0</td>\n",
              "      <td>4699</td>\n",
              "      <td>[15, 1, 6, 1, 1, 1, 6, 3, 2, 5, 4, 17, 1, 4, 4...</td>\n",
              "      <td>6.80</td>\n",
              "    </tr>\n",
              "    <tr>\n",
              "      <th>1</th>\n",
              "      <td>304</td>\n",
              "      <td>0</td>\n",
              "      <td>6</td>\n",
              "      <td>0</td>\n",
              "      <td>4680</td>\n",
              "      <td>[3, 4, 2, 8, 6, 2, 2, 2, 1, 2, 8, 2, 8, 7, 2, ...</td>\n",
              "      <td>8.88</td>\n",
              "    </tr>\n",
              "    <tr>\n",
              "      <th>2</th>\n",
              "      <td>305</td>\n",
              "      <td>0</td>\n",
              "      <td>7</td>\n",
              "      <td>1</td>\n",
              "      <td>10501</td>\n",
              "      <td>[8, 2, 15, 2, 5, 2, 10, 4, 6, 3, 1, 1, 6, 2, 3...</td>\n",
              "      <td>8.41</td>\n",
              "    </tr>\n",
              "    <tr>\n",
              "      <th>3</th>\n",
              "      <td>310</td>\n",
              "      <td>0</td>\n",
              "      <td>4</td>\n",
              "      <td>1</td>\n",
              "      <td>6670</td>\n",
              "      <td>[35, 98, 3, 66, 47, 13, 23, 245, 12, 4, 14, 42...</td>\n",
              "      <td>16.89</td>\n",
              "    </tr>\n",
              "    <tr>\n",
              "      <th>4</th>\n",
              "      <td>312</td>\n",
              "      <td>0</td>\n",
              "      <td>2</td>\n",
              "      <td>1</td>\n",
              "      <td>5902</td>\n",
              "      <td>[3, 12, 9, 1, 2, 8, 3, 4, 1, 6, 6, 2, 7, 5, 9,...</td>\n",
              "      <td>10.73</td>\n",
              "    </tr>\n",
              "  </tbody>\n",
              "</table>\n",
              "</div>"
            ],
            "text/plain": [
              "   Participant_ID  ...  avg_length_of_silences\n",
              "0             303  ...                    6.80\n",
              "1             304  ...                    8.88\n",
              "2             305  ...                    8.41\n",
              "3             310  ...                   16.89\n",
              "4             312  ...                   10.73\n",
              "\n",
              "[5 rows x 7 columns]"
            ]
          },
          "execution_count": 541,
          "metadata": {},
          "output_type": "execute_result"
        }
      ],
      "source": [
        "all_ds.head()"
      ]
    },
    {
      "cell_type": "code",
      "execution_count": null,
      "metadata": {
        "colab": {
          "base_uri": "https://localhost:8080/"
        },
        "id": "UsGULiqCrBug",
        "outputId": "3ce7adce-a24d-4ce0-cf78-580184ad42e0"
      },
      "outputs": [
        {
          "name": "stdout",
          "output_type": "stream",
          "text": [
            "p-value for single sided test: 0.0134\n"
          ]
        }
      ],
      "source": [
        "res = stats.ttest_ind(all_ds[all_ds.PHQ8_Binary == 1].Number_of_silences,\n",
        "                      all_ds[all_ds.PHQ8_Binary == 0].Number_of_silences, equal_var=False)\n",
        "print(f'p-value for single sided test: {res.pvalue / 2:.4f}') "
      ]
    },
    {
      "cell_type": "code",
      "execution_count": null,
      "metadata": {
        "colab": {
          "base_uri": "https://localhost:8080/"
        },
        "id": "GLtBVeOPyq8u",
        "outputId": "f9965756-3bec-4dfa-e58c-3e96eb2d322c"
      },
      "outputs": [
        {
          "name": "stdout",
          "output_type": "stream",
          "text": [
            "p-value for single sided test: 0.1097\n"
          ]
        }
      ],
      "source": [
        "res = stats.ttest_ind(all_ds[all_ds.PHQ8_Binary == 1].avg_length_of_silences,\n",
        "                      all_ds[all_ds.PHQ8_Binary == 0].avg_length_of_silences, equal_var=False)\n",
        "print(f'p-value for single sided test: {res.pvalue / 2:.4f}') "
      ]
    },
    {
      "cell_type": "code",
      "execution_count": null,
      "metadata": {
        "id": "xeD086T5TuDw"
      },
      "outputs": [],
      "source": [
        "g = sns.FacetGrid(all_ds, col='PHQ8_Binary', height=5)\n",
        "g.map(sns.histplot, \"Number_of_silences\")\n",
        "plt.show()"
      ]
    },
    {
      "cell_type": "code",
      "execution_count": null,
      "metadata": {
        "id": "Q2fdunniPXsW"
      },
      "outputs": [],
      "source": [
        "g = sns.FacetGrid(all_ds, col='PHQ8_Binary', height=5)\n",
        "g.map(sns.histplot, \"avg_length_of_silences\")\n",
        "plt.show()"
      ]
    },
    {
      "cell_type": "code",
      "execution_count": null,
      "metadata": {
        "colab": {
          "base_uri": "https://localhost:8080/"
        },
        "id": "kF8fKqe4O-WE",
        "outputId": "0ddd131a-ceab-43e3-b43a-91ab07a739d4"
      },
      "outputs": [
        {
          "data": {
            "text/plain": [
              "5702.1353383458645"
            ]
          },
          "execution_count": 546,
          "metadata": {},
          "output_type": "execute_result"
        }
      ],
      "source": [
        "data=all_ds[all_ds.PHQ8_Binary == 0]\n",
        "data.Number_of_silences.mean()"
      ]
    },
    {
      "cell_type": "code",
      "execution_count": null,
      "metadata": {
        "colab": {
          "base_uri": "https://localhost:8080/"
        },
        "id": "ZqWNKWHHPFiF",
        "outputId": "9a3656e2-4c95-4e09-e862-5f528a59d3b0"
      },
      "outputs": [
        {
          "data": {
            "text/plain": [
              "6316.928571428572"
            ]
          },
          "execution_count": 547,
          "metadata": {},
          "output_type": "execute_result"
        }
      ],
      "source": [
        "data=all_ds[all_ds.PHQ8_Binary == 1]\n",
        "data.Number_of_silences.mean()"
      ]
    },
    {
      "cell_type": "code",
      "execution_count": null,
      "metadata": {
        "colab": {
          "base_uri": "https://localhost:8080/"
        },
        "id": "2slOW8957U6r",
        "outputId": "4976eca4-fb68-4a96-aa7c-17451f791842"
      },
      "outputs": [
        {
          "data": {
            "text/plain": [
              "9.090000000000002"
            ]
          },
          "execution_count": 548,
          "metadata": {},
          "output_type": "execute_result"
        }
      ],
      "source": [
        "data=all_ds[all_ds.PHQ8_Binary == 0]\n",
        "data.avg_length_of_silences.mean()"
      ]
    },
    {
      "cell_type": "code",
      "execution_count": null,
      "metadata": {
        "colab": {
          "base_uri": "https://localhost:8080/"
        },
        "id": "FdsqTsBP7XGJ",
        "outputId": "7824bbc4-2d82-4c6f-8c0a-89249e2646b8"
      },
      "outputs": [
        {
          "data": {
            "text/plain": [
              "9.752857142857142"
            ]
          },
          "execution_count": 549,
          "metadata": {},
          "output_type": "execute_result"
        }
      ],
      "source": [
        "data=all_ds[all_ds.PHQ8_Binary == 1]\n",
        "data.avg_length_of_silences.mean()"
      ]
    },
    {
      "cell_type": "code",
      "execution_count": null,
      "metadata": {
        "id": "kQNuaJa0LHg4"
      },
      "outputs": [],
      "source": [
        "plt.figure(figsize=(10, 50))\n",
        "plt.subplot(2, 1, 1)\n",
        "ax = sns.barplot(y=\"Participant_ID\", x=\"avg_length_of_silences\", data=all_ds[all_ds.PHQ8_Binary == 0], color=\"darkblue\",  orient = 'h')\n",
        "ax.tick_params(axis='x', rotation=90)\n",
        "plt.subplot(2, 1, 2)\n",
        "ax = sns.barplot(y=\"Participant_ID\", x=\"avg_length_of_silences\" , data=all_ds[all_ds.PHQ8_Binary == 1], color=\"firebrick\",  orient = 'h')\n",
        "ax.tick_params(axis='x', rotation=90)\n",
        "# fig.savefig('test_runs.png', dpi=50)"
      ]
    },
    {
      "cell_type": "code",
      "execution_count": null,
      "metadata": {
        "id": "Cen-o4syLHeX"
      },
      "outputs": [],
      "source": [
        "plt.figure(figsize=(10, 50))\n",
        "plt.subplot(2, 1, 1)\n",
        "ax = sns.barplot(y=\"Participant_ID\", x=\"avg_length_of_silences\", data=all_ds[all_ds.PHQ8_Binary == 0], color=\"darkblue\",  orient = 'h')\n",
        "ax.tick_params(axis='x', rotation=90)\n",
        "plt.subplot(2, 1, 2)\n",
        "ax = sns.barplot(y=\"Participant_ID\", x=\"avg_length_of_silences\" , data=all_ds[all_ds.PHQ8_Binary == 1], color=\"firebrick\",  orient = 'h')\n",
        "ax.tick_params(axis='x', rotation=90)\n",
        "# fig.savefig('test_runs.png', dpi=50)"
      ]
    },
    {
      "cell_type": "code",
      "execution_count": null,
      "metadata": {
        "id": "LWd_99FRLHcM"
      },
      "outputs": [],
      "source": [
        ""
      ]
    },
    {
      "cell_type": "code",
      "execution_count": null,
      "metadata": {
        "id": "_PLmQJwcLHaF"
      },
      "outputs": [],
      "source": [
        ""
      ]
    },
    {
      "cell_type": "code",
      "execution_count": null,
      "metadata": {
        "id": "unve77pyLHXm"
      },
      "outputs": [],
      "source": [
        ""
      ]
    },
    {
      "cell_type": "code",
      "execution_count": null,
      "metadata": {
        "id": "z2yBzK8NLHVz"
      },
      "outputs": [],
      "source": [
        ""
      ]
    },
    {
      "cell_type": "code",
      "execution_count": null,
      "metadata": {
        "id": "dzYDDk7eLHT-"
      },
      "outputs": [],
      "source": [
        ""
      ]
    },
    {
      "cell_type": "code",
      "execution_count": null,
      "metadata": {
        "id": "onjOtU83LHSB"
      },
      "outputs": [],
      "source": [
        ""
      ]
    },
    {
      "cell_type": "code",
      "execution_count": null,
      "metadata": {
        "id": "TG5wF5rJLHP_"
      },
      "outputs": [],
      "source": [
        ""
      ]
    },
    {
      "cell_type": "code",
      "execution_count": null,
      "metadata": {
        "id": "XpRySmPKLHMY"
      },
      "outputs": [],
      "source": [
        ""
      ]
    },
    {
      "cell_type": "code",
      "source": [
        "transcript_featuers"
      ],
      "metadata": {
        "id": "TEVvOy5VR5ao"
      },
      "execution_count": null,
      "outputs": []
    },
    {
      "cell_type": "code",
      "source": [
        "transcript_featuers[\"response_mean\"] = transcript_featuers.response_time.apply(lambda x: x.mean())"
      ],
      "metadata": {
        "id": "wxAwyNnNSGn_"
      },
      "execution_count": null,
      "outputs": []
    },
    {
      "cell_type": "code",
      "source": [
        "transcript_featuers[transcript_featuers.PHQ8_bin == 1].response_mean.mean()"
      ],
      "metadata": {
        "colab": {
          "base_uri": "https://localhost:8080/"
        },
        "id": "SjnBAefDSlKZ",
        "outputId": "6610c286-dd21-4dda-9b3b-57214d9327cf"
      },
      "execution_count": null,
      "outputs": [
        {
          "output_type": "execute_result",
          "data": {
            "text/plain": [
              "1.241130888775266"
            ]
          },
          "metadata": {},
          "execution_count": 113
        }
      ]
    },
    {
      "cell_type": "code",
      "execution_count": null,
      "metadata": {
        "colab": {
          "base_uri": "https://localhost:8080/"
        },
        "id": "KY8Ln9R_rBrb",
        "outputId": "b68dae61-3148-49d7-abe6-a5bfe74b6c73"
      },
      "outputs": [
        {
          "output_type": "stream",
          "name": "stdout",
          "text": [
            "0.3524437601634498\n"
          ]
        }
      ],
      "source": [
        "mean_num_a = transcript_featuers[transcript_featuers.PHQ8_bin == 1].response_mean.mean()\n",
        "mean_num_b = transcript_featuers[transcript_featuers.PHQ8_bin == 0].response_mean.mean()\n",
        "print(mean_num_a - mean_num_b)"
      ]
    },
    {
      "cell_type": "code",
      "execution_count": null,
      "metadata": {
        "colab": {
          "base_uri": "https://localhost:8080/"
        },
        "id": "TerQ3rxBzl4-",
        "outputId": "5e2009e9-ffb9-42f8-e429-d8d894fabeef"
      },
      "outputs": [
        {
          "name": "stdout",
          "output_type": "stream",
          "text": [
            "0.6628571428571401\n"
          ]
        }
      ],
      "source": [
        "mean_avg_a = all_ds[all_ds.PHQ8_Binary == 1].avg_length_of_silences.mean()\n",
        "mean_avg_b = all_ds[all_ds.PHQ8_Binary == 0].avg_length_of_silences.mean()\n",
        "print(mean_avg_a - mean_avg_b)"
      ]
    },
    {
      "cell_type": "code",
      "execution_count": null,
      "metadata": {
        "colab": {
          "base_uri": "https://localhost:8080/",
          "height": 515
        },
        "id": "feU22sQJzu53",
        "outputId": "c3ac4635-23a0-4db6-e420-311ee27205f3"
      },
      "outputs": [
        {
          "data": {
            "text/plain": [
              "Text(0, 0.5, 'Frequency')"
            ]
          },
          "execution_count": 122,
          "metadata": {},
          "output_type": "execute_result"
        },
        {
          "data": {
            "image/png": "[encoded data removed]",
            "text/plain": [
              "<Figure size 576x576 with 1 Axes>"
            ]
          },
          "metadata": {},
          "output_type": "display_data"
        }
      ],
      "source": [
        "perm_diffs = [perm(all_ds.avg_length_of_silences, 133, 56) for _ in range(1000)]\n",
        "fig, ax = plt.subplots(figsize=(8, 8))\n",
        "ax.hist(perm_diffs, bins=15, rwidth=0.9)\n",
        "ax.axvline(x = mean_avg_a - mean_avg_b, color='black', lw=2)\n",
        "# ax.text(-2, 190, 'Observed\\ndifference', bbox={'facecolor':'white'})\n",
        "ax.set_xlabel('number_of_silences differences')\n",
        "ax.set_ylabel('Frequency')"
      ]
    },
    {
      "cell_type": "code",
      "execution_count": null,
      "metadata": {
        "id": "qrlOIJEBr1sP"
      },
      "outputs": [],
      "source": [
        "import random\n",
        "def perm(x, nA, nB):\n",
        "  n = nA + nB\n",
        "  idx_B = set(random.sample(range(n), nB))\n",
        "  idx_A = set(range(n)) - idx_B\n",
        "  return x.loc[idx_B].mean() - x.loc[idx_A].mean()"
      ]
    },
    {
      "cell_type": "code",
      "execution_count": null,
      "metadata": {
        "colab": {
          "base_uri": "https://localhost:8080/",
          "height": 515
        },
        "id": "ir2GQIlirBph",
        "outputId": "49fdb6dc-abb1-4aa0-8e52-7c027047ec31"
      },
      "outputs": [
        {
          "output_type": "execute_result",
          "data": {
            "text/plain": [
              "Text(0, 0.5, 'Frequency')"
            ]
          },
          "metadata": {},
          "execution_count": 112
        },
        {
          "output_type": "display_data",
          "data": {
            "image/png": "[encoded data removed]",
            "text/plain": [
              "<Figure size 576x576 with 1 Axes>"
            ]
          },
          "metadata": {
            "needs_background": "light"
          }
        }
      ],
      "source": [
        "perm_diffs = [perm(transcript_featuers.response_mean, 3, 3) for _ in range(100000)]\n",
        "fig, ax = plt.subplots(figsize=(8, 8))\n",
        "ax.hist(perm_diffs, bins=15, rwidth=0.9)\n",
        "ax.axvline(x = mean_num_a - mean_num_b, color='black', lw=2)\n",
        "# ax.text(-2, 190, 'Observed\\ndifference', bbox={'facecolor':'white'})\n",
        "ax.set_xlabel('Response_time_mean differences')\n",
        "ax.set_ylabel('Frequency')"
      ]
    },
    {
      "cell_type": "code",
      "execution_count": null,
      "metadata": {
        "id": "XZ6Ij4T_rS3v"
      },
      "outputs": [],
      "source": [
        "train = pd.concat([train_silence_labels, valid_silence_labels])\n",
        "X_train = train[[\"Number_of_silences\", \"avg_length_of_silences\", \"Gender\"]].to_numpy()\n",
        "y_train = train[[\"PHQ8_Binary\"]].to_numpy()"
      ]
    },
    {
      "cell_type": "code",
      "execution_count": null,
      "metadata": {
        "id": "cdqcTOSQuLKi"
      },
      "outputs": [],
      "source": [
        "X_test= test_silence_labels[[\"Number_of_silences\", \"avg_length_of_silences\", \"Gender\"]].to_numpy()\n",
        "y_test = test_silence_labels[[\"PHQ8_Binary\"]].to_numpy()"
      ]
    },
    {
      "cell_type": "code",
      "execution_count": null,
      "metadata": {
        "id": "J57HX06nunt6"
      },
      "outputs": [],
      "source": [
        "y_test = y_test.reshape(-1,)\n",
        "y_train = y_train.reshape(-1,)"
      ]
    },
    {
      "cell_type": "code",
      "execution_count": null,
      "metadata": {
        "colab": {
          "base_uri": "https://localhost:8080/"
        },
        "id": "0cNJo5corS12",
        "outputId": "76d8986f-f7d5-4c74-ecea-81fac00ae937"
      },
      "outputs": [
        {
          "data": {
            "text/plain": [
              "Pipeline(steps=[('standardscaler', StandardScaler()),\n",
              "                ('logisticregression', LogisticRegression())])"
            ]
          },
          "execution_count": 596,
          "metadata": {},
          "output_type": "execute_result"
        }
      ],
      "source": [
        "from sklearn.linear_model import LogisticRegression\n",
        "from sklearn.pipeline import make_pipeline\n",
        "from sklearn.preprocessing import StandardScaler\n",
        "clf = make_pipeline(StandardScaler(), LogisticRegression())\n",
        "clf.fit(X_train, y_train)"
      ]
    },
    {
      "cell_type": "code",
      "execution_count": null,
      "metadata": {
        "colab": {
          "base_uri": "https://localhost:8080/",
          "height": 282
        },
        "id": "_j5JvYWHrSzw",
        "outputId": "32264d38-736d-4cc3-9a5a-81e5c80ffa6a"
      },
      "outputs": [
        {
          "data": {
            "text/plain": [
              "<matplotlib.axes._subplots.AxesSubplot at 0x7fd02336b950>"
            ]
          },
          "execution_count": 597,
          "metadata": {},
          "output_type": "execute_result"
        },
        {
          "data": {
            "image/png": "[encoded data removed]",
            "text/plain": [
              "<Figure size 432x288 with 2 Axes>"
            ]
          },
          "metadata": {},
          "output_type": "display_data"
        }
      ],
      "source": [
        "predict = clf.predict(X_test)\n",
        "from sklearn.metrics import confusion_matrix\n",
        "a = confusion_matrix (y_test, predict)\n",
        "import seaborn as sn\n",
        "sn.heatmap(a, annot=True, annot_kws={\"size\": 16})"
      ]
    },
    {
      "cell_type": "code",
      "execution_count": null,
      "metadata": {
        "id": "RObh0Je3mVSo"
      },
      "outputs": [],
      "source": [
        ""
      ]
    },
    {
      "cell_type": "code",
      "execution_count": null,
      "metadata": {
        "id": "lMEJK0vFmVQi"
      },
      "outputs": [],
      "source": [
        ""
      ]
    },
    {
      "cell_type": "code",
      "execution_count": null,
      "metadata": {
        "id": "Mq3CWzfOmVOf"
      },
      "outputs": [],
      "source": [
        ""
      ]
    },
    {
      "cell_type": "code",
      "execution_count": null,
      "metadata": {
        "id": "-_TY709DmVL5"
      },
      "outputs": [],
      "source": [
        ""
      ]
    },
    {
      "cell_type": "code",
      "execution_count": null,
      "metadata": {
        "id": "25bD_pjXmVHD"
      },
      "outputs": [],
      "source": [
        ""
      ]
    },
    {
      "cell_type": "code",
      "execution_count": null,
      "metadata": {
        "id": "Z8SShHv5mVEw"
      },
      "outputs": [],
      "source": [
        ""
      ]
    },
    {
      "cell_type": "code",
      "execution_count": null,
      "metadata": {
        "id": "7EIAHEf4mVCi"
      },
      "outputs": [],
      "source": [
        ""
      ]
    },
    {
      "cell_type": "code",
      "execution_count": null,
      "metadata": {
        "id": "YilCVdEjmVAM"
      },
      "outputs": [],
      "source": [
        ""
      ]
    },
    {
      "cell_type": "code",
      "execution_count": null,
      "metadata": {
        "id": "U9997qgymU94"
      },
      "outputs": [],
      "source": [
        ""
      ]
    },
    {
      "cell_type": "code",
      "execution_count": null,
      "metadata": {
        "id": "h47hM6lumU7t"
      },
      "outputs": [],
      "source": [
        ""
      ]
    },
    {
      "cell_type": "code",
      "execution_count": null,
      "metadata": {
        "id": "TJFO2E7qmU5f"
      },
      "outputs": [],
      "source": [
        ""
      ]
    },
    {
      "cell_type": "code",
      "execution_count": null,
      "metadata": {
        "id": "XpfAc5ObmU25"
      },
      "outputs": [],
      "source": [
        ""
      ]
    },
    {
      "cell_type": "code",
      "execution_count": null,
      "metadata": {
        "id": "hlAXjhkmmU0K"
      },
      "outputs": [],
      "source": [
        ""
      ]
    },
    {
      "cell_type": "code",
      "execution_count": null,
      "metadata": {
        "id": "IHMSlk0UrSxL"
      },
      "outputs": [],
      "source": [
        ""
      ]
    },
    {
      "cell_type": "code",
      "execution_count": null,
      "metadata": {
        "id": "CX252DdOrSuS"
      },
      "outputs": [],
      "source": [
        ""
      ]
    },
    {
      "cell_type": "code",
      "execution_count": null,
      "metadata": {
        "id": "_6UGrMJErSq2"
      },
      "outputs": [],
      "source": [
        ""
      ]
    },
    {
      "cell_type": "code",
      "execution_count": null,
      "metadata": {
        "id": "KpWvDXGlrBmI"
      },
      "outputs": [],
      "source": [
        ""
      ]
    },
    {
      "cell_type": "code",
      "execution_count": null,
      "metadata": {
        "id": "opj7NkY6rBkV"
      },
      "outputs": [],
      "source": [
        ""
      ]
    },
    {
      "cell_type": "code",
      "execution_count": null,
      "metadata": {
        "id": "HcpgQ0tIrBiH"
      },
      "outputs": [],
      "source": [
        ""
      ]
    },
    {
      "cell_type": "code",
      "execution_count": null,
      "metadata": {
        "id": "DvCHGaSarBes"
      },
      "outputs": [],
      "source": [
        ""
      ]
    },
    {
      "cell_type": "code",
      "execution_count": null,
      "metadata": {
        "id": "pfbymYwbrBcN"
      },
      "outputs": [],
      "source": [
        ""
      ]
    },
    {
      "cell_type": "code",
      "execution_count": null,
      "metadata": {
        "id": "wtlj894-rBaG"
      },
      "outputs": [],
      "source": [
        ""
      ]
    },
    {
      "cell_type": "code",
      "execution_count": null,
      "metadata": {
        "id": "9BHwrSd-rBYW"
      },
      "outputs": [],
      "source": [
        ""
      ]
    },
    {
      "cell_type": "code",
      "execution_count": null,
      "metadata": {
        "id": "x_rGB4X4rBVG"
      },
      "outputs": [],
      "source": [
        ""
      ]
    },
    {
      "cell_type": "code",
      "execution_count": null,
      "metadata": {
        "id": "ZY-qZYDNrBTX"
      },
      "outputs": [],
      "source": [
        ""
      ]
    },
    {
      "cell_type": "code",
      "execution_count": null,
      "metadata": {
        "id": "0J1lcVCirBP1"
      },
      "outputs": [],
      "source": [
        ""
      ]
    },
    {
      "cell_type": "code",
      "execution_count": null,
      "metadata": {
        "id": "hqAy12iirBNo"
      },
      "outputs": [],
      "source": [
        ""
      ]
    },
    {
      "cell_type": "code",
      "execution_count": null,
      "metadata": {
        "id": "Y4iqibfArBMB"
      },
      "outputs": [],
      "source": [
        ""
      ]
    },
    {
      "cell_type": "code",
      "execution_count": null,
      "metadata": {
        "id": "7k9iouTRrBKL"
      },
      "outputs": [],
      "source": [
        ""
      ]
    },
    {
      "cell_type": "code",
      "execution_count": null,
      "metadata": {
        "id": "DCEOBK8LrBGx"
      },
      "outputs": [],
      "source": [
        ""
      ]
    },
    {
      "cell_type": "code",
      "execution_count": null,
      "metadata": {
        "id": "eg6v6fSbrBE6"
      },
      "outputs": [],
      "source": [
        ""
      ]
    },
    {
      "cell_type": "code",
      "execution_count": null,
      "metadata": {
        "id": "CE8A3IFarBBl"
      },
      "outputs": [],
      "source": [
        ""
      ]
    },
    {
      "cell_type": "code",
      "execution_count": null,
      "metadata": {
        "id": "YNniAtFLrA_l"
      },
      "outputs": [],
      "source": [
        ""
      ]
    },
    {
      "cell_type": "code",
      "execution_count": null,
      "metadata": {
        "id": "4UYNtFLgrA9w"
      },
      "outputs": [],
      "source": [
        ""
      ]
    },
    {
      "cell_type": "code",
      "execution_count": null,
      "metadata": {
        "id": "YRpXozYUrA6r"
      },
      "outputs": [],
      "source": [
        ""
      ]
    },
    {
      "cell_type": "code",
      "execution_count": null,
      "metadata": {
        "id": "_vdZJFNFtoRB"
      },
      "outputs": [],
      "source": [
        "def readlabels (path):\n",
        "  all_runs = {}\n",
        "  all_files = glob.glob(path + \"/*\")\n",
        "  for filename in all_files:\n",
        "      labels = pd.read_pickle(filename)\n",
        "      labels = labels.reshape(labels.shape[0])\n",
        "      for i in range(len(labels)):\n",
        "        if labels[i] > .5 :\n",
        "          labels[i] = 1\n",
        "        else :\n",
        "          labels[i] = 0\n",
        "      runs = zero_runs(labels)\n",
        "      runs_lenghts = runs[:,1] - runs[:,0]\n",
        "      greater_than_50_runs = np.where(runs_lenghts >= 100)\n",
        "      silence_time = runs_lenghts[greater_than_50_runs].sum()\n",
        "      silence_avg = runs_lenghts[greater_than_50_runs].mean()\n",
        "      all_runs[int(filename.split(\"/\")[7].split(\".\")[0])] = [silence_time, np.array(greater_than_50_runs).shape[1], silence_avg]\n",
        "  return all_runs"
      ]
    },
    {
      "cell_type": "code",
      "execution_count": null,
      "metadata": {
        "id": "2OaUTVfytyPg"
      },
      "outputs": [],
      "source": [
        "predicted_test_zero_runs  = readlabels(predict_test_labels_path)"
      ]
    },
    {
      "cell_type": "code",
      "execution_count": null,
      "metadata": {
        "id": "5NPl_i6GrEPA"
      },
      "outputs": [],
      "source": [
        "def readlabels (path):\n",
        "  all_runs = {}\n",
        "  all_labels = {}\n",
        "  all_files = glob.glob(path + \"/*\")\n",
        "  for filename in all_files:\n",
        "      labels = pd.read_pickle(filename)\n",
        "      labels = labels.reshape(labels.shape[0])\n",
        "      # all_labels[int(filename.split(\"/\")[6].split(\".\")[0])] = labels\n",
        "      runs = zero_runs(labels)\n",
        "      runs_lenghts = runs[:,1] - runs[:,0]\n",
        "      greater_than_50_runs = np.where(runs_lenghts >= 100)\n",
        "      silence_time = runs_lenghts[greater_than_50_runs].sum() \n",
        "      silence_avg = runs_lenghts[greater_than_50_runs].mean()\n",
        "      all_runs[int(filename.split(\"/\")[6].split(\".\")[0])] = [silence_time, np.array(greater_than_50_runs).shape[1], silence_avg]\n",
        "  return all_runs"
      ]
    },
    {
      "cell_type": "code",
      "execution_count": null,
      "metadata": {
        "id": "mutoO-Wul2gz"
      },
      "outputs": [],
      "source": [
        "train_zero_runs = readlabels(train_label_path)\n",
        "valid_zero_runs = readlabels(valid_label_path)\n",
        "# real_test_zero_runs  = readlabels(test_label_path)"
      ]
    },
    {
      "cell_type": "code",
      "execution_count": null,
      "metadata": {
        "id": "tBcC0uresa3O"
      },
      "outputs": [],
      "source": [
        "def zero_runs(a):\n",
        "    # Create an array that is 1 where a is 0, and pad each end with an extra 0.\n",
        "    iszero = np.concatenate(([0], np.equal(a, 0).view(np.int8), [0]))\n",
        "    absdiff = np.abs(np.diff(iszero))\n",
        "    # Runs start and end where absdiff is 1.\n",
        "    ranges = np.where(absdiff == 1)[0].reshape(-1, 2)\n",
        "    return ranges"
      ]
    },
    {
      "cell_type": "code",
      "execution_count": null,
      "metadata": {
        "id": "QNPXqmzBsPg7"
      },
      "outputs": [],
      "source": [
        ""
      ]
    },
    {
      "cell_type": "code",
      "execution_count": null,
      "metadata": {
        "id": "MHbU-mznXlc7"
      },
      "outputs": [],
      "source": [
        "test_labels"
      ]
    },
    {
      "cell_type": "code",
      "execution_count": null,
      "metadata": {
        "id": "DNFdXp-HDK-f"
      },
      "outputs": [],
      "source": [
        "ids = np.array(list(train_zero_runs.keys()))\n",
        "ids = ids.reshape(ids.shape[0], 1)\n",
        "runs = np.array(list(train_zero_runs.values()))[:, 1]\n",
        "runs = runs.reshape(runs.shape[0], 1)\n",
        "times = np.array(list(train_zero_runs.values()))[:, 0]\n",
        "times = times.reshape(runs.shape[0], 1)\n",
        "avg = np.array(list(train_zero_runs.values()))[:, 2]\n",
        "avg = avg.reshape(runs.shape[0], 1)\n",
        "times = np.append(times, avg, axis=1)\n",
        "runs = np.append(runs, times, axis=1)\n",
        "index_runs = np.append(ids, runs, axis=1)\n",
        "index_runs = index_runs[index_runs[:, 0].argsort()]\n",
        "train_labels[\"number_of_silences\"] = index_runs[:, 1]\n",
        "train_labels[\"time_of_silences\"] = index_runs[:, 2]\n",
        "train_labels[\"mean_of_silences\"] = index_runs[:, 3]"
      ]
    },
    {
      "cell_type": "code",
      "execution_count": null,
      "metadata": {
        "id": "xCoyr6tuYYiS"
      },
      "outputs": [],
      "source": [
        "ids = np.array(list(valid_zero_runs.keys()))\n",
        "ids = ids.reshape(ids.shape[0], 1)\n",
        "runs = np.array(list(valid_zero_runs.values()))[:, 1]\n",
        "runs = runs.reshape(runs.shape[0], 1)\n",
        "times = np.array(list(valid_zero_runs.values()))[:, 0]\n",
        "times = times.reshape(runs.shape[0], 1)\n",
        "avg = np.array(list(valid_zero_runs.values()))[:, 2]\n",
        "avg = avg.reshape(runs.shape[0], 1)\n",
        "times = np.append(times, avg, axis=1)\n",
        "runs = np.append(runs, times, axis=1)\n",
        "index_runs = np.append(ids, runs, axis=1)\n",
        "index_runs = index_runs[index_runs[:, 0].argsort()]\n",
        "valid_labels[\"number_of_silences\"] = index_runs[:, 1]\n",
        "valid_labels[\"time_of_silences\"] = index_runs[:, 2]\n",
        "valid_labels[\"mean_of_silences\"] = index_runs[:, 3]"
      ]
    },
    {
      "cell_type": "code",
      "execution_count": null,
      "metadata": {
        "id": "5mh-3YNpYZy7"
      },
      "outputs": [],
      "source": [
        "ids = np.array(list(real_test_zero_runs.keys()))\n",
        "ids = ids.reshape(ids.shape[0], 1)\n",
        "runs = np.array(list(real_test_zero_runs.values()))[:, 1]\n",
        "runs = runs.reshape(runs.shape[0], 1)\n",
        "times = np.array(list(real_test_zero_runs.values()))[:, 0]\n",
        "times = times.reshape(runs.shape[0], 1)\n",
        "avg = np.array(list(real_test_zero_runs.values()))[:, 2]\n",
        "avg = avg.reshape(runs.shape[0], 1)\n",
        "times = np.append(times, avg, axis=1)\n",
        "runs = np.append(runs, times, axis=1)\n",
        "index_runs = np.append(ids, runs, axis=1)\n",
        "index_runs = index_runs[index_runs[:, 0].argsort()]\n",
        "test_labels[\"number_of_silences\"] = index_runs[:, 1]\n",
        "test_labels[\"time_of_silences\"] = index_runs[:, 2]\n",
        "test_labels[\"mean_of_silences\"] = index_runs[:, 3]"
      ]
    },
    {
      "cell_type": "code",
      "execution_count": null,
      "metadata": {
        "id": "aRYl7R6wxRZx"
      },
      "outputs": [],
      "source": [
        "plt.figure(figsize=(20, 5))\n",
        "ax = plt.gca()\n",
        "ax.axes.xaxis.set_visible(False)\n",
        "ax.axes.yaxis.set_visible(False)\n",
        "all_ds.query('PHQ8_Binary == 0').number_of_silences.plot(kind='bar')"
      ]
    },
    {
      "cell_type": "code",
      "execution_count": null,
      "metadata": {
        "id": "AkE3V-mlxRXf"
      },
      "outputs": [],
      "source": [
        "plt.figure(figsize=(20, 5))\n",
        "ax = plt.gca()\n",
        "ax.axes.xaxis.set_visible(False)\n",
        "ax.axes.yaxis.set_visible(False)\n",
        "all_ds.query('PHQ8_Binary == 1').number_of_silences.plot(kind='bar')"
      ]
    },
    {
      "cell_type": "code",
      "execution_count": null,
      "metadata": {
        "id": "UAfwuNFTxRVW"
      },
      "outputs": [],
      "source": [
        "import matplotlib\n",
        "x = all_ds.Participant_ID.to_numpy()\n",
        "y = all_ds.number_of_silences.to_numpy()\n",
        "label = all_ds.PHQ8_Binary.to_numpy()\n",
        "colors = ['blue','red']\n",
        "\n",
        "fig = plt.figure(figsize=(16,8))\n",
        "plt.scatter(x, y, c=label, cmap=matplotlib.colors.ListedColormap(colors))"
      ]
    },
    {
      "cell_type": "code",
      "execution_count": null,
      "metadata": {
        "id": "2EKIAA2VxROr"
      },
      "outputs": [],
      "source": [
        "import matplotlib\n",
        "x = all_ds.Participant_ID.to_numpy()\n",
        "y = all_ds.time_of_silences.to_numpy()\n",
        "label = all_ds.PHQ8_Binary.to_numpy()\n",
        "colors = ['blue','red']\n",
        "\n",
        "fig = plt.figure(figsize=(16,8))\n",
        "plt.scatter(x, y, c=label, cmap=matplotlib.colors.ListedColormap(colors))"
      ]
    },
    {
      "cell_type": "code",
      "execution_count": null,
      "metadata": {
        "id": "kziRWdD_sxPw"
      },
      "outputs": [],
      "source": [
        "ids = np.array(list(predicted_test_zero_runs.keys()))\n",
        "ids = ids.reshape(ids.shape[0], 1)\n",
        "runs = np.array(list(predicted_test_zero_runs.values()))[:, 1]\n",
        "runs = runs.reshape(runs.shape[0], 1)\n",
        "times = np.array(list(predicted_test_zero_runs.values()))[:, 0]\n",
        "times = times.reshape(runs.shape[0], 1)\n",
        "avg = np.array(list(predicted_test_zero_runs.values()))[:, 2]\n",
        "avg = avg.reshape(runs.shape[0], 1)\n",
        "times = np.append(times, avg, axis=1)\n",
        "runs = np.append(runs, times, axis=1)\n",
        "index_runs = np.append(ids, runs, axis=1)\n",
        "index_runs = index_runs[index_runs[:, 0].argsort()]\n",
        "test_labels[\"number_of_silences\"] = index_runs[:, 1]\n",
        "test_labels[\"time_of_silences\"] = index_runs[:, 2]\n",
        "test_labels[\"mean_of_silences\"] = index_runs[:, 3]"
      ]
    },
    {
      "cell_type": "code",
      "execution_count": null,
      "metadata": {
        "id": "nNLCw9-eI0kt"
      },
      "outputs": [],
      "source": [
        "test_labels.columns = [\"Participant_ID\", 'PHQ8_Binary',\t\"PHQ8_Score\", \"Gender\",\t\"number_of_silences\",\t\"time_of_silences\",\t\"mean_of_silences\"]"
      ]
    },
    {
      "cell_type": "code",
      "execution_count": null,
      "metadata": {
        "id": "w1CtSo5wJGHc"
      },
      "outputs": [],
      "source": [
        "a = pd.concat([train_labels, test_labels], axis=0)"
      ]
    },
    {
      "cell_type": "code",
      "execution_count": null,
      "metadata": {
        "id": "6-4DMT1rJL6M"
      },
      "outputs": [],
      "source": [
        "all_ds = pd.concat([a, valid_labels], ignore_index=True)"
      ]
    },
    {
      "cell_type": "code",
      "execution_count": null,
      "metadata": {
        "colab": {
          "base_uri": "https://localhost:8080/"
        },
        "id": "UnfGMPhL9lcD",
        "outputId": "ba281784-7078-4e40-9c84-fc208dbe3e44"
      },
      "outputs": [
        {
          "data": {
            "text/plain": [
              "0    133\n",
              "1     56\n",
              "Name: PHQ8_Binary, dtype: int64"
            ]
          },
          "execution_count": 595,
          "metadata": {},
          "output_type": "execute_result"
        }
      ],
      "source": [
        "all_ds.PHQ8_Binary.value_counts()"
      ]
    },
    {
      "cell_type": "code",
      "execution_count": null,
      "metadata": {
        "id": "2ou0oHrUDELe"
      },
      "outputs": [],
      "source": [
        "mean_num_a = all_ds[all_ds.PHQ8_Binary == 1].number_of_silences.mean()\n",
        "mean_time_a = all_ds[all_ds.PHQ8_Binary == 1].time_of_silences.mean()\n",
        "mean_num_b = all_ds[all_ds.PHQ8_Binary == 0].number_of_silences.mean()\n",
        "mean_time_b = all_ds[all_ds.PHQ8_Binary == 0].time_of_silences.mean()"
      ]
    },
    {
      "cell_type": "code",
      "execution_count": null,
      "metadata": {
        "colab": {
          "base_uri": "https://localhost:8080/"
        },
        "id": "Xvuo_nyR9h76",
        "outputId": "02e7ada6-f5cb-4164-ac68-4a3c343d4748"
      },
      "outputs": [
        {
          "data": {
            "text/plain": [
              "24.992481203007515"
            ]
          },
          "execution_count": 554,
          "metadata": {},
          "output_type": "execute_result"
        }
      ],
      "source": [
        "mean_num_a - mean_num_b"
      ]
    },
    {
      "cell_type": "code",
      "execution_count": null,
      "metadata": {
        "colab": {
          "base_uri": "https://localhost:8080/"
        },
        "id": "oW-v_Cor9lTh",
        "outputId": "fb6dd231-2c1b-4afc-df89-5bfe2f3acda1"
      },
      "outputs": [
        {
          "data": {
            "text/plain": [
              "4721.079887218042"
            ]
          },
          "execution_count": 555,
          "metadata": {},
          "output_type": "execute_result"
        }
      ],
      "source": [
        "mean_time_a - mean_time_b"
      ]
    },
    {
      "cell_type": "code",
      "execution_count": null,
      "metadata": {
        "id": "_x2-JN_0DqjZ"
      },
      "outputs": [],
      "source": [
        "mean_num_a = all_ds[all_ds.PHQ8_Binary == 1].number_of_silences.mean()\n",
        "mean_time_a = all_ds[all_ds.PHQ8_Binary == 1].time_of_silences.mean()\n",
        "mean_num_b = all_ds[all_ds.PHQ8_Binary == 0].number_of_silences.mean()\n",
        "mean_time_b = all_ds[all_ds.PHQ8_Binary == 0].time_of_silences.mean()"
      ]
    },
    {
      "cell_type": "code",
      "execution_count": null,
      "metadata": {
        "colab": {
          "base_uri": "https://localhost:8080/"
        },
        "id": "KTE_25qfDskp",
        "outputId": "18a86e3d-1b77-4ed4-806f-efd768877908"
      },
      "outputs": [
        {
          "data": {
            "text/plain": [
              "21.476503759398497"
            ]
          },
          "execution_count": 570,
          "metadata": {},
          "output_type": "execute_result"
        }
      ],
      "source": [
        "mean_num_a - mean_num_b"
      ]
    },
    {
      "cell_type": "code",
      "execution_count": null,
      "metadata": {
        "colab": {
          "base_uri": "https://localhost:8080/"
        },
        "id": "K1WpbQuLDtLJ",
        "outputId": "c71b29c6-f548-439e-b288-c3556afc712b"
      },
      "outputs": [
        {
          "data": {
            "text/plain": [
              "3570.54605263158"
            ]
          },
          "execution_count": 571,
          "metadata": {},
          "output_type": "execute_result"
        }
      ],
      "source": [
        "mean_time_a - mean_time_b"
      ]
    },
    {
      "cell_type": "code",
      "execution_count": null,
      "metadata": {
        "colab": {
          "base_uri": "https://localhost:8080/"
        },
        "id": "CdSUwuCjDwlR",
        "outputId": "18ae33c4-63f8-4fe9-b948-2f9b700b5eb0"
      },
      "outputs": [
        {
          "name": "stdout",
          "output_type": "stream",
          "text": [
            "p-value for single sided test: 0.0017\n",
            "p-value for single sided test: 0.0074\n"
          ]
        }
      ],
      "source": [
        "res = stats.ttest_ind(all_ds[all_ds.PHQ8_Binary == 1].number_of_silences,\n",
        "                      all_ds[all_ds.PHQ8_Binary == 0].number_of_silences, equal_var=False)\n",
        "print(f'p-value for single sided test: {res.pvalue / 2:.4f}') \n",
        "res = stats.ttest_ind(all_ds[all_ds.PHQ8_Binary == 1].time_of_silences,\n",
        "                      all_ds[all_ds.PHQ8_Binary == 0].time_of_silences, equal_var=False)\n",
        "print(f'p-value for single sided test: {res.pvalue / 2:.4f}')"
      ]
    },
    {
      "cell_type": "code",
      "execution_count": null,
      "metadata": {
        "colab": {
          "base_uri": "https://localhost:8080/"
        },
        "id": "e10lEavib-9O",
        "outputId": "82051dad-75fd-4afd-e1b1-0caa94b35632"
      },
      "outputs": [
        {
          "name": "stdout",
          "output_type": "stream",
          "text": [
            "p-value for single sided test: 0.0053\n",
            "p-value for single sided test: 0.0276\n"
          ]
        }
      ],
      "source": [
        "res = stats.ttest_ind(all_ds[all_ds.PHQ8_Binary == 1].number_of_silences,\n",
        "                      all_ds[all_ds.PHQ8_Binary == 0].number_of_silences, equal_var=False)\n",
        "print(f'p-value for single sided test: {res.pvalue / 2:.4f}') \n",
        "res = stats.ttest_ind(all_ds[all_ds.PHQ8_Binary == 1].time_of_silences,\n",
        "                      all_ds[all_ds.PHQ8_Binary == 0].time_of_silences, equal_var=False)\n",
        "print(f'p-value for single sided test: {res.pvalue / 2:.4f}')"
      ]
    },
    {
      "cell_type": "code",
      "execution_count": null,
      "metadata": {
        "id": "GUrKKlDuE0yO"
      },
      "outputs": [],
      "source": [
        "import random\n",
        "def perm(x, nA, nB):\n",
        "  n = nA + nB\n",
        "  idx_B = set(random.sample(range(n), nB))\n",
        "  idx_A = set(range(n)) - idx_B\n",
        "  return x.loc[idx_B].mean() - x.loc[idx_A].mean()"
      ]
    },
    {
      "cell_type": "code",
      "execution_count": null,
      "metadata": {
        "colab": {
          "base_uri": "https://localhost:8080/",
          "height": 515
        },
        "id": "ImmsO2LLFm8O",
        "outputId": "2379444f-f6ec-4e84-92e2-c8961bed1b51"
      },
      "outputs": [
        {
          "data": {
            "text/plain": [
              "Text(0, 0.5, 'Frequency')"
            ]
          },
          "execution_count": 444,
          "metadata": {},
          "output_type": "execute_result"
        },
        {
          "data": {
            "image/png": "[encoded data removed]",
            "text/plain": [
              "<Figure size 576x576 with 1 Axes>"
            ]
          },
          "metadata": {},
          "output_type": "display_data"
        }
      ],
      "source": [
        "perm_diffs = [perm(all_ds.number_of_silences, 133, 56) for _ in range(1000)]\n",
        "fig, ax = plt.subplots(figsize=(8, 8))\n",
        "ax.hist(perm_diffs, bins=11, rwidth=0.9)\n",
        "ax.axvline(x = mean_num_b - mean_num_a, color='black', lw=2)\n",
        "# ax.text(-2, 190, 'Observed\\ndifference', bbox={'facecolor':'white'})\n",
        "ax.set_xlabel('number_of_silences differences')\n",
        "ax.set_ylabel('Frequency')"
      ]
    },
    {
      "cell_type": "code",
      "execution_count": null,
      "metadata": {
        "colab": {
          "base_uri": "https://localhost:8080/",
          "height": 515
        },
        "id": "fp4byql1FzzI",
        "outputId": "0ec436f5-0b1a-4a8e-db39-c3e0e9aa9064"
      },
      "outputs": [
        {
          "data": {
            "text/plain": [
              "Text(0, 0.5, 'Frequency')"
            ]
          },
          "execution_count": 521,
          "metadata": {},
          "output_type": "execute_result"
        },
        {
          "data": {
            "image/png": "[encoded data removed]",
            "text/plain": [
              "<Figure size 576x576 with 1 Axes>"
            ]
          },
          "metadata": {},
          "output_type": "display_data"
        }
      ],
      "source": [
        "perm_diffs = [perm(all_ds.time_of_silences, 133, 56) for _ in range(1000)]\n",
        "fig, ax = plt.subplots(figsize=(8, 8))\n",
        "ax.hist(perm_diffs, bins=11, rwidth=0.9)\n",
        "ax.axvline(x = mean_time_b - mean_time_a, color='black', lw=2)\n",
        "# ax.text(-2, 190, 'Observed\\ndifference', bbox={'facecolor':'white'})\n",
        "ax.set_xlabel('time_of_silences differences (in seconds)')\n",
        "ax.set_ylabel('Frequency')"
      ]
    },
    {
      "cell_type": "code",
      "execution_count": null,
      "metadata": {
        "colab": {
          "base_uri": "https://localhost:8080/",
          "height": 424
        },
        "id": "YrmKpzagYasI",
        "outputId": "d0837b46-7512-481c-d20a-ee7a7cf068d3"
      },
      "outputs": [
        {
          "data": {
            "text/html": [
              "<div>\n",
              "<style scoped>\n",
              "    .dataframe tbody tr th:only-of-type {\n",
              "        vertical-align: middle;\n",
              "    }\n",
              "\n",
              "    .dataframe tbody tr th {\n",
              "        vertical-align: top;\n",
              "    }\n",
              "\n",
              "    .dataframe thead th {\n",
              "        text-align: right;\n",
              "    }\n",
              "</style>\n",
              "<table border=\"1\" class=\"dataframe\">\n",
              "  <thead>\n",
              "    <tr style=\"text-align: right;\">\n",
              "      <th></th>\n",
              "      <th>Participant_ID</th>\n",
              "      <th>Gender</th>\n",
              "      <th>number_of_silences</th>\n",
              "      <th>time_of_silences</th>\n",
              "      <th>mean_of_silences</th>\n",
              "    </tr>\n",
              "  </thead>\n",
              "  <tbody>\n",
              "    <tr>\n",
              "      <th>0</th>\n",
              "      <td>303</td>\n",
              "      <td>0</td>\n",
              "      <td>57.0</td>\n",
              "      <td>7307.0</td>\n",
              "      <td>128.192982</td>\n",
              "    </tr>\n",
              "    <tr>\n",
              "      <th>1</th>\n",
              "      <td>304</td>\n",
              "      <td>0</td>\n",
              "      <td>84.0</td>\n",
              "      <td>11467.0</td>\n",
              "      <td>136.511905</td>\n",
              "    </tr>\n",
              "    <tr>\n",
              "      <th>2</th>\n",
              "      <td>305</td>\n",
              "      <td>1</td>\n",
              "      <td>246.0</td>\n",
              "      <td>37926.0</td>\n",
              "      <td>154.170732</td>\n",
              "    </tr>\n",
              "    <tr>\n",
              "      <th>3</th>\n",
              "      <td>310</td>\n",
              "      <td>1</td>\n",
              "      <td>189.0</td>\n",
              "      <td>46674.0</td>\n",
              "      <td>246.952381</td>\n",
              "    </tr>\n",
              "    <tr>\n",
              "      <th>4</th>\n",
              "      <td>312</td>\n",
              "      <td>1</td>\n",
              "      <td>150.0</td>\n",
              "      <td>34378.0</td>\n",
              "      <td>229.186667</td>\n",
              "    </tr>\n",
              "    <tr>\n",
              "      <th>...</th>\n",
              "      <td>...</td>\n",
              "      <td>...</td>\n",
              "      <td>...</td>\n",
              "      <td>...</td>\n",
              "      <td>...</td>\n",
              "    </tr>\n",
              "    <tr>\n",
              "      <th>30</th>\n",
              "      <td>483</td>\n",
              "      <td>1</td>\n",
              "      <td>312.0</td>\n",
              "      <td>50736.0</td>\n",
              "      <td>162.615385</td>\n",
              "    </tr>\n",
              "    <tr>\n",
              "      <th>31</th>\n",
              "      <td>484</td>\n",
              "      <td>0</td>\n",
              "      <td>149.0</td>\n",
              "      <td>26609.0</td>\n",
              "      <td>178.583893</td>\n",
              "    </tr>\n",
              "    <tr>\n",
              "      <th>32</th>\n",
              "      <td>489</td>\n",
              "      <td>1</td>\n",
              "      <td>176.0</td>\n",
              "      <td>40133.0</td>\n",
              "      <td>228.028409</td>\n",
              "    </tr>\n",
              "    <tr>\n",
              "      <th>33</th>\n",
              "      <td>490</td>\n",
              "      <td>1</td>\n",
              "      <td>157.0</td>\n",
              "      <td>37352.0</td>\n",
              "      <td>237.910828</td>\n",
              "    </tr>\n",
              "    <tr>\n",
              "      <th>34</th>\n",
              "      <td>492</td>\n",
              "      <td>0</td>\n",
              "      <td>110.0</td>\n",
              "      <td>17978.0</td>\n",
              "      <td>163.436364</td>\n",
              "    </tr>\n",
              "  </tbody>\n",
              "</table>\n",
              "<p>142 rows × 5 columns</p>\n",
              "</div>"
            ],
            "text/plain": [
              "    Participant_ID  Gender  ...  time_of_silences  mean_of_silences\n",
              "0              303       0  ...            7307.0        128.192982\n",
              "1              304       0  ...           11467.0        136.511905\n",
              "2              305       1  ...           37926.0        154.170732\n",
              "3              310       1  ...           46674.0        246.952381\n",
              "4              312       1  ...           34378.0        229.186667\n",
              "..             ...     ...  ...               ...               ...\n",
              "30             483       1  ...           50736.0        162.615385\n",
              "31             484       0  ...           26609.0        178.583893\n",
              "32             489       1  ...           40133.0        228.028409\n",
              "33             490       1  ...           37352.0        237.910828\n",
              "34             492       0  ...           17978.0        163.436364\n",
              "\n",
              "[142 rows x 5 columns]"
            ]
          },
          "execution_count": 610,
          "metadata": {},
          "output_type": "execute_result"
        }
      ],
      "source": [
        "train.drop([\"PHQ8_Binary\", \"PHQ8_Score\"], axis=1)"
      ]
    },
    {
      "cell_type": "code",
      "execution_count": null,
      "metadata": {
        "id": "QwcEwzagqy8R"
      },
      "outputs": [],
      "source": [
        "train = pd.concat([train_labels, valid_labels], axis=0)\n",
        "X_train = train.drop([\"PHQ8_Binary\", \"PHQ8_Score\"], axis=1).to_numpy()\n",
        "y_train = train[[\"PHQ8_Binary\"]].to_numpy()"
      ]
    },
    {
      "cell_type": "code",
      "execution_count": null,
      "metadata": {
        "id": "9-axa4ckrcVw"
      },
      "outputs": [],
      "source": [
        "X_test= test_labels.drop([\"PHQ8_Binary\", \"PHQ8_Score\"], axis=1).to_numpy()\n",
        "y_test = test_labels[[\"PHQ8_Binary\"]].to_numpy()"
      ]
    },
    {
      "cell_type": "code",
      "execution_count": null,
      "metadata": {
        "id": "sNF8ZkdvtCV1"
      },
      "outputs": [],
      "source": [
        "y_test = y_test.reshape(-1,)\n",
        "y_train = y_train.reshape(-1,)"
      ]
    },
    {
      "cell_type": "code",
      "execution_count": null,
      "metadata": {
        "colab": {
          "base_uri": "https://localhost:8080/"
        },
        "id": "3VvE4EhRhV38",
        "outputId": "630bf6cf-b86d-43c0-edc4-1b094caed2be"
      },
      "outputs": [
        {
          "data": {
            "text/plain": [
              "Pipeline(steps=[('standardscaler', StandardScaler()),\n",
              "                ('logisticregression', LogisticRegression())])"
            ]
          },
          "execution_count": 663,
          "metadata": {},
          "output_type": "execute_result"
        }
      ],
      "source": [
        "from sklearn.linear_model import LogisticRegression\n",
        "from sklearn.svm import SVC\n",
        "from sklearn.pipeline import make_pipeline\n",
        "from sklearn.preprocessing import StandardScaler\n",
        "clf = make_pipeline(StandardScaler(), LogisticRegression())\n",
        "clf.fit(X_train, y_train)"
      ]
    },
    {
      "cell_type": "code",
      "execution_count": null,
      "metadata": {
        "colab": {
          "base_uri": "https://localhost:8080/",
          "height": 286
        },
        "id": "hAl2Hr4xrZQQ",
        "outputId": "68f4770b-d9a5-4483-aa26-a47fff196529"
      },
      "outputs": [
        {
          "data": {
            "text/plain": [
              "<matplotlib.axes._subplots.AxesSubplot at 0x7fd986214350>"
            ]
          },
          "execution_count": 658,
          "metadata": {},
          "output_type": "execute_result"
        },
        {
          "data": {
            "image/png": "[encoded data removed]",
            "text/plain": [
              "<Figure size 432x288 with 2 Axes>"
            ]
          },
          "metadata": {},
          "output_type": "display_data"
        }
      ],
      "source": [
        "predict = clf.predict(X_test)\n",
        "from sklearn.metrics import confusion_matrix\n",
        "a = confusion_matrix (y_test, predict)\n",
        "import seaborn as sn\n",
        "sn.heatmap(a, annot=True, annot_kws={\"size\": 16})"
      ]
    },
    {
      "cell_type": "code",
      "execution_count": null,
      "metadata": {
        "colab": {
          "base_uri": "https://localhost:8080/",
          "height": 282
        },
        "id": "3pKW8z-wtH4w",
        "outputId": "4fc07a35-5c40-454a-a92a-8e53ce52a1ac"
      },
      "outputs": [
        {
          "data": {
            "text/plain": [
              "<matplotlib.axes._subplots.AxesSubplot at 0x7fd986221310>"
            ]
          },
          "execution_count": 664,
          "metadata": {},
          "output_type": "execute_result"
        },
        {
          "data": {
            "image/png": "[encoded data removed]",
            "text/plain": [
              "<Figure size 432x288 with 2 Axes>"
            ]
          },
          "metadata": {},
          "output_type": "display_data"
        }
      ],
      "source": [
        "predict = clf.predict(X_test)\n",
        "from sklearn.metrics import confusion_matrix\n",
        "a = confusion_matrix (y_test, predict)\n",
        "import seaborn as sn\n",
        "sn.heatmap(a, annot=True, annot_kws={\"size\": 16})"
      ]
    },
    {
      "cell_type": "code",
      "execution_count": null,
      "metadata": {
        "id": "6p1xVRvomUPV"
      },
      "outputs": [],
      "source": [
        ""
      ]
    },
    {
      "cell_type": "code",
      "execution_count": null,
      "metadata": {
        "id": "Cuo22UpbmUNN"
      },
      "outputs": [],
      "source": [
        ""
      ]
    },
    {
      "cell_type": "code",
      "execution_count": null,
      "metadata": {
        "id": "KqcGv31OmULC"
      },
      "outputs": [],
      "source": [
        ""
      ]
    },
    {
      "cell_type": "code",
      "execution_count": null,
      "metadata": {
        "id": "d0kFnh-qmUJF"
      },
      "outputs": [],
      "source": [
        ""
      ]
    },
    {
      "cell_type": "code",
      "execution_count": null,
      "metadata": {
        "id": "XE4KH6JemUER"
      },
      "outputs": [],
      "source": [
        ""
      ]
    },
    {
      "cell_type": "code",
      "execution_count": null,
      "metadata": {
        "id": "QxWrv3ALmUAP"
      },
      "outputs": [],
      "source": [
        ""
      ]
    }
  ],
  "metadata": {
    "colab": {
      "collapsed_sections": [],
      "name": "DepressionDetecion.ipynb",
      "provenance": [],
      "mount_file_id": "1IljTHSJ4YCGTss7Hj5ugll_B21Lme5xg",
      "authorship_tag": "ABX9TyOIgaewD96l7J/qsRGXXjUK",
      "include_colab_link": true
    },
    "kernelspec": {
      "display_name": "Python 3",
      "name": "python3"
    },
    "language_info": {
      "name": "python"
    }
  },
  "nbformat": 4,
  "nbformat_minor": 0
}