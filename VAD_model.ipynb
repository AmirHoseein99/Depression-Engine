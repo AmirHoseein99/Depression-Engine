{
  "nbformat": 4,
  "nbformat_minor": 0,
  "metadata": {
    "colab": {
      "name": "VAD_model.ipynb",
      "provenance": [],
      "collapsed_sections": [],
      "machine_shape": "hm",
      "include_colab_link": true
    },
    "kernelspec": {
      "display_name": "Python 3",
      "name": "python3"
    },
    "accelerator": "GPU"
  },
  "cells": [
    {
      "cell_type": "markdown",
      "metadata": {
        "id": "view-in-github",
        "colab_type": "text"
      },
      "source": [
        "<a href=\"https://colab.research.google.com/github/AmirHoseein99/Depression-Engine/blob/master/VAD_model.ipynb\" target=\"_parent\"><img src=\"https://colab.research.google.com/assets/colab-badge.svg\" alt=\"Open In Colab\"/></a>"
      ]
    },
    {
      "cell_type": "code",
      "metadata": {
        "id": "dR0bB7zRcDX5"
      },
      "source": [
        "[1]*10**10"
      ],
      "execution_count": null,
      "outputs": []
    },
    {
      "cell_type": "code",
      "metadata": {
        "id": "ONDCbBjWQtbL"
      },
      "source": [
        "def readucr(filename):\n",
        "    data = np.loadtxt(filename, delimiter=\"\\t\")\n",
        "    y = data[:, 0]\n",
        "    x = data[:, 1:]\n",
        "    return x, y.astype(int)\n",
        "\n",
        "\n",
        "root_url = \"https://raw.githubusercontent.com/hfawaz/cd-diagram/master/FordA/\"\n",
        "\n",
        "x_train, y_train = readucr(root_url + \"FordA_TRAIN.tsv\")"
      ],
      "execution_count": null,
      "outputs": []
    },
    {
      "cell_type": "code",
      "metadata": {
        "id": "yzMxVyYeRIG5"
      },
      "source": [
        "x_train = x_train.reshape((x_train.shape[0], x_train.shape[1], 1))"
      ],
      "execution_count": null,
      "outputs": []
    },
    {
      "cell_type": "code",
      "metadata": {
        "colab": {
          "base_uri": "https://localhost:8080/"
        },
        "id": "BwZRZg_KRQbr",
        "outputId": "8e65afc1-e76a-4bbd-dca9-f3d8d6f84c64"
      },
      "source": [
        "x_train.shape"
      ],
      "execution_count": null,
      "outputs": [
        {
          "data": {
            "text/plain": [
              "(3601, 500, 1)"
            ]
          },
          "execution_count": 7,
          "metadata": {},
          "output_type": "execute_result"
        }
      ]
    },
    {
      "cell_type": "code",
      "metadata": {
        "colab": {
          "base_uri": "https://localhost:8080/"
        },
        "id": "iUBkJZTASTTz",
        "outputId": "b867f901-c01b-482d-b7e7-a38da4990915"
      },
      "source": [
        "y_train.shape"
      ],
      "execution_count": null,
      "outputs": [
        {
          "data": {
            "text/plain": [
              "(3601,)"
            ]
          },
          "execution_count": 18,
          "metadata": {},
          "output_type": "execute_result"
        }
      ]
    },
    {
      "cell_type": "code",
      "metadata": {
        "id": "RYFP_o5I6lJq"
      },
      "source": [
        "import os\n",
        "import glob\n",
        "import pickle\n",
        "import librosa\n",
        "import sklearn\n",
        "import logging\n",
        "import itertools\n",
        "import numpy as np\n",
        "import pandas as pd\n",
        "import librosa.display\n",
        "import tensorflow as tf\n",
        "from keras import layers  \n",
        "from tensorflow import keras\n",
        "from matplotlib import pyplot as plt\n",
        "from keras.utils.vis_utils import plot_model\n",
        "from tensorflow.keras.preprocessing.image import ImageDataGenerator"
      ],
      "execution_count": null,
      "outputs": []
    },
    {
      "cell_type": "code",
      "metadata": {
        "id": "c8_r8PZkgS4n"
      },
      "source": [
        "! pip install git+https://github.com/artemmavrin/focal-loss.git"
      ],
      "execution_count": null,
      "outputs": []
    },
    {
      "cell_type": "code",
      "metadata": {
        "id": "dnkqlINufuoY",
        "colab": {
          "base_uri": "https://localhost:8080/"
        },
        "outputId": "27a186da-3026-4879-8d90-8fe7ad43eac2"
      },
      "source": [
        "from google.colab import drive\n",
        "drive.mount('/content/drive')"
      ],
      "execution_count": null,
      "outputs": [
        {
          "output_type": "stream",
          "name": "stdout",
          "text": [
            "Mounted at /content/drive\n"
          ]
        }
      ]
    },
    {
      "cell_type": "code",
      "metadata": {
        "id": "c6zx1taP4Oj0"
      },
      "source": [
        "train_audio_path = r'/content/drive/MyDrive/Train'\n",
        "test_audio_path = r'/content/drive/MyDrive/Test'\n",
        "valid_audio_path = r'/content/drive/MyDrive/Valid'"
      ],
      "execution_count": null,
      "outputs": []
    },
    {
      "cell_type": "code",
      "metadata": {
        "id": "iFv2br4q4OhK"
      },
      "source": [
        "def readFeatures (path):\n",
        "  all_Feature = {}\n",
        "  all_labels = {}\n",
        "  all_files = glob.glob(path + \"/*.csv\")\n",
        "  for filename in all_files:\n",
        "      feature = pd.read_csv(filename)\n",
        "      features = feature.iloc[:, 10:34]\n",
        "      label = feature.iloc[:, 1:2]\n",
        "      # feature\n",
        "      all_Feature[int(filename.split(\"/\")[5].split(\"_\")[0])] = features.to_numpy()\n",
        "      #label\n",
        "      all_labels[int(filename.split(\"/\")[5].split(\"_\")[0])] = label.to_numpy()\n",
        "  return all_Feature, all_labels"
      ],
      "execution_count": null,
      "outputs": []
    },
    {
      "cell_type": "code",
      "metadata": {
        "id": "gLs9_73U4Oe3"
      },
      "source": [
        "X_train, y_train = readFeatures(train_audio_path)\n",
        "X_valid, y_valid = readFeatures(valid_audio_path)"
      ],
      "execution_count": null,
      "outputs": []
    },
    {
      "cell_type": "code",
      "metadata": {
        "id": "OUMiEZGnOj7F"
      },
      "source": [
        "X_train_path = r\"/content/drive/MyDrive/train/MFCC/X_train.pkl\"\n",
        "X_train_delta_path = r\"/content/drive/MyDrive/train/MFCC/X_train_delta.pkl\"\n",
        "y_train_path = r\"/content/drive/MyDrive/train/y_train_dict.pkl\"\n",
        "X_valid_path = r\"/content/drive/MyDrive/valid/MFCC/X_valid\"\n",
        "X_valid_delta_path = r\"/content/drive/MyDrive/valid/MFCC/X_valid_delta\"\n",
        "y_valid_path = r\"/content/drive/MyDrive/valid/y_valid.pkl\""
      ],
      "execution_count": null,
      "outputs": []
    },
    {
      "cell_type": "code",
      "metadata": {
        "id": "EWOYnhoyOyjU"
      },
      "source": [
        "X_train_dict  = pd.read_pickle(X_train_path)\n",
        "X_train_delta_dict  = pd.read_pickle(X_train_delta_path)\n",
        "y_train_dict = pd.read_pickle(y_train_path)\n",
        "X_valid_dict = pd.read_pickle(X_valid_path)\n",
        "X_valid_delta_dict = pd.read_pickle(X_valid_delta_path)\n",
        "y_valid_dict = pd.read_pickle(y_valid_path)"
      ],
      "execution_count": null,
      "outputs": []
    },
    {
      "cell_type": "code",
      "metadata": {
        "id": "PcXZTXEjPZwM"
      },
      "source": [
        "X_train_dict = []\n",
        "y_train_dict = []\n",
        "y_valid_dict = []\n",
        "X_valid_dict = []\n",
        "X_valid_delta_dict = []\n",
        "X_train_delta_dict = []"
      ],
      "execution_count": null,
      "outputs": []
    },
    {
      "cell_type": "code",
      "metadata": {
        "id": "3Tb-cWbad8V4"
      },
      "source": [
        "delta_X_train = []\n",
        "delta_X_valid = []"
      ],
      "execution_count": null,
      "outputs": []
    },
    {
      "cell_type": "code",
      "metadata": {
        "id": "Yp7gDNsxPXVT"
      },
      "source": [
        "X_train = []\n",
        "delta_X_train = []\n",
        "y_train = []\n",
        "for key in X_train_dict.keys():\n",
        "  X_train.append(X_train_dict[key])\n",
        "  delta_X_train.append(X_train_delta_dict[key])\n",
        "  y_train.append(y_train_dict[key])\n",
        "X_train = [item for sublist in X_train for item in sublist]\n",
        "delta_X_train = [item for sublist in delta_X_train for item in sublist]\n",
        "y_train = [item for sublist in y_train for item in sublist]\n",
        "X_train = np.array(X_train)\n",
        "delta_X_train = np.array(delta_X_train)\n",
        "y_train = np.array(y_train)"
      ],
      "execution_count": null,
      "outputs": []
    },
    {
      "cell_type": "code",
      "metadata": {
        "id": "qM1EGCA-PYxT"
      },
      "source": [
        "X_valid = []\n",
        "delta_X_valid = []\n",
        "y_valid = []\n",
        "for key in y_valid_dict.keys():\n",
        "  X_valid.append(X_valid_dict[key])\n",
        "  delta_X_valid.append(X_valid_delta_dict[key])\n",
        "  y_valid.append(y_valid_dict[key])\n",
        "X_valid = [item for sublist in X_valid for item in sublist]\n",
        "delta_X_valid = [item for sublist in delta_X_valid for item in sublist]\n",
        "y_valid = [item for sublist in y_valid for item in sublist]\n",
        "X_valid = np.array(X_valid)\n",
        "delta_X_valid = np.array(delta_X_valid)\n",
        "y_valid = np.array(y_valid)"
      ],
      "execution_count": null,
      "outputs": []
    },
    {
      "cell_type": "code",
      "metadata": {
        "id": "hL_1vAC7dsKx"
      },
      "source": [
        "X_train = np.append(X_train, delta_X_train, axis = 1)\n",
        "X_valid = np.append(X_valid, delta_X_valid, axis = 1)"
      ],
      "execution_count": null,
      "outputs": []
    },
    {
      "cell_type": "code",
      "metadata": {
        "colab": {
          "base_uri": "https://localhost:8080/"
        },
        "id": "6jbAE-yIFWAL",
        "outputId": "8dad7c10-7ca3-4ccf-be05-d11d86270bcb"
      },
      "source": [
        "X_valid.shape"
      ],
      "execution_count": null,
      "outputs": [
        {
          "output_type": "execute_result",
          "data": {
            "text/plain": [
              "(3606088, 52)"
            ]
          },
          "metadata": {},
          "execution_count": 16
        }
      ]
    },
    {
      "cell_type": "code",
      "metadata": {
        "id": "T6vPQ-PWR3Va"
      },
      "source": [
        "X_train = np.array(list(X_train.values()))\n",
        "y_train = np.array(list(y_train.values()))\n",
        "X_train = [item for sublist in X_train for item in sublist]\n",
        "y_train = [item for sublist in y_train for item in sublist]\n",
        "X_train = np.array(X_train)\n",
        "y_train = np.array(y_train)"
      ],
      "execution_count": null,
      "outputs": []
    },
    {
      "cell_type": "code",
      "metadata": {
        "id": "pL1ihff_9hXb"
      },
      "source": [
        "X_valid = np.array(list(X_valid.values()))\n",
        "y_valid = np.array(list(y_valid.values()))\n",
        "X_valid = [item for sublist in X_valid for item in sublist]\n",
        "y_valid = [item for sublist in y_valid for item in sublist]\n",
        "X_valid = np.array(X_valid)\n",
        "y_valid = np.array(y_valid)"
      ],
      "execution_count": null,
      "outputs": []
    },
    {
      "cell_type": "code",
      "metadata": {
        "id": "MoR4xQ8U4ORl"
      },
      "source": [
        "from sklearn.preprocessing import StandardScaler\n",
        "scaler = StandardScaler()\n",
        "X_train = scaler.fit_transform(X_train)\n",
        "X_valid = scaler.fit_transform(X_valid)"
      ],
      "execution_count": null,
      "outputs": []
    },
    {
      "cell_type": "code",
      "metadata": {
        "id": "tlO6QU-X_Wmn"
      },
      "source": [
        "X_train = X_train.reshape((X_train.shape[0], X_train.shape[1]))\n",
        "X_valid = X_valid.reshape((X_valid.shape[0], X_valid.shape[1]))"
      ],
      "execution_count": null,
      "outputs": []
    },
    {
      "cell_type": "code",
      "metadata": {
        "id": "35NAW3Ym4OMi"
      },
      "source": [
        "def make_model(input_shape):\n",
        "    input_layer = keras.layers.Input(input_shape)\n",
        "\n",
        "    conv1 = keras.layers.Conv1D(filters=64, kernel_size=4, padding=\"same\")(input_layer)\n",
        "    conv1 = keras.layers.BatchNormalization()(conv1)\n",
        "    conv1 = keras.layers.ReLU()(conv1)\n",
        "\n",
        "    conv2 = keras.layers.Conv1D(filters=64, kernel_size=2, padding=\"same\")(conv1)\n",
        "    conv2 = keras.layers.BatchNormalization()(conv2)\n",
        "    conv2 = keras.layers.ReLU()(conv2)\n",
        "\n",
        "    conv3 = keras.layers.Conv1D(filters=64, kernel_size=1, padding=\"same\")(conv2)\n",
        "    conv3 = keras.layers.BatchNormalization()(conv3)\n",
        "    conv3 = keras.layers.ReLU()(conv3)\n",
        "\n",
        "    conv4 = keras.layers.Conv1D(filters=64, kernel_size=1, padding=\"same\")(conv2)\n",
        "    conv4 = keras.layers.BatchNormalization()(conv4)\n",
        "    conv4 = keras.layers.ReLU()(conv4)\n",
        "\n",
        "    gap = keras.layers.GlobalAveragePooling1D()(conv4)\n",
        "\n",
        "    Dense1 = keras.layers.Dense(32)(gap)\n",
        "    Dense1 = keras.layers.ReLU()(Dense1)\n",
        "\n",
        "    output_layer = keras.layers.Dense(1, activation=\"sigmoid\")(Dense1)\n",
        "\n",
        "    return keras.models.Model(inputs=input_layer, outputs=output_layer)\n",
        "\n",
        "\n",
        "model = make_model(input_shape=X_train.shape[1:])"
      ],
      "execution_count": null,
      "outputs": []
    },
    {
      "cell_type": "code",
      "metadata": {
        "id": "pzoo5FTm4OJx"
      },
      "source": [
        "keras.utils.plot_model(model, show_shapes=True)"
      ],
      "execution_count": null,
      "outputs": []
    },
    {
      "cell_type": "code",
      "metadata": {
        "id": "-ThzKEfXRXaz"
      },
      "source": [
        "from keras import layers\n",
        "\n",
        "input_spectrogram = layers.Input((None, 52))\n",
        "\n",
        "Reshape= layers.Reshape((-1, 52, 1))(input_spectrogram)\n",
        "\n",
        "Conv1 = layers.Conv2D(filters=64, kernel_size=[4, 4], padding=\"same\", )(Reshape)\n",
        "Conv1 = layers.BatchNormalization()(Conv1)\n",
        "Conv1 = layers.ReLU()(Conv1)\n",
        "\n",
        "\n",
        "Conv2 = layers.Conv2D(filters=64, kernel_size=[4, 4], padding=\"same\")(Conv1)\n",
        "Conv2 = layers.BatchNormalization()(Conv2)\n",
        "Conv2 = layers.ReLU()(Conv2)\n",
        "\n",
        "\n",
        "Reshape = layers.Reshape((-1, Conv2.shape[-2] * Conv2.shape[-1]))(Conv2)\n",
        "\n",
        "\n",
        "\n",
        "Gru1 = layers.GRU(units=64, return_sequences=True, dropout=.5)(Reshape)\n",
        "Gru2 = layers.GRU(units=64, return_sequences=True, dropout=.5)(Gru1)\n",
        "\n",
        "gap = keras.layers.GlobalAveragePooling1D()(Gru2)\n",
        "\n",
        "hybrid_output = layers.Dense(units=1, activation=\"sigmoid\")(gap)\n",
        "\n",
        "hybrid_model = keras.Model(input_spectrogram, hybrid_output)"
      ],
      "execution_count": null,
      "outputs": []
    },
    {
      "cell_type": "code",
      "metadata": {
        "id": "xUwXG5QI4OHU"
      },
      "source": [
        "epochs = 500\n",
        "batch_size = 1024\n",
        "# import focal_loss\n",
        "\n",
        "callbacks = [\n",
        "    keras.callbacks.ModelCheckpoint(\n",
        "        \"/content/drive/MyDrive/hybrid_model/weights.{epoch:02d}-{val_loss:.2f}.hdf5.h5\", monitor=\"val_loss\"\n",
        "    ),\n",
        "    keras.callbacks.ReduceLROnPlateau(\n",
        "        monitor=\"val_loss\", factor=0.5, patience=20, min_lr=0.0001\n",
        "    ),\n",
        "    keras.callbacks.EarlyStopping(monitor=\"val_loss\", patience=50, verbose=1),\n",
        "]\n",
        "# hybrid_model.compile(\n",
        "#     optimizer=\"adam\",\n",
        "#     loss=keras.losses.BinaryCrossentropy(),\n",
        "#     metrics=[\"accuracy\", keras.metrics.AUC()],\n",
        "# )\n",
        "tf.get_logger().setLevel(logging.ERROR)\n",
        "# history = hybrid_model.fit(\n",
        "#     X_train,\n",
        "#     y_train,\n",
        "#     batch_size=batch_size,\n",
        "#     epochs=epochs,\n",
        "#     callbacks=callbacks,\n",
        "#     validation_data=(X_valid, y_valid),\n",
        "#     verbose=1,\n",
        "# )"
      ],
      "execution_count": null,
      "outputs": []
    },
    {
      "cell_type": "code",
      "metadata": {
        "id": "ZEuvVjO84OE2"
      },
      "source": [
        "new_model = keras.models.load_model(\"/content/drive/MyDrive/hybrid_model/weights.33-0.30.hdf5.h5\")"
      ],
      "execution_count": null,
      "outputs": []
    },
    {
      "cell_type": "code",
      "metadata": {
        "id": "pjpHXBOr4OCY",
        "colab": {
          "base_uri": "https://localhost:8080/"
        },
        "outputId": "8e1f7326-5c62-4ec4-ec18-cb84842d3d6d"
      },
      "source": [
        "history = new_model.fit(\n",
        "    X_train,\n",
        "    y_train,\n",
        "    batch_size=batch_size,\n",
        "    epochs=epochs,\n",
        "    callbacks=callbacks,\n",
        "    validation_data=(X_valid, y_valid),\n",
        "    verbose=1,\n",
        "    initial_epoch=33\n",
        ")"
      ],
      "execution_count": null,
      "outputs": [
        {
          "output_type": "stream",
          "name": "stdout",
          "text": [
            "Epoch 34/500\n",
            "9459/9459 [==============================] - 566s 59ms/step - loss: 0.2909 - accuracy: 0.8784 - auc_1: 0.9430 - val_loss: 0.3017 - val_accuracy: 0.8761 - val_auc_1: 0.9410 - lr: 0.0010\n",
            "Epoch 35/500\n",
            "9459/9459 [==============================] - 550s 58ms/step - loss: 0.2907 - accuracy: 0.8785 - auc_1: 0.9431 - val_loss: 0.3009 - val_accuracy: 0.8757 - val_auc_1: 0.9413 - lr: 0.0010\n",
            "Epoch 36/500\n",
            "9459/9459 [==============================] - 552s 58ms/step - loss: 0.2907 - accuracy: 0.8785 - auc_1: 0.9431 - val_loss: 0.3041 - val_accuracy: 0.8721 - val_auc_1: 0.9414 - lr: 0.0010\n",
            "Epoch 37/500\n",
            "9459/9459 [==============================] - 551s 58ms/step - loss: 0.2906 - accuracy: 0.8785 - auc_1: 0.9431 - val_loss: 0.3042 - val_accuracy: 0.8739 - val_auc_1: 0.9408 - lr: 0.0010\n",
            "Epoch 38/500\n",
            "9459/9459 [==============================] - 548s 58ms/step - loss: 0.2906 - accuracy: 0.8784 - auc_1: 0.9431 - val_loss: 0.3045 - val_accuracy: 0.8730 - val_auc_1: 0.9408 - lr: 0.0010\n",
            "Epoch 39/500\n",
            "9459/9459 [==============================] - 545s 58ms/step - loss: 0.2905 - accuracy: 0.8785 - auc_1: 0.9432 - val_loss: 0.3008 - val_accuracy: 0.8750 - val_auc_1: 0.9414 - lr: 0.0010\n",
            "Epoch 40/500\n",
            "9459/9459 [==============================] - 542s 57ms/step - loss: 0.2905 - accuracy: 0.8786 - auc_1: 0.9432 - val_loss: 0.3039 - val_accuracy: 0.8735 - val_auc_1: 0.9410 - lr: 0.0010\n",
            "Epoch 41/500\n",
            "9459/9459 [==============================] - 543s 57ms/step - loss: 0.2905 - accuracy: 0.8786 - auc_1: 0.9431 - val_loss: 0.3006 - val_accuracy: 0.8762 - val_auc_1: 0.9415 - lr: 0.0010\n",
            "Epoch 42/500\n",
            "9459/9459 [==============================] - 543s 57ms/step - loss: 0.2903 - accuracy: 0.8786 - auc_1: 0.9432 - val_loss: 0.3004 - val_accuracy: 0.8753 - val_auc_1: 0.9420 - lr: 0.0010\n",
            "Epoch 43/500\n",
            "9459/9459 [==============================] - 541s 57ms/step - loss: 0.2903 - accuracy: 0.8787 - auc_1: 0.9432 - val_loss: 0.3016 - val_accuracy: 0.8756 - val_auc_1: 0.9416 - lr: 0.0010\n",
            "Epoch 44/500\n",
            "9459/9459 [==============================] - 543s 57ms/step - loss: 0.2903 - accuracy: 0.8786 - auc_1: 0.9432 - val_loss: 0.3053 - val_accuracy: 0.8740 - val_auc_1: 0.9400 - lr: 0.0010\n",
            "Epoch 45/500\n",
            "9459/9459 [==============================] - 543s 57ms/step - loss: 0.2903 - accuracy: 0.8787 - auc_1: 0.9432 - val_loss: 0.3014 - val_accuracy: 0.8761 - val_auc_1: 0.9411 - lr: 0.0010\n",
            "Epoch 46/500\n",
            "9459/9459 [==============================] - 542s 57ms/step - loss: 0.2902 - accuracy: 0.8787 - auc_1: 0.9433 - val_loss: 0.3041 - val_accuracy: 0.8744 - val_auc_1: 0.9401 - lr: 0.0010\n",
            "Epoch 47/500\n",
            "9459/9459 [==============================] - 541s 57ms/step - loss: 0.2902 - accuracy: 0.8787 - auc_1: 0.9433 - val_loss: 0.3029 - val_accuracy: 0.8750 - val_auc_1: 0.9413 - lr: 0.0010\n",
            "Epoch 48/500\n",
            "9459/9459 [==============================] - 546s 58ms/step - loss: 0.2901 - accuracy: 0.8788 - auc_1: 0.9433 - val_loss: 0.3033 - val_accuracy: 0.8748 - val_auc_1: 0.9409 - lr: 0.0010\n",
            "Epoch 49/500\n",
            "9459/9459 [==============================] - 544s 58ms/step - loss: 0.2900 - accuracy: 0.8788 - auc_1: 0.9433 - val_loss: 0.3017 - val_accuracy: 0.8752 - val_auc_1: 0.9413 - lr: 0.0010\n",
            "Epoch 50/500\n",
            "9459/9459 [==============================] - 545s 58ms/step - loss: 0.2901 - accuracy: 0.8787 - auc_1: 0.9433 - val_loss: 0.3033 - val_accuracy: 0.8754 - val_auc_1: 0.9409 - lr: 0.0010\n",
            "Epoch 51/500\n",
            "9459/9459 [==============================] - 547s 58ms/step - loss: 0.2900 - accuracy: 0.8788 - auc_1: 0.9434 - val_loss: 0.3010 - val_accuracy: 0.8754 - val_auc_1: 0.9418 - lr: 0.0010\n",
            "Epoch 52/500\n",
            "9459/9459 [==============================] - 550s 58ms/step - loss: 0.2899 - accuracy: 0.8788 - auc_1: 0.9434 - val_loss: 0.2995 - val_accuracy: 0.8759 - val_auc_1: 0.9417 - lr: 0.0010\n",
            "Epoch 53/500\n",
            "9459/9459 [==============================] - 548s 58ms/step - loss: 0.2899 - accuracy: 0.8789 - auc_1: 0.9434 - val_loss: 0.3001 - val_accuracy: 0.8756 - val_auc_1: 0.9419 - lr: 0.0010\n",
            "Epoch 54/500\n",
            "9459/9459 [==============================] - 544s 58ms/step - loss: 0.2898 - accuracy: 0.8789 - auc_1: 0.9434 - val_loss: 0.3021 - val_accuracy: 0.8753 - val_auc_1: 0.9412 - lr: 0.0010\n",
            "Epoch 55/500\n",
            "9459/9459 [==============================] - 550s 58ms/step - loss: 0.2898 - accuracy: 0.8789 - auc_1: 0.9434 - val_loss: 0.3020 - val_accuracy: 0.8747 - val_auc_1: 0.9412 - lr: 0.0010\n",
            "Epoch 56/500\n",
            "9459/9459 [==============================] - 551s 58ms/step - loss: 0.2898 - accuracy: 0.8789 - auc_1: 0.9434 - val_loss: 0.3035 - val_accuracy: 0.8746 - val_auc_1: 0.9406 - lr: 0.0010\n",
            "Epoch 57/500\n",
            "9459/9459 [==============================] - 546s 58ms/step - loss: 0.2898 - accuracy: 0.8789 - auc_1: 0.9434 - val_loss: 0.3002 - val_accuracy: 0.8758 - val_auc_1: 0.9421 - lr: 0.0010\n",
            "Epoch 58/500\n",
            "9459/9459 [==============================] - 553s 58ms/step - loss: 0.2897 - accuracy: 0.8789 - auc_1: 0.9434 - val_loss: 0.3061 - val_accuracy: 0.8729 - val_auc_1: 0.9410 - lr: 0.0010\n",
            "Epoch 59/500\n",
            "9459/9459 [==============================] - 565s 60ms/step - loss: 0.2897 - accuracy: 0.8789 - auc_1: 0.9435 - val_loss: 0.3036 - val_accuracy: 0.8748 - val_auc_1: 0.9411 - lr: 0.0010\n",
            "Epoch 60/500\n",
            "9459/9459 [==============================] - 561s 59ms/step - loss: 0.2897 - accuracy: 0.8789 - auc_1: 0.9435 - val_loss: 0.3034 - val_accuracy: 0.8736 - val_auc_1: 0.9413 - lr: 0.0010\n",
            "Epoch 61/500\n",
            "9459/9459 [==============================] - 561s 59ms/step - loss: 0.2896 - accuracy: 0.8790 - auc_1: 0.9435 - val_loss: 0.3019 - val_accuracy: 0.8753 - val_auc_1: 0.9418 - lr: 0.0010\n",
            "Epoch 62/500\n",
            "9459/9459 [==============================] - 565s 60ms/step - loss: 0.2896 - accuracy: 0.8790 - auc_1: 0.9435 - val_loss: 0.3032 - val_accuracy: 0.8753 - val_auc_1: 0.9413 - lr: 0.0010\n",
            "Epoch 63/500\n",
            "9459/9459 [==============================] - 562s 59ms/step - loss: 0.2896 - accuracy: 0.8789 - auc_1: 0.9435 - val_loss: 0.2991 - val_accuracy: 0.8756 - val_auc_1: 0.9412 - lr: 0.0010\n",
            "Epoch 64/500\n",
            "9459/9459 [==============================] - 561s 59ms/step - loss: 0.2896 - accuracy: 0.8790 - auc_1: 0.9435 - val_loss: 0.3019 - val_accuracy: 0.8750 - val_auc_1: 0.9411 - lr: 0.0010\n",
            "Epoch 65/500\n",
            "9459/9459 [==============================] - 556s 59ms/step - loss: 0.2896 - accuracy: 0.8790 - auc_1: 0.9435 - val_loss: 0.3022 - val_accuracy: 0.8758 - val_auc_1: 0.9414 - lr: 0.0010\n",
            "Epoch 66/500\n",
            "9459/9459 [==============================] - 547s 58ms/step - loss: 0.2895 - accuracy: 0.8790 - auc_1: 0.9435 - val_loss: 0.3029 - val_accuracy: 0.8748 - val_auc_1: 0.9408 - lr: 0.0010\n",
            "Epoch 67/500\n",
            "9459/9459 [==============================] - 553s 58ms/step - loss: 0.2895 - accuracy: 0.8791 - auc_1: 0.9435 - val_loss: 0.3021 - val_accuracy: 0.8754 - val_auc_1: 0.9413 - lr: 0.0010\n",
            "Epoch 68/500\n",
            "9459/9459 [==============================] - 560s 59ms/step - loss: 0.2895 - accuracy: 0.8791 - auc_1: 0.9435 - val_loss: 0.3028 - val_accuracy: 0.8747 - val_auc_1: 0.9414 - lr: 0.0010\n",
            "Epoch 69/500\n",
            "9459/9459 [==============================] - 562s 59ms/step - loss: 0.2895 - accuracy: 0.8791 - auc_1: 0.9435 - val_loss: 0.3011 - val_accuracy: 0.8771 - val_auc_1: 0.9420 - lr: 0.0010\n",
            "Epoch 70/500\n",
            "9459/9459 [==============================] - 564s 60ms/step - loss: 0.2895 - accuracy: 0.8791 - auc_1: 0.9435 - val_loss: 0.3027 - val_accuracy: 0.8751 - val_auc_1: 0.9413 - lr: 0.0010\n",
            "Epoch 71/500\n",
            "9459/9459 [==============================] - 564s 60ms/step - loss: 0.2894 - accuracy: 0.8791 - auc_1: 0.9436 - val_loss: 0.3015 - val_accuracy: 0.8757 - val_auc_1: 0.9413 - lr: 0.0010\n",
            "Epoch 72/500\n",
            " 341/9459 [>.............................] - ETA: 8:19 - loss: 0.2887 - accuracy: 0.8791 - auc_1: 0.9438"
          ]
        }
      ]
    },
    {
      "cell_type": "code",
      "metadata": {
        "id": "o4BgJMzV4N_d"
      },
      "source": [
        ""
      ],
      "execution_count": null,
      "outputs": []
    },
    {
      "cell_type": "code",
      "metadata": {
        "id": "Oy_RLUyn4N86"
      },
      "source": [
        ""
      ],
      "execution_count": null,
      "outputs": []
    },
    {
      "cell_type": "code",
      "metadata": {
        "id": "nQMKs9OY4N6m"
      },
      "source": [
        ""
      ],
      "execution_count": null,
      "outputs": []
    },
    {
      "cell_type": "code",
      "metadata": {
        "id": "K2wXGMk54N30"
      },
      "source": [
        ""
      ],
      "execution_count": null,
      "outputs": []
    },
    {
      "cell_type": "code",
      "metadata": {
        "id": "o6Ma7KqY4N05"
      },
      "source": [
        ""
      ],
      "execution_count": null,
      "outputs": []
    },
    {
      "cell_type": "code",
      "metadata": {
        "id": "Uy5bTgYj4Nyk"
      },
      "source": [
        ""
      ],
      "execution_count": null,
      "outputs": []
    },
    {
      "cell_type": "code",
      "metadata": {
        "id": "YVJERL1a4Nvf"
      },
      "source": [
        ""
      ],
      "execution_count": null,
      "outputs": []
    },
    {
      "cell_type": "code",
      "metadata": {
        "id": "GSAl5ol34Ns3"
      },
      "source": [
        ""
      ],
      "execution_count": null,
      "outputs": []
    },
    {
      "cell_type": "code",
      "metadata": {
        "id": "DeqzCj9B4Np-"
      },
      "source": [
        ""
      ],
      "execution_count": null,
      "outputs": []
    },
    {
      "cell_type": "code",
      "metadata": {
        "id": "7fr7ygKn4NnO"
      },
      "source": [
        ""
      ],
      "execution_count": null,
      "outputs": []
    },
    {
      "cell_type": "code",
      "metadata": {
        "id": "tAb77yZ9fzMG"
      },
      "source": [
        "import pandas as pd\n",
        "import numpy as np\n",
        "import librosa\n",
        "import librosa.display\n",
        "from matplotlib import pyplot as plt\n",
        "import sklearn\n",
        "import glob\n",
        "import pickle\n",
        "import itertools\n",
        "import tensorflow as tf\n",
        "from tensorflow import keras\n",
        "from keras import layers"
      ],
      "execution_count": null,
      "outputs": []
    },
    {
      "cell_type": "code",
      "metadata": {
        "id": "pafL7Li0jyXW"
      },
      "source": [
        "# delta_1 = open(\"/content/drive/MyDrive/train_delta_1.pkl\", \"rb\")\n",
        "# train_delta_1 = pickle.load(delta_1)\n",
        "# delta_2 = open(\"/content/drive/MyDrive/train_delta_2.pkl\", \"rb\")\n",
        "# train_delta_2 = pickle.load(delta_2)\n",
        "mfccs = open(\"/content/drive/MyDrive/train_mfcc.pkl\", \"rb\")\n",
        "train_set = pickle.load(mfccs)\n",
        "y = open(\"/content/drive/MyDrive/y_train.pkl\", \"rb\")\n",
        "y_train = pickle.load(y)"
      ],
      "execution_count": null,
      "outputs": []
    },
    {
      "cell_type": "code",
      "metadata": {
        "id": "7U2qYy_Cf6GG"
      },
      "source": [
        "mfccs = open(\"/content/drive/MyDrive/X_valid.pkl\", \"rb\")\n",
        "X_valid = pickle.load(mfccs)\n",
        "# delta_1 = open(\"/content/drive/MyDrive/valid_delta_1.pkl\", \"rb\")\n",
        "# valid_delta_1 = pickle.load(delta_1)\n",
        "# delta_2 = open(\"/content/drive/MyDrive/valid_delta_2.pkl\", \"rb\")\n",
        "# valid_delta_2 = pickle.load(delta_2)\n",
        "y = open(\"/content/drive/MyDrive/y_valid.pkl\", \"rb\")\n",
        "y_valid = pickle.load(y)"
      ],
      "execution_count": null,
      "outputs": []
    },
    {
      "cell_type": "code",
      "metadata": {
        "id": "u2ndCs53B-hN"
      },
      "source": [
        "X_valid = X_valid[:, :24]"
      ],
      "execution_count": null,
      "outputs": []
    },
    {
      "cell_type": "code",
      "metadata": {
        "colab": {
          "base_uri": "https://localhost:8080/"
        },
        "id": "8Wmz3ju8V6x1",
        "outputId": "04cc841e-d25c-4dcb-adfc-f7d213096359"
      },
      "source": [
        "X_valid.shape"
      ],
      "execution_count": null,
      "outputs": [
        {
          "data": {
            "text/plain": [
              "(3606088, 24)"
            ]
          },
          "execution_count": 9,
          "metadata": {},
          "output_type": "execute_result"
        }
      ]
    },
    {
      "cell_type": "code",
      "metadata": {
        "id": "hO9K6siqzIJO"
      },
      "source": [
        "train_set = np.append(train_set, train_delta_1, axis=1)\n",
        "# train_set = np.append(train_set, y_train, axis=1)"
      ],
      "execution_count": null,
      "outputs": []
    },
    {
      "cell_type": "code",
      "metadata": {
        "colab": {
          "base_uri": "https://localhost:8080/"
        },
        "id": "mXXwrbLF_Cz3",
        "outputId": "1cf3cae5-bbbb-4284-d722-964edc932a13"
      },
      "source": [
        "train_set.shape"
      ],
      "execution_count": null,
      "outputs": [
        {
          "data": {
            "text/plain": [
              "(9685240, 48)"
            ]
          },
          "execution_count": 6,
          "metadata": {},
          "output_type": "execute_result"
        }
      ]
    },
    {
      "cell_type": "code",
      "metadata": {
        "id": "HwOh7aRrMc8C"
      },
      "source": [
        "train_set = pd.DataFrame(train_set)"
      ],
      "execution_count": null,
      "outputs": []
    },
    {
      "cell_type": "code",
      "metadata": {
        "id": "ju2rN9y_NOLw"
      },
      "source": [
        "train_class_0 = train_set[train_set.iloc[:,-1] ==0]\n",
        "train_class_1 = train_set[train_set.iloc[:,-1] ==1]"
      ],
      "execution_count": null,
      "outputs": []
    },
    {
      "cell_type": "code",
      "metadata": {
        "colab": {
          "base_uri": "https://localhost:8080/"
        },
        "id": "C8IqWeEq-1Ad",
        "outputId": "bb28c5ea-7d16-4bd3-820a-281151e0760d"
      },
      "source": [
        "train_class_1.shape[0] + (0.4 * train_class_1.shape[0])"
      ],
      "execution_count": null,
      "outputs": [
        {
          "data": {
            "text/plain": [
              "5025342.0"
            ]
          },
          "execution_count": 64,
          "metadata": {},
          "output_type": "execute_result"
        }
      ]
    },
    {
      "cell_type": "code",
      "metadata": {
        "id": "F2QJXbyjNEJR"
      },
      "source": [
        "under_class_0 = train_class_0.sample(train_class_1.shape[0])"
      ],
      "execution_count": null,
      "outputs": []
    },
    {
      "cell_type": "code",
      "metadata": {
        "id": "IC-EpU7OOHr3"
      },
      "source": [
        "train_set = pd.concat([under_class_0, train_class_1])"
      ],
      "execution_count": null,
      "outputs": []
    },
    {
      "cell_type": "code",
      "metadata": {
        "id": "J1BLlgDZOWAY"
      },
      "source": [
        "train_set = train_set.to_numpy()"
      ],
      "execution_count": null,
      "outputs": []
    },
    {
      "cell_type": "code",
      "metadata": {
        "colab": {
          "base_uri": "https://localhost:8080/"
        },
        "id": "asqw588CNA2x",
        "outputId": "6cf08cf5-d886-40f0-e3ad-b4e5ec6d9b36"
      },
      "source": [
        "train_set.shape"
      ],
      "execution_count": null,
      "outputs": [
        {
          "data": {
            "text/plain": [
              "(7179060, 25)"
            ]
          },
          "execution_count": 35,
          "metadata": {},
          "output_type": "execute_result"
        }
      ]
    },
    {
      "cell_type": "code",
      "metadata": {
        "id": "RNZ4CBSCOkW_"
      },
      "source": [
        "X_valid = np.append(X_valid, y_valid, axis=1)"
      ],
      "execution_count": null,
      "outputs": []
    },
    {
      "cell_type": "code",
      "metadata": {
        "id": "Y6HXhaYEOwIe"
      },
      "source": [
        "valid_set.shape"
      ],
      "execution_count": null,
      "outputs": []
    },
    {
      "cell_type": "code",
      "metadata": {
        "id": "cCjNFL7-7Rgm"
      },
      "source": [
        "# train_delta_1 = np.append(train_delta_1, train_delta_2, axis=1)\n",
        "# valid_delta_1 = np.append(valid_delta_1, valid_delta_2, axis=1)"
      ],
      "execution_count": null,
      "outputs": []
    },
    {
      "cell_type": "code",
      "metadata": {
        "id": "e2eUZ48tgAuZ"
      },
      "source": [
        "# train_ds = np.append(train_mfccs, train_delta_1, axis=1)\n",
        "# valid_ds = np.append(valid_mfccs, valid_delta_1, axis=1)"
      ],
      "execution_count": null,
      "outputs": []
    },
    {
      "cell_type": "code",
      "metadata": {
        "id": "p3J8neBjgDMk"
      },
      "source": [
        "# valid_set = tf.data.Dataset.from_tensor_slices((valid_set[:, :-1], valid_set[:, -1]))\n",
        "train_set = tf.data.Dataset.from_tensor_slices((train_set[:, :-1], train_set[:, -1]))"
      ],
      "execution_count": null,
      "outputs": []
    },
    {
      "cell_type": "code",
      "metadata": {
        "id": "_IB5oIdQdePU"
      },
      "source": [
        "X_valid = X_valid.reshape(-1, 1, 24, 1)\n",
        "train_set = train_set.reshape(-1, 1, 24, 1)"
      ],
      "execution_count": null,
      "outputs": []
    },
    {
      "cell_type": "code",
      "metadata": {
        "colab": {
          "base_uri": "https://localhost:8080/"
        },
        "id": "tn0920EBiWHo",
        "outputId": "04798945-6ae2-49c4-bbb9-ef44fd8cd7f4"
      },
      "source": [
        "X_valid.shape"
      ],
      "execution_count": null,
      "outputs": [
        {
          "data": {
            "text/plain": [
              "(3606088, 48, 1, 1)"
            ]
          },
          "execution_count": 17,
          "metadata": {},
          "output_type": "execute_result"
        }
      ]
    },
    {
      "cell_type": "code",
      "metadata": {
        "id": "zQL42dpXRa1A"
      },
      "source": [
        "X_valid = tf.data.Dataset.from_tensor_slices((X_valid, y_valid))\n",
        "train_set = tf.data.Dataset.from_tensor_slices((train_set, y_train))"
      ],
      "execution_count": null,
      "outputs": []
    },
    {
      "cell_type": "code",
      "metadata": {
        "id": "JZ5Ttd8VgE5r"
      },
      "source": [
        "batch_size = 512\n",
        "window_length = 100\n",
        "AUTOTUNE = tf.data.AUTOTUNE\n",
        "\n",
        "def prepare(ds, shuffle=False, train=False):\n",
        "  # Batch all datasets.\n",
        "  # ds = ds.window(window_length, shift=50, drop_remainder=True)\n",
        "  # ds = ds.flat_map(lambda window: window.batch(window_length))\n",
        "\n",
        "  if train == True :\n",
        "    ds = ds.shuffle(100)\n",
        "\n",
        "  ds = ds.batch(batch_size)\n",
        "\n",
        "  return ds.prefetch(AUTOTUNE)"
      ],
      "execution_count": null,
      "outputs": []
    },
    {
      "cell_type": "code",
      "metadata": {
        "id": "Zn6uda8IgHLg"
      },
      "source": [
        "train_set = prepare(train_set, train=True)\n",
        "X_valid = prepare(X_valid)"
      ],
      "execution_count": null,
      "outputs": []
    },
    {
      "cell_type": "code",
      "metadata": {
        "id": "C60nuccQgQBm"
      },
      "source": [
        "from keras import layers\n",
        "input = layers.Input((None, 24), name=\"input\")\n",
        "    # Expand the dimension to use 2D CNN.\n",
        "x = layers.Reshape((-1, 24, 1), name=\"expand_dim\")(input)\n",
        "    # Convolution layer 1\n",
        "x = layers.Conv2D(filters=16, kernel_size=[4, 4], padding=\"same\", kernel_regularizer=keras.regularizers.l2(0.01))(x)\n",
        "x = layers.BatchNormalization(name=\"conv_1_bn\")(x)\n",
        "x = layers.ReLU(name=\"conv_1_relu\")(x)\n",
        "x = layers.MaxPooling2D((2,2), padding=\"same\")(x)\n",
        "    # Convolution layer 2\n",
        "# x = layers.Conv2D(filters=64, kernel_size=[4, 4], padding=\"same\",)(x)\n",
        "# x = layers.BatchNormalization(name=\"conv_2_bn\")(x)\n",
        "# x = layers.ReLU(name=\"conv_2_relu\")(x)\n",
        "# x = layers.MaxPooling2D((2,2), padding=\"same\")(x)\n",
        "    # Reshape the resulted volume to feed the RNNs layers\n",
        "x = layers.Reshape((-1, x.shape[-2] * x.shape[-1]))(x)\n",
        "    # RNN layers\n",
        "# x = layers.GRU(units=128, return_sequences = True)(x)\n",
        "# x = layers.Dropout(rate=0.5)(x)\n",
        "x = layers.GRU(units=50, kernel_regularizer=keras.regularizers.l2(0.01))(x)\n",
        "x = layers.Dropout(rate=0.5)(x)    \n",
        "# Dense layer\n",
        "# x = layers.Dense(units=128, name=\"dense\", kernel_initializer=\"he_normal\")(x)\n",
        "# x = layers.ReLU(name=\"dense_relu\")(x)\n",
        "# x = layers.Dropout(rate=0.5)(x)\n",
        "x = layers.Dense(units=10, name=\"dense2\", kernel_initializer=\"he_normal\",  kernel_regularizer=keras.regularizers.l2(0.01))(x)\n",
        "x = layers.ReLU(name=\"dense_2_relu\")(x)\n",
        "    # Classification layer\n",
        "output = layers.Dense(units=1, activation=\"sigmoid\")(x)\n",
        "    # Model\n",
        "model = keras.Model(input, output)"
      ],
      "execution_count": null,
      "outputs": []
    },
    {
      "cell_type": "code",
      "metadata": {
        "id": "fICXP2eRH-YH"
      },
      "source": [
        "input = keras.layers.Input((None, 48))\n",
        "x = keras.layers.Reshape((-1, 48, 1))(input)\n",
        "x = keras.layers.Conv2D(32, 4, padding=\"same\")(x)\n",
        "x = keras.layers.BatchNormalization()(x) \n",
        "x = keras.layers.Activation(\"relu\")(x)\n",
        "x = keras.layers.Conv2D(64, 4, padding=\"same\")(x)\n",
        "x = keras.layers.BatchNormalization()(x)\n",
        "x = keras.layers.Activation(\"relu\")(x)\n",
        "x = keras.layers.Reshape((-1, x.shape[-2] * x.shape[-1]))(x)\n",
        "x = keras.layers.SimpleRNN(64)(x)\n",
        "x = keras.layers.Dropout(.5)(x)\n",
        "x = keras.layers.Dense(64)(x)\n",
        "x = keras.layers.Activation(\"relu\")(x)\n",
        "x = keras.layers.BatchNormalization()(x)\n",
        "output = keras.layers.Dense(units=1, activation=\"sigmoid\")(x)\n",
        "model = keras.Model(input, output)"
      ],
      "execution_count": null,
      "outputs": []
    },
    {
      "cell_type": "code",
      "metadata": {
        "id": "qKBkZEXFBi1W"
      },
      "source": [
        "model = keras.models.Sequential([     \n",
        "    keras.layers.Conv2D(32, 4, activation=\"relu\", padding=\"same\",\n",
        "    input_shape=[1, 24, 1]),    \n",
        "    keras.layers.MaxPooling2D((2,2), padding='same'),                       \n",
        "    # keras.layers.Conv2D(64, 4, activation=\"relu\", padding=\"same\"),\n",
        "    # keras.layers.MaxPooling2D((2,2), padding='same'),  \n",
        "    # keras.layers.Conv2D(128, 3, activation=\"relu\", padding=\"same\"),\n",
        "    # keras.layers.MaxPooling2D((2,2), padding='same'),  \n",
        "    # keras.layers.BatchNormalization(),\n",
        "    # keras.layers.Conv2D(256, 3, activation=\"relu\", padding=\"same\"),\n",
        "    # keras.layers.MaxPooling2D((2,2), padding='same'),  \n",
        "    # keras.layers.BatchNormalization(),\n",
        "    keras.layers.Flatten(),\n",
        "    # keras.layers.LSTM(64, input_shape=[]),\n",
        "    keras.layers.Dense(60, activation=\"relu\"),\n",
        "    # keras.layers.SimpleRNN(64),\n",
        "    keras.layers.Dropout(.5),\n",
        "    # keras.layers.Dense(10, activation=\"relu\"),\n",
        "    keras.layers.Dense(1, activation=\"sigmoid\")\n",
        "])"
      ],
      "execution_count": null,
      "outputs": []
    },
    {
      "cell_type": "code",
      "metadata": {
        "colab": {
          "base_uri": "https://localhost:8080/"
        },
        "id": "fWrHVh5GovQw",
        "outputId": "97c08c50-1472-4bc6-ece0-2324747ff438"
      },
      "source": [
        "model.summary()"
      ],
      "execution_count": null,
      "outputs": [
        {
          "name": "stdout",
          "output_type": "stream",
          "text": [
            "Model: \"sequential\"\n",
            "_________________________________________________________________\n",
            " Layer (type)                Output Shape              Param #   \n",
            "=================================================================\n",
            " conv2d (Conv2D)             (None, 1, 24, 32)         544       \n",
            "                                                                 \n",
            " max_pooling2d (MaxPooling2D  (None, 1, 12, 32)        0         \n",
            " )                                                               \n",
            "                                                                 \n",
            " conv2d_1 (Conv2D)           (None, 1, 12, 64)         32832     \n",
            "                                                                 \n",
            " max_pooling2d_1 (MaxPooling  (None, 1, 6, 64)         0         \n",
            " 2D)                                                             \n",
            "                                                                 \n",
            " conv2d_2 (Conv2D)           (None, 1, 6, 128)         73856     \n",
            "                                                                 \n",
            " max_pooling2d_2 (MaxPooling  (None, 1, 3, 128)        0         \n",
            " 2D)                                                             \n",
            "                                                                 \n",
            " flatten (Flatten)           (None, 384)               0         \n",
            "                                                                 \n",
            " dense (Dense)               (None, 128)               49280     \n",
            "                                                                 \n",
            " dropout (Dropout)           (None, 128)               0         \n",
            "                                                                 \n",
            " dense_1 (Dense)             (None, 10)                1290      \n",
            "                                                                 \n",
            " dense_2 (Dense)             (None, 1)                 11        \n",
            "                                                                 \n",
            "=================================================================\n",
            "Total params: 157,813\n",
            "Trainable params: 157,813\n",
            "Non-trainable params: 0\n",
            "_________________________________________________________________\n"
          ]
        }
      ]
    },
    {
      "cell_type": "code",
      "metadata": {
        "id": "QXGWu0Tw0Ek8"
      },
      "source": [
        "def exponential_decay(lr0, s):\n",
        "  def exponential_decay_fn(step):\n",
        "    return lr0 * 0.1**(step / s)\n",
        "  return exponential_decay_fn\n",
        "exponential_decay_fn = exponential_decay(lr0=0.05, s=20)"
      ],
      "execution_count": null,
      "outputs": []
    },
    {
      "cell_type": "code",
      "metadata": {
        "id": "pcK3yCRUgVPH"
      },
      "source": [
        "opt = keras.optimizers.Adam(clipvalue=1.0)\n",
        "import focal_loss\n",
        "model.compile(\n",
        "            loss=focal_loss.BinaryFocalLoss(gamma=2),\n",
        "            optimizer=opt,\n",
        "            metrics=[\"accuracy\", keras.metrics.AUC()]\n",
        ")"
      ],
      "execution_count": null,
      "outputs": []
    },
    {
      "cell_type": "code",
      "metadata": {
        "id": "K54NdB-kgW_2"
      },
      "source": [
        "es_callback = keras.callbacks.EarlyStopping(patience=5, verbose=1, restore_best_weights=True)\n",
        "lr_scheduler = keras.callbacks.LearningRateScheduler(exponential_decay_fn)"
      ],
      "execution_count": null,
      "outputs": []
    },
    {
      "cell_type": "code",
      "metadata": {
        "colab": {
          "base_uri": "https://localhost:8080/"
        },
        "id": "t_VW8u0ugW5e",
        "outputId": "4b642ce1-0eae-4dd2-f2a7-5d9c7a171291"
      },
      "source": [
        "history = model.fit(train_set, epochs=20, validation_data=X_valid , verbose = 1, callbacks=[es_callback], batch_size=512)"
      ],
      "execution_count": null,
      "outputs": [
        {
          "name": "stdout",
          "output_type": "stream",
          "text": [
            "Epoch 1/20\n",
            "18917/18917 [==============================] - 461s 24ms/step - loss: 0.0874 - accuracy: 0.8641 - auc_3: 0.9280 - val_loss: 1.8109 - val_accuracy: 0.6233 - val_auc_3: 0.7971\n",
            "Epoch 2/20\n",
            "18917/18917 [==============================] - 459s 24ms/step - loss: 0.0863 - accuracy: 0.8658 - auc_3: 0.9300 - val_loss: 1.5161 - val_accuracy: 0.6233 - val_auc_3: 0.8589\n",
            "Epoch 3/20\n",
            "18917/18917 [==============================] - 480s 25ms/step - loss: 0.0860 - accuracy: 0.8663 - auc_3: 0.9305 - val_loss: 1.8197 - val_accuracy: 0.6233 - val_auc_3: 0.7865\n",
            "Epoch 4/20\n",
            "18917/18917 [==============================] - 459s 24ms/step - loss: 0.0860 - accuracy: 0.8664 - auc_3: 0.9307 - val_loss: 1.6453 - val_accuracy: 0.6233 - val_auc_3: 0.8285\n",
            "Epoch 5/20\n",
            "18917/18917 [==============================] - 404s 21ms/step - loss: 0.0858 - accuracy: 0.8665 - auc_3: 0.9310 - val_loss: 1.7618 - val_accuracy: 0.6233 - val_auc_3: 0.8010\n",
            "Epoch 6/20\n",
            "18917/18917 [==============================] - 458s 24ms/step - loss: 0.0858 - accuracy: 0.8668 - auc_3: 0.9311 - val_loss: 1.7075 - val_accuracy: 0.6233 - val_auc_3: 0.8051\n",
            "Epoch 7/20\n",
            "18916/18917 [============================>.] - ETA: 0s - loss: 0.0858 - accuracy: 0.8669 - auc_3: 0.9312Restoring model weights from the end of the best epoch: 2.\n",
            "18917/18917 [==============================] - 417s 22ms/step - loss: 0.0858 - accuracy: 0.8669 - auc_3: 0.9312 - val_loss: 1.9829 - val_accuracy: 0.6233 - val_auc_3: 0.6999\n",
            "Epoch 00007: early stopping\n"
          ]
        }
      ]
    },
    {
      "cell_type": "code",
      "metadata": {
        "id": "0GEax0zUhfUe"
      },
      "source": [
        ""
      ],
      "execution_count": null,
      "outputs": []
    }
  ]
}